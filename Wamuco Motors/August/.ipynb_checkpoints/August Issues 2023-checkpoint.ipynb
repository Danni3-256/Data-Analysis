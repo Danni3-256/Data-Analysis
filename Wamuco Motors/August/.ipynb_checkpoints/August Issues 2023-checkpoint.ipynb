{
 "cells": [
  {
   "cell_type": "code",
   "execution_count": 1,
   "id": "93047daa",
   "metadata": {},
   "outputs": [],
   "source": [
    "import pandas as pd\n",
    "import numpy as np\n",
    "import seaborn as sns\n",
    "import matplotlib.pyplot as plt\n",
    "import openpyxl\n",
    "import warnings\n",
    "warnings.filterwarnings('ignore')"
   ]
  },
  {
   "cell_type": "code",
   "execution_count": 2,
   "id": "bbff9566",
   "metadata": {},
   "outputs": [
    {
     "data": {
      "text/html": [
       "<div>\n",
       "<style scoped>\n",
       "    .dataframe tbody tr th:only-of-type {\n",
       "        vertical-align: middle;\n",
       "    }\n",
       "\n",
       "    .dataframe tbody tr th {\n",
       "        vertical-align: top;\n",
       "    }\n",
       "\n",
       "    .dataframe thead th {\n",
       "        text-align: right;\n",
       "    }\n",
       "</style>\n",
       "<table border=\"1\" class=\"dataframe\">\n",
       "  <thead>\n",
       "    <tr style=\"text-align: right;\">\n",
       "      <th></th>\n",
       "      <th>Date</th>\n",
       "      <th>Issued To</th>\n",
       "      <th>Item Name</th>\n",
       "      <th>Qty</th>\n",
       "      <th>Unit Price</th>\n",
       "      <th>Amount</th>\n",
       "    </tr>\n",
       "  </thead>\n",
       "  <tbody>\n",
       "    <tr>\n",
       "      <th>0</th>\n",
       "      <td>2023-08-01</td>\n",
       "      <td>NaN</td>\n",
       "      <td>UNKNOWN</td>\n",
       "      <td>NaN</td>\n",
       "      <td>NaN</td>\n",
       "      <td>NaN</td>\n",
       "    </tr>\n",
       "    <tr>\n",
       "      <th>1</th>\n",
       "      <td>2023-08-01</td>\n",
       "      <td>NaN</td>\n",
       "      <td>Engine Oil Delo Silver SAE40/ Diesel Engine Oil</td>\n",
       "      <td>9.0</td>\n",
       "      <td>12000.0</td>\n",
       "      <td>108000.0</td>\n",
       "    </tr>\n",
       "    <tr>\n",
       "      <th>2</th>\n",
       "      <td>2023-08-01</td>\n",
       "      <td>NaN</td>\n",
       "      <td>Oil Filter 04152-38020,YZZA4  L/C VDJ200R</td>\n",
       "      <td>1.0</td>\n",
       "      <td>48284.0</td>\n",
       "      <td>48284.0</td>\n",
       "    </tr>\n",
       "    <tr>\n",
       "      <th>3</th>\n",
       "      <td>2023-08-01</td>\n",
       "      <td>NaN</td>\n",
       "      <td>Diesel Filter 23390-51070 - L/C Hzj 76,79,VDJ200R</td>\n",
       "      <td>1.0</td>\n",
       "      <td>39500.0</td>\n",
       "      <td>39500.0</td>\n",
       "    </tr>\n",
       "    <tr>\n",
       "      <th>4</th>\n",
       "      <td>2023-08-01</td>\n",
       "      <td>NaN</td>\n",
       "      <td>Air Cleaner 17801-51020 LC VDJ 200R</td>\n",
       "      <td>1.0</td>\n",
       "      <td>98034.0</td>\n",
       "      <td>98034.0</td>\n",
       "    </tr>\n",
       "    <tr>\n",
       "      <th>5</th>\n",
       "      <td>2023-08-01</td>\n",
       "      <td>NaN</td>\n",
       "      <td>NATIONAL WATER AND SEWERAGE CORPORATION(NWSC)</td>\n",
       "      <td>0.0</td>\n",
       "      <td>0.0</td>\n",
       "      <td>0.0</td>\n",
       "    </tr>\n",
       "    <tr>\n",
       "      <th>6</th>\n",
       "      <td>2023-08-01</td>\n",
       "      <td>NaN</td>\n",
       "      <td>Z-Link 48810-0K010  Lan,Kun25r</td>\n",
       "      <td>1.0</td>\n",
       "      <td>165000.0</td>\n",
       "      <td>165000.0</td>\n",
       "    </tr>\n",
       "    <tr>\n",
       "      <th>7</th>\n",
       "      <td>2023-08-01</td>\n",
       "      <td>NaN</td>\n",
       "      <td>Z-Link 48820-0K030 Lan,Kun25r</td>\n",
       "      <td>1.0</td>\n",
       "      <td>165000.0</td>\n",
       "      <td>165000.0</td>\n",
       "    </tr>\n",
       "    <tr>\n",
       "      <th>8</th>\n",
       "      <td>2023-08-01</td>\n",
       "      <td>NaN</td>\n",
       "      <td>UPDF</td>\n",
       "      <td>0.0</td>\n",
       "      <td>0.0</td>\n",
       "      <td>0.0</td>\n",
       "    </tr>\n",
       "    <tr>\n",
       "      <th>9</th>\n",
       "      <td>2023-08-01</td>\n",
       "      <td>NaN</td>\n",
       "      <td>Rear Brake Pads 04466-60160 LC VDJ 200R/KD2388</td>\n",
       "      <td>1.0</td>\n",
       "      <td>240000.0</td>\n",
       "      <td>240000.0</td>\n",
       "    </tr>\n",
       "  </tbody>\n",
       "</table>\n",
       "</div>"
      ],
      "text/plain": [
       "        Date  Issued To                                          Item Name  \\\n",
       "0 2023-08-01        NaN                                            UNKNOWN   \n",
       "1 2023-08-01        NaN    Engine Oil Delo Silver SAE40/ Diesel Engine Oil   \n",
       "2 2023-08-01        NaN          Oil Filter 04152-38020,YZZA4  L/C VDJ200R   \n",
       "3 2023-08-01        NaN  Diesel Filter 23390-51070 - L/C Hzj 76,79,VDJ200R   \n",
       "4 2023-08-01        NaN                Air Cleaner 17801-51020 LC VDJ 200R   \n",
       "5 2023-08-01        NaN      NATIONAL WATER AND SEWERAGE CORPORATION(NWSC)   \n",
       "6 2023-08-01        NaN                     Z-Link 48810-0K010  Lan,Kun25r   \n",
       "7 2023-08-01        NaN                      Z-Link 48820-0K030 Lan,Kun25r   \n",
       "8 2023-08-01        NaN                                               UPDF   \n",
       "9 2023-08-01        NaN     Rear Brake Pads 04466-60160 LC VDJ 200R/KD2388   \n",
       "\n",
       "   Qty   Unit Price    Amount  \n",
       "0   NaN         NaN       NaN  \n",
       "1   9.0     12000.0  108000.0  \n",
       "2   1.0     48284.0   48284.0  \n",
       "3   1.0     39500.0   39500.0  \n",
       "4   1.0     98034.0   98034.0  \n",
       "5   0.0         0.0       0.0  \n",
       "6   1.0    165000.0  165000.0  \n",
       "7   1.0    165000.0  165000.0  \n",
       "8   0.0         0.0       0.0  \n",
       "9   1.0    240000.0  240000.0  "
      ]
     },
     "execution_count": 2,
     "metadata": {},
     "output_type": "execute_result"
    }
   ],
   "source": [
    "#Importing File\n",
    "df = pd.read_excel('Stock Issues 1-12 August 2023.xlsx')\n",
    "df.head(10)"
   ]
  },
  {
   "cell_type": "code",
   "execution_count": 3,
   "id": "e5ae9f2c",
   "metadata": {},
   "outputs": [
    {
     "data": {
      "text/plain": [
       "(1370, 6)"
      ]
     },
     "execution_count": 3,
     "metadata": {},
     "output_type": "execute_result"
    }
   ],
   "source": [
    "df.shape #Shape of our data - Rows and Columns"
   ]
  },
  {
   "cell_type": "markdown",
   "id": "fa81d822",
   "metadata": {},
   "source": [
    "# Data Cleaning and Transformation"
   ]
  },
  {
   "cell_type": "code",
   "execution_count": 4,
   "id": "235d3395",
   "metadata": {},
   "outputs": [
    {
     "name": "stdout",
     "output_type": "stream",
     "text": [
      "<class 'pandas.core.frame.DataFrame'>\n",
      "RangeIndex: 1370 entries, 0 to 1369\n",
      "Data columns (total 6 columns):\n",
      " #   Column      Non-Null Count  Dtype         \n",
      "---  ------      --------------  -----         \n",
      " 0   Date        1370 non-null   datetime64[ns]\n",
      " 1   Issued To   0 non-null      float64       \n",
      " 2   Item Name   1370 non-null   object        \n",
      " 3   Qty         1186 non-null   float64       \n",
      " 4   Unit Price  1178 non-null   float64       \n",
      " 5   Amount      1178 non-null   float64       \n",
      "dtypes: datetime64[ns](1), float64(4), object(1)\n",
      "memory usage: 64.3+ KB\n"
     ]
    }
   ],
   "source": [
    "df.info()"
   ]
  },
  {
   "cell_type": "code",
   "execution_count": 5,
   "id": "e4130616",
   "metadata": {},
   "outputs": [
    {
     "data": {
      "text/html": [
       "<div>\n",
       "<style scoped>\n",
       "    .dataframe tbody tr th:only-of-type {\n",
       "        vertical-align: middle;\n",
       "    }\n",
       "\n",
       "    .dataframe tbody tr th {\n",
       "        vertical-align: top;\n",
       "    }\n",
       "\n",
       "    .dataframe thead th {\n",
       "        text-align: right;\n",
       "    }\n",
       "</style>\n",
       "<table border=\"1\" class=\"dataframe\">\n",
       "  <thead>\n",
       "    <tr style=\"text-align: right;\">\n",
       "      <th></th>\n",
       "      <th>Date</th>\n",
       "      <th>Issued To</th>\n",
       "      <th>Item Name</th>\n",
       "      <th>Qty</th>\n",
       "      <th>Unit Price</th>\n",
       "      <th>Amount</th>\n",
       "    </tr>\n",
       "  </thead>\n",
       "  <tbody>\n",
       "    <tr>\n",
       "      <th>0</th>\n",
       "      <td>2023-08-01</td>\n",
       "      <td>NaN</td>\n",
       "      <td>UNKNOWN</td>\n",
       "      <td>NaN</td>\n",
       "      <td>NaN</td>\n",
       "      <td>NaN</td>\n",
       "    </tr>\n",
       "    <tr>\n",
       "      <th>1</th>\n",
       "      <td>2023-08-01</td>\n",
       "      <td>NaN</td>\n",
       "      <td>Engine Oil Delo Silver SAE40/ Diesel Engine Oil</td>\n",
       "      <td>9.0</td>\n",
       "      <td>12000.0</td>\n",
       "      <td>108000.0</td>\n",
       "    </tr>\n",
       "    <tr>\n",
       "      <th>2</th>\n",
       "      <td>2023-08-01</td>\n",
       "      <td>NaN</td>\n",
       "      <td>Oil Filter 04152-38020,YZZA4  L/C VDJ200R</td>\n",
       "      <td>1.0</td>\n",
       "      <td>48284.0</td>\n",
       "      <td>48284.0</td>\n",
       "    </tr>\n",
       "    <tr>\n",
       "      <th>3</th>\n",
       "      <td>2023-08-01</td>\n",
       "      <td>NaN</td>\n",
       "      <td>Diesel Filter 23390-51070 - L/C Hzj 76,79,VDJ200R</td>\n",
       "      <td>1.0</td>\n",
       "      <td>39500.0</td>\n",
       "      <td>39500.0</td>\n",
       "    </tr>\n",
       "    <tr>\n",
       "      <th>4</th>\n",
       "      <td>2023-08-01</td>\n",
       "      <td>NaN</td>\n",
       "      <td>Air Cleaner 17801-51020 LC VDJ 200R</td>\n",
       "      <td>1.0</td>\n",
       "      <td>98034.0</td>\n",
       "      <td>98034.0</td>\n",
       "    </tr>\n",
       "  </tbody>\n",
       "</table>\n",
       "</div>"
      ],
      "text/plain": [
       "        Date  Issued To                                          Item Name  \\\n",
       "0 2023-08-01        NaN                                            UNKNOWN   \n",
       "1 2023-08-01        NaN    Engine Oil Delo Silver SAE40/ Diesel Engine Oil   \n",
       "2 2023-08-01        NaN          Oil Filter 04152-38020,YZZA4  L/C VDJ200R   \n",
       "3 2023-08-01        NaN  Diesel Filter 23390-51070 - L/C Hzj 76,79,VDJ200R   \n",
       "4 2023-08-01        NaN                Air Cleaner 17801-51020 LC VDJ 200R   \n",
       "\n",
       "   Qty   Unit Price    Amount  \n",
       "0   NaN         NaN       NaN  \n",
       "1   9.0     12000.0  108000.0  \n",
       "2   1.0     48284.0   48284.0  \n",
       "3   1.0     39500.0   39500.0  \n",
       "4   1.0     98034.0   98034.0  "
      ]
     },
     "execution_count": 5,
     "metadata": {},
     "output_type": "execute_result"
    }
   ],
   "source": [
    "#Changing date column data type to datetime\n",
    "df[\"Date\"] = pd.to_datetime(df[\"Date\"], format=\"%A, %d %B %Y\")\n",
    "df.head()"
   ]
  },
  {
   "cell_type": "code",
   "execution_count": 6,
   "id": "bc93859f",
   "metadata": {},
   "outputs": [
    {
     "data": {
      "text/html": [
       "<div>\n",
       "<style scoped>\n",
       "    .dataframe tbody tr th:only-of-type {\n",
       "        vertical-align: middle;\n",
       "    }\n",
       "\n",
       "    .dataframe tbody tr th {\n",
       "        vertical-align: top;\n",
       "    }\n",
       "\n",
       "    .dataframe thead th {\n",
       "        text-align: right;\n",
       "    }\n",
       "</style>\n",
       "<table border=\"1\" class=\"dataframe\">\n",
       "  <thead>\n",
       "    <tr style=\"text-align: right;\">\n",
       "      <th></th>\n",
       "      <th>Date</th>\n",
       "      <th>Issued To</th>\n",
       "      <th>Item Name</th>\n",
       "      <th>Qty</th>\n",
       "      <th>Unit Price</th>\n",
       "      <th>Amount</th>\n",
       "    </tr>\n",
       "  </thead>\n",
       "  <tbody>\n",
       "    <tr>\n",
       "      <th>0</th>\n",
       "      <td>2023-08-01</td>\n",
       "      <td>NaN</td>\n",
       "      <td>UNKNOWN</td>\n",
       "      <td>NaN</td>\n",
       "      <td>NaN</td>\n",
       "      <td>NaN</td>\n",
       "    </tr>\n",
       "    <tr>\n",
       "      <th>1</th>\n",
       "      <td>2023-08-01</td>\n",
       "      <td>NaN</td>\n",
       "      <td>Engine Oil Delo Silver SAE40/ Diesel Engine Oil</td>\n",
       "      <td>9.0</td>\n",
       "      <td>12000.0</td>\n",
       "      <td>108000.0</td>\n",
       "    </tr>\n",
       "    <tr>\n",
       "      <th>2</th>\n",
       "      <td>2023-08-01</td>\n",
       "      <td>NaN</td>\n",
       "      <td>Oil Filter 04152-38020,YZZA4  L/C VDJ200R</td>\n",
       "      <td>1.0</td>\n",
       "      <td>48284.0</td>\n",
       "      <td>48284.0</td>\n",
       "    </tr>\n",
       "    <tr>\n",
       "      <th>3</th>\n",
       "      <td>2023-08-01</td>\n",
       "      <td>NaN</td>\n",
       "      <td>Diesel Filter 23390-51070 - L/C Hzj 76,79,VDJ200R</td>\n",
       "      <td>1.0</td>\n",
       "      <td>39500.0</td>\n",
       "      <td>39500.0</td>\n",
       "    </tr>\n",
       "    <tr>\n",
       "      <th>4</th>\n",
       "      <td>2023-08-01</td>\n",
       "      <td>NaN</td>\n",
       "      <td>Air Cleaner 17801-51020 LC VDJ 200R</td>\n",
       "      <td>1.0</td>\n",
       "      <td>98034.0</td>\n",
       "      <td>98034.0</td>\n",
       "    </tr>\n",
       "  </tbody>\n",
       "</table>\n",
       "</div>"
      ],
      "text/plain": [
       "        Date  Issued To                                          Item Name  \\\n",
       "0 2023-08-01        NaN                                            UNKNOWN   \n",
       "1 2023-08-01        NaN    Engine Oil Delo Silver SAE40/ Diesel Engine Oil   \n",
       "2 2023-08-01        NaN          Oil Filter 04152-38020,YZZA4  L/C VDJ200R   \n",
       "3 2023-08-01        NaN  Diesel Filter 23390-51070 - L/C Hzj 76,79,VDJ200R   \n",
       "4 2023-08-01        NaN                Air Cleaner 17801-51020 LC VDJ 200R   \n",
       "\n",
       "   Qty   Unit Price    Amount  \n",
       "0   NaN         NaN       NaN  \n",
       "1   9.0     12000.0  108000.0  \n",
       "2   1.0     48284.0   48284.0  \n",
       "3   1.0     39500.0   39500.0  \n",
       "4   1.0     98034.0   98034.0  "
      ]
     },
     "execution_count": 6,
     "metadata": {},
     "output_type": "execute_result"
    }
   ],
   "source": [
    "# Forward-fill missing dates\n",
    "df[\"Date\"].fillna(method=\"ffill\", inplace=True)\n",
    "df.head()"
   ]
  },
  {
   "cell_type": "code",
   "execution_count": 9,
   "id": "cf9fedde",
   "metadata": {},
   "outputs": [
    {
     "ename": "KeyError",
     "evalue": "'Qty'",
     "output_type": "error",
     "traceback": [
      "\u001b[1;31m---------------------------------------------------------------------------\u001b[0m",
      "\u001b[1;31mKeyError\u001b[0m                                  Traceback (most recent call last)",
      "File \u001b[1;32m~\\anaconda3\\envs\\mkopa\\lib\\site-packages\\pandas\\core\\indexes\\base.py:3652\u001b[0m, in \u001b[0;36mIndex.get_loc\u001b[1;34m(self, key)\u001b[0m\n\u001b[0;32m   3651\u001b[0m \u001b[38;5;28;01mtry\u001b[39;00m:\n\u001b[1;32m-> 3652\u001b[0m     \u001b[38;5;28;01mreturn\u001b[39;00m \u001b[38;5;28;43mself\u001b[39;49m\u001b[38;5;241;43m.\u001b[39;49m\u001b[43m_engine\u001b[49m\u001b[38;5;241;43m.\u001b[39;49m\u001b[43mget_loc\u001b[49m\u001b[43m(\u001b[49m\u001b[43mcasted_key\u001b[49m\u001b[43m)\u001b[49m\n\u001b[0;32m   3653\u001b[0m \u001b[38;5;28;01mexcept\u001b[39;00m \u001b[38;5;167;01mKeyError\u001b[39;00m \u001b[38;5;28;01mas\u001b[39;00m err:\n",
      "File \u001b[1;32m~\\anaconda3\\envs\\mkopa\\lib\\site-packages\\pandas\\_libs\\index.pyx:147\u001b[0m, in \u001b[0;36mpandas._libs.index.IndexEngine.get_loc\u001b[1;34m()\u001b[0m\n",
      "File \u001b[1;32m~\\anaconda3\\envs\\mkopa\\lib\\site-packages\\pandas\\_libs\\index.pyx:176\u001b[0m, in \u001b[0;36mpandas._libs.index.IndexEngine.get_loc\u001b[1;34m()\u001b[0m\n",
      "File \u001b[1;32mpandas\\_libs\\hashtable_class_helper.pxi:7080\u001b[0m, in \u001b[0;36mpandas._libs.hashtable.PyObjectHashTable.get_item\u001b[1;34m()\u001b[0m\n",
      "File \u001b[1;32mpandas\\_libs\\hashtable_class_helper.pxi:7088\u001b[0m, in \u001b[0;36mpandas._libs.hashtable.PyObjectHashTable.get_item\u001b[1;34m()\u001b[0m\n",
      "\u001b[1;31mKeyError\u001b[0m: 'Qty'",
      "\nThe above exception was the direct cause of the following exception:\n",
      "\u001b[1;31mKeyError\u001b[0m                                  Traceback (most recent call last)",
      "Cell \u001b[1;32mIn[9], line 2\u001b[0m\n\u001b[0;32m      1\u001b[0m \u001b[38;5;66;03m# Replacing null values in \"Issued To\" column with the corresponding non-null value in \"Item Name\" column for only null values in QTy\u001b[39;00m\n\u001b[1;32m----> 2\u001b[0m df\u001b[38;5;241m.\u001b[39mloc[df[\u001b[38;5;124m\"\u001b[39m\u001b[38;5;124mIssued To\u001b[39m\u001b[38;5;124m\"\u001b[39m]\u001b[38;5;241m.\u001b[39misnull() \u001b[38;5;241m&\u001b[39m df[\u001b[38;5;124m\"\u001b[39m\u001b[38;5;124mQty\u001b[39m\u001b[38;5;124m\"\u001b[39m]\u001b[38;5;241m==\u001b[39m\u001b[38;5;241m0\u001b[39m, \u001b[38;5;124m\"\u001b[39m\u001b[38;5;124mIssued To\u001b[39m\u001b[38;5;124m\"\u001b[39m] \u001b[38;5;241m=\u001b[39m df\u001b[38;5;241m.\u001b[39mloc[df[\u001b[38;5;124m\"\u001b[39m\u001b[38;5;124mIssued To\u001b[39m\u001b[38;5;124m\"\u001b[39m]\u001b[38;5;241m.\u001b[39misnull() \u001b[38;5;241m&\u001b[39m \u001b[43mdf\u001b[49m\u001b[43m[\u001b[49m\u001b[38;5;124;43m\"\u001b[39;49m\u001b[38;5;124;43mQty\u001b[39;49m\u001b[38;5;124;43m\"\u001b[39;49m\u001b[43m]\u001b[49m\u001b[38;5;241m==\u001b[39m\u001b[38;5;241m0\u001b[39m, \u001b[38;5;124m\"\u001b[39m\u001b[38;5;124mItem Name\u001b[39m\u001b[38;5;124m\"\u001b[39m]\n\u001b[0;32m      4\u001b[0m df\u001b[38;5;241m.\u001b[39mhead()\n",
      "File \u001b[1;32m~\\anaconda3\\envs\\mkopa\\lib\\site-packages\\pandas\\core\\frame.py:3761\u001b[0m, in \u001b[0;36mDataFrame.__getitem__\u001b[1;34m(self, key)\u001b[0m\n\u001b[0;32m   3759\u001b[0m \u001b[38;5;28;01mif\u001b[39;00m \u001b[38;5;28mself\u001b[39m\u001b[38;5;241m.\u001b[39mcolumns\u001b[38;5;241m.\u001b[39mnlevels \u001b[38;5;241m>\u001b[39m \u001b[38;5;241m1\u001b[39m:\n\u001b[0;32m   3760\u001b[0m     \u001b[38;5;28;01mreturn\u001b[39;00m \u001b[38;5;28mself\u001b[39m\u001b[38;5;241m.\u001b[39m_getitem_multilevel(key)\n\u001b[1;32m-> 3761\u001b[0m indexer \u001b[38;5;241m=\u001b[39m \u001b[38;5;28;43mself\u001b[39;49m\u001b[38;5;241;43m.\u001b[39;49m\u001b[43mcolumns\u001b[49m\u001b[38;5;241;43m.\u001b[39;49m\u001b[43mget_loc\u001b[49m\u001b[43m(\u001b[49m\u001b[43mkey\u001b[49m\u001b[43m)\u001b[49m\n\u001b[0;32m   3762\u001b[0m \u001b[38;5;28;01mif\u001b[39;00m is_integer(indexer):\n\u001b[0;32m   3763\u001b[0m     indexer \u001b[38;5;241m=\u001b[39m [indexer]\n",
      "File \u001b[1;32m~\\anaconda3\\envs\\mkopa\\lib\\site-packages\\pandas\\core\\indexes\\base.py:3654\u001b[0m, in \u001b[0;36mIndex.get_loc\u001b[1;34m(self, key)\u001b[0m\n\u001b[0;32m   3652\u001b[0m     \u001b[38;5;28;01mreturn\u001b[39;00m \u001b[38;5;28mself\u001b[39m\u001b[38;5;241m.\u001b[39m_engine\u001b[38;5;241m.\u001b[39mget_loc(casted_key)\n\u001b[0;32m   3653\u001b[0m \u001b[38;5;28;01mexcept\u001b[39;00m \u001b[38;5;167;01mKeyError\u001b[39;00m \u001b[38;5;28;01mas\u001b[39;00m err:\n\u001b[1;32m-> 3654\u001b[0m     \u001b[38;5;28;01mraise\u001b[39;00m \u001b[38;5;167;01mKeyError\u001b[39;00m(key) \u001b[38;5;28;01mfrom\u001b[39;00m \u001b[38;5;21;01merr\u001b[39;00m\n\u001b[0;32m   3655\u001b[0m \u001b[38;5;28;01mexcept\u001b[39;00m \u001b[38;5;167;01mTypeError\u001b[39;00m:\n\u001b[0;32m   3656\u001b[0m     \u001b[38;5;66;03m# If we have a listlike key, _check_indexing_error will raise\u001b[39;00m\n\u001b[0;32m   3657\u001b[0m     \u001b[38;5;66;03m#  InvalidIndexError. Otherwise we fall through and re-raise\u001b[39;00m\n\u001b[0;32m   3658\u001b[0m     \u001b[38;5;66;03m#  the TypeError.\u001b[39;00m\n\u001b[0;32m   3659\u001b[0m     \u001b[38;5;28mself\u001b[39m\u001b[38;5;241m.\u001b[39m_check_indexing_error(key)\n",
      "\u001b[1;31mKeyError\u001b[0m: 'Qty'"
     ]
    }
   ],
   "source": [
    "# Replacing null values in \"Issued To\" column with the corresponding non-null value in \"Item Name\" column for only null values in QTy\n",
    "df.loc[df[\"Issued To\"].isnull() & df[\"Item Name\"]==0, \"Issued To\"] = df.loc[df[\"Issued To\"].isnull() & df[\"Item Name\"]==0, \"Item Name\"]\n",
    "\n",
    "df.head()"
   ]
  },
  {
   "cell_type": "code",
   "execution_count": null,
   "id": "bf477ff0",
   "metadata": {},
   "outputs": [],
   "source": [
    "# Forward-fill missing values in the Issued To Column\n",
    "df[\"Issued To\"].fillna(method=\"ffill\", inplace=True)"
   ]
  },
  {
   "cell_type": "code",
   "execution_count": null,
   "id": "ac485503",
   "metadata": {},
   "outputs": [],
   "source": [
    "df.head()"
   ]
  },
  {
   "cell_type": "code",
   "execution_count": null,
   "id": "bf8b4c23",
   "metadata": {},
   "outputs": [],
   "source": [
    "# Droping rows with NaN values\n",
    "df.dropna(inplace=True)"
   ]
  },
  {
   "cell_type": "code",
   "execution_count": null,
   "id": "fb653d8f",
   "metadata": {},
   "outputs": [],
   "source": [
    "df.head(30)"
   ]
  },
  {
   "cell_type": "markdown",
   "id": "9f40c50b",
   "metadata": {},
   "source": [
    "# Exploratory Data Analysis"
   ]
  },
  {
   "cell_type": "code",
   "execution_count": null,
   "id": "68abac19",
   "metadata": {},
   "outputs": [],
   "source": [
    "df.shape"
   ]
  },
  {
   "cell_type": "code",
   "execution_count": null,
   "id": "61ce8dae",
   "metadata": {},
   "outputs": [],
   "source": [
    "df.info()"
   ]
  },
  {
   "cell_type": "markdown",
   "id": "a8209527",
   "metadata": {},
   "source": [
    "<b>Client exploration</b>"
   ]
  },
  {
   "cell_type": "code",
   "execution_count": null,
   "id": "714602dc",
   "metadata": {},
   "outputs": [],
   "source": [
    "df['Issued To'].nunique()"
   ]
  },
  {
   "cell_type": "markdown",
   "id": "809d43dd",
   "metadata": {},
   "source": [
    "We have 192 different clients from the month of July"
   ]
  },
  {
   "cell_type": "markdown",
   "id": "50f1d6e6",
   "metadata": {},
   "source": [
    "<b>Top Loyal clients</b>"
   ]
  },
  {
   "cell_type": "code",
   "execution_count": null,
   "id": "9f0d0470",
   "metadata": {},
   "outputs": [],
   "source": [
    "top20 = df['Issued To'].value_counts().head(20)\n",
    "top20"
   ]
  },
  {
   "cell_type": "code",
   "execution_count": null,
   "id": "1a177985",
   "metadata": {},
   "outputs": [],
   "source": [
    "top20.plot(kind = 'barh')"
   ]
  },
  {
   "cell_type": "code",
   "execution_count": null,
   "id": "bd4728fb",
   "metadata": {},
   "outputs": [],
   "source": [
    "last20 = df['Issued To'].value_counts().tail(20)\n",
    "last20"
   ]
  },
  {
   "cell_type": "markdown",
   "id": "4d014f9d",
   "metadata": {},
   "source": [
    "<b>Items Exploration</b>"
   ]
  },
  {
   "cell_type": "code",
   "execution_count": null,
   "id": "ef5b5d6b",
   "metadata": {},
   "outputs": [],
   "source": [
    "df.head(1)"
   ]
  },
  {
   "cell_type": "code",
   "execution_count": null,
   "id": "c329f03c",
   "metadata": {},
   "outputs": [],
   "source": [
    "df['Items'].nunique()"
   ]
  },
  {
   "cell_type": "markdown",
   "id": "346e9a66",
   "metadata": {},
   "source": [
    "The store has 502 unique items"
   ]
  },
  {
   "cell_type": "markdown",
   "id": "78b6ac9c",
   "metadata": {},
   "source": [
    "<b>Fast Moving items</b>"
   ]
  },
  {
   "cell_type": "code",
   "execution_count": null,
   "id": "9f46e1ff",
   "metadata": {},
   "outputs": [],
   "source": [
    "fast_moving_items = df['Items'].value_counts().head(100)\n",
    "fast_moving_items"
   ]
  },
  {
   "cell_type": "markdown",
   "id": "c2dedfb5",
   "metadata": {},
   "source": [
    "<b>Amount Generated by each item</b>"
   ]
  },
  {
   "cell_type": "code",
   "execution_count": null,
   "id": "eaa50c8f",
   "metadata": {},
   "outputs": [],
   "source": [
    "# Calculating the amount generated by each item by multiplication\n",
    "df[\"Total Amount\"] = df[\"Quantity\"] * df[\"Unit Price\"]\n",
    "\n",
    "# Top 50 items based on the total amount\n",
    "top_50_items = df.groupby(\"Items\")[\"Total Amount\"].sum().nlargest(50)\n",
    "print(top_50_items)"
   ]
  },
  {
   "cell_type": "markdown",
   "id": "fd07a308",
   "metadata": {},
   "source": [
    "<b>Trend Analysis</b>"
   ]
  },
  {
   "cell_type": "code",
   "execution_count": null,
   "id": "94fcc77c",
   "metadata": {},
   "outputs": [],
   "source": [
    "# Calculate the sum of total amount generated per date\n",
    "date_total = df.groupby(\"Date\")[\"Total Amount\"].sum()\n",
    "\n",
    "# Plot the line trend\n",
    "plt.figure(figsize=(10, 6))\n",
    "plt.plot(date_total.index, date_total.values, marker='o')\n",
    "plt.title(\"Line Trend of Total Amount Generated per Date\")\n",
    "plt.xlabel(\"Date\")\n",
    "plt.ylabel(\"Total Amount Generated\")\n",
    "plt.xticks(rotation=45)\n",
    "plt.grid(True)\n",
    "plt.tight_layout()\n",
    "plt.show()"
   ]
  },
  {
   "cell_type": "markdown",
   "id": "6820ce3d",
   "metadata": {},
   "source": [
    "<b>Exporting File to Excel</b>"
   ]
  },
  {
   "cell_type": "code",
   "execution_count": null,
   "id": "d8bd48cb",
   "metadata": {},
   "outputs": [],
   "source": [
    "df.to_excel('Stock Issues 1-12 August 2023.xlsx', index = False)"
   ]
  }
 ],
 "metadata": {
  "kernelspec": {
   "display_name": "Python 3 (ipykernel)",
   "language": "python",
   "name": "python3"
  },
  "language_info": {
   "codemirror_mode": {
    "name": "ipython",
    "version": 3
   },
   "file_extension": ".py",
   "mimetype": "text/x-python",
   "name": "python",
   "nbconvert_exporter": "python",
   "pygments_lexer": "ipython3",
   "version": "3.9.16"
  }
 },
 "nbformat": 4,
 "nbformat_minor": 5
}
