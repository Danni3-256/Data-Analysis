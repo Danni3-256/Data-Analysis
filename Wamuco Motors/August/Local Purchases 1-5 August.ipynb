{
 "cells": [
  {
   "cell_type": "code",
   "execution_count": 1,
   "id": "8ccd1430",
   "metadata": {},
   "outputs": [],
   "source": [
    "import pandas as pd\n",
    "import numpy as np\n",
    "import seaborn as sns\n",
    "import matplotlib.pyplot as plt\n",
    "import openpyxl\n",
    "import warnings\n",
    "warnings.filterwarnings('ignore')"
   ]
  },
  {
   "cell_type": "markdown",
   "id": "86c02834",
   "metadata": {},
   "source": [
    "# Local Purchases"
   ]
  },
  {
   "cell_type": "code",
   "execution_count": 2,
   "id": "07afa500",
   "metadata": {},
   "outputs": [
    {
     "data": {
      "text/html": [
       "<div>\n",
       "<style scoped>\n",
       "    .dataframe tbody tr th:only-of-type {\n",
       "        vertical-align: middle;\n",
       "    }\n",
       "\n",
       "    .dataframe tbody tr th {\n",
       "        vertical-align: top;\n",
       "    }\n",
       "\n",
       "    .dataframe thead th {\n",
       "        text-align: right;\n",
       "    }\n",
       "</style>\n",
       "<table border=\"1\" class=\"dataframe\">\n",
       "  <thead>\n",
       "    <tr style=\"text-align: right;\">\n",
       "      <th></th>\n",
       "      <th>Date</th>\n",
       "      <th>Issued To</th>\n",
       "      <th>Item Name</th>\n",
       "      <th>Qty</th>\n",
       "      <th>Unit price</th>\n",
       "      <th>Amount</th>\n",
       "    </tr>\n",
       "  </thead>\n",
       "  <tbody>\n",
       "    <tr>\n",
       "      <th>0</th>\n",
       "      <td>2023-08-01</td>\n",
       "      <td>NaN</td>\n",
       "      <td>H.A General Auto Paints</td>\n",
       "      <td>NaN</td>\n",
       "      <td>NaN</td>\n",
       "      <td>NaN</td>\n",
       "    </tr>\n",
       "    <tr>\n",
       "      <th>1</th>\n",
       "      <td>2023-08-01</td>\n",
       "      <td>NaN</td>\n",
       "      <td>Black Duco</td>\n",
       "      <td>2.0</td>\n",
       "      <td>75000.0</td>\n",
       "      <td>150000.0</td>\n",
       "    </tr>\n",
       "    <tr>\n",
       "      <th>2</th>\n",
       "      <td>2023-08-01</td>\n",
       "      <td>NaN</td>\n",
       "      <td>Plastic Primer 615</td>\n",
       "      <td>1.0</td>\n",
       "      <td>80000.0</td>\n",
       "      <td>80000.0</td>\n",
       "    </tr>\n",
       "    <tr>\n",
       "      <th>3</th>\n",
       "      <td>2023-08-01</td>\n",
       "      <td>NaN</td>\n",
       "      <td>H.A General Auto Paints</td>\n",
       "      <td>NaN</td>\n",
       "      <td>NaN</td>\n",
       "      <td>NaN</td>\n",
       "    </tr>\n",
       "    <tr>\n",
       "      <th>4</th>\n",
       "      <td>2023-08-01</td>\n",
       "      <td>NaN</td>\n",
       "      <td>Thinner Standard</td>\n",
       "      <td>32.0</td>\n",
       "      <td>9000.0</td>\n",
       "      <td>288000.0</td>\n",
       "    </tr>\n",
       "  </tbody>\n",
       "</table>\n",
       "</div>"
      ],
      "text/plain": [
       "        Date  Issued To                Item Name   Qty  Unit price    Amount\n",
       "0 2023-08-01        NaN  H.A General Auto Paints   NaN         NaN       NaN\n",
       "1 2023-08-01        NaN               Black Duco   2.0     75000.0  150000.0\n",
       "2 2023-08-01        NaN       Plastic Primer 615   1.0     80000.0   80000.0\n",
       "3 2023-08-01        NaN  H.A General Auto Paints   NaN         NaN       NaN\n",
       "4 2023-08-01        NaN         Thinner Standard  32.0      9000.0  288000.0"
      ]
     },
     "execution_count": 2,
     "metadata": {},
     "output_type": "execute_result"
    }
   ],
   "source": [
    "local = pd.read_excel('Local Purchases 1-5 August 2023.xlsx')\n",
    "local.head()"
   ]
  },
  {
   "cell_type": "code",
   "execution_count": 3,
   "id": "a8bc1690",
   "metadata": {},
   "outputs": [
    {
     "data": {
      "text/plain": [
       "(45, 6)"
      ]
     },
     "execution_count": 3,
     "metadata": {},
     "output_type": "execute_result"
    }
   ],
   "source": [
    "local.shape"
   ]
  },
  {
   "cell_type": "code",
   "execution_count": 4,
   "id": "1183127c",
   "metadata": {},
   "outputs": [],
   "source": [
    "#Changing date column data type to datetime\n",
    "local[\"Date\"] = pd.to_datetime(local[\"Date\"], format=\"%A, %d %B %Y\")"
   ]
  },
  {
   "cell_type": "code",
   "execution_count": 5,
   "id": "2115d3f4",
   "metadata": {},
   "outputs": [
    {
     "data": {
      "text/html": [
       "<div>\n",
       "<style scoped>\n",
       "    .dataframe tbody tr th:only-of-type {\n",
       "        vertical-align: middle;\n",
       "    }\n",
       "\n",
       "    .dataframe tbody tr th {\n",
       "        vertical-align: top;\n",
       "    }\n",
       "\n",
       "    .dataframe thead th {\n",
       "        text-align: right;\n",
       "    }\n",
       "</style>\n",
       "<table border=\"1\" class=\"dataframe\">\n",
       "  <thead>\n",
       "    <tr style=\"text-align: right;\">\n",
       "      <th></th>\n",
       "      <th>Date</th>\n",
       "      <th>Issued To</th>\n",
       "      <th>Item Name</th>\n",
       "      <th>Qty</th>\n",
       "      <th>Unit price</th>\n",
       "      <th>Amount</th>\n",
       "    </tr>\n",
       "  </thead>\n",
       "  <tbody>\n",
       "    <tr>\n",
       "      <th>0</th>\n",
       "      <td>2023-08-01</td>\n",
       "      <td>H.A General Auto Paints</td>\n",
       "      <td>H.A General Auto Paints</td>\n",
       "      <td>NaN</td>\n",
       "      <td>NaN</td>\n",
       "      <td>NaN</td>\n",
       "    </tr>\n",
       "    <tr>\n",
       "      <th>1</th>\n",
       "      <td>2023-08-01</td>\n",
       "      <td>NaN</td>\n",
       "      <td>Black Duco</td>\n",
       "      <td>2.0</td>\n",
       "      <td>75000.0</td>\n",
       "      <td>150000.0</td>\n",
       "    </tr>\n",
       "    <tr>\n",
       "      <th>2</th>\n",
       "      <td>2023-08-01</td>\n",
       "      <td>NaN</td>\n",
       "      <td>Plastic Primer 615</td>\n",
       "      <td>1.0</td>\n",
       "      <td>80000.0</td>\n",
       "      <td>80000.0</td>\n",
       "    </tr>\n",
       "    <tr>\n",
       "      <th>3</th>\n",
       "      <td>2023-08-01</td>\n",
       "      <td>H.A General Auto Paints</td>\n",
       "      <td>H.A General Auto Paints</td>\n",
       "      <td>NaN</td>\n",
       "      <td>NaN</td>\n",
       "      <td>NaN</td>\n",
       "    </tr>\n",
       "    <tr>\n",
       "      <th>4</th>\n",
       "      <td>2023-08-01</td>\n",
       "      <td>NaN</td>\n",
       "      <td>Thinner Standard</td>\n",
       "      <td>32.0</td>\n",
       "      <td>9000.0</td>\n",
       "      <td>288000.0</td>\n",
       "    </tr>\n",
       "  </tbody>\n",
       "</table>\n",
       "</div>"
      ],
      "text/plain": [
       "        Date                Issued To                Item Name   Qty  \\\n",
       "0 2023-08-01  H.A General Auto Paints  H.A General Auto Paints   NaN   \n",
       "1 2023-08-01                      NaN               Black Duco   2.0   \n",
       "2 2023-08-01                      NaN       Plastic Primer 615   1.0   \n",
       "3 2023-08-01  H.A General Auto Paints  H.A General Auto Paints   NaN   \n",
       "4 2023-08-01                      NaN         Thinner Standard  32.0   \n",
       "\n",
       "   Unit price    Amount  \n",
       "0         NaN       NaN  \n",
       "1     75000.0  150000.0  \n",
       "2     80000.0   80000.0  \n",
       "3         NaN       NaN  \n",
       "4      9000.0  288000.0  "
      ]
     },
     "execution_count": 5,
     "metadata": {},
     "output_type": "execute_result"
    }
   ],
   "source": [
    "# Replacing null values in \"Issued To\" column with the corresponding non-null value in \"Items\" column\n",
    "local.loc[local[\"Issued To\"].isnull() & local[\"Qty\"].isnull(), \"Issued To\"] = local.loc[local[\"Issued To\"].isnull() & local[\"Qty\"].isnull(), \"Item Name\"]\n",
    "local.head()"
   ]
  },
  {
   "cell_type": "code",
   "execution_count": 6,
   "id": "696366c3",
   "metadata": {},
   "outputs": [
    {
     "data": {
      "text/html": [
       "<div>\n",
       "<style scoped>\n",
       "    .dataframe tbody tr th:only-of-type {\n",
       "        vertical-align: middle;\n",
       "    }\n",
       "\n",
       "    .dataframe tbody tr th {\n",
       "        vertical-align: top;\n",
       "    }\n",
       "\n",
       "    .dataframe thead th {\n",
       "        text-align: right;\n",
       "    }\n",
       "</style>\n",
       "<table border=\"1\" class=\"dataframe\">\n",
       "  <thead>\n",
       "    <tr style=\"text-align: right;\">\n",
       "      <th></th>\n",
       "      <th>Date</th>\n",
       "      <th>Issued To</th>\n",
       "      <th>Item Name</th>\n",
       "      <th>Qty</th>\n",
       "      <th>Unit price</th>\n",
       "      <th>Amount</th>\n",
       "    </tr>\n",
       "  </thead>\n",
       "  <tbody>\n",
       "    <tr>\n",
       "      <th>0</th>\n",
       "      <td>2023-08-01</td>\n",
       "      <td>H.A General Auto Paints</td>\n",
       "      <td>H.A General Auto Paints</td>\n",
       "      <td>NaN</td>\n",
       "      <td>NaN</td>\n",
       "      <td>NaN</td>\n",
       "    </tr>\n",
       "    <tr>\n",
       "      <th>1</th>\n",
       "      <td>2023-08-01</td>\n",
       "      <td>H.A General Auto Paints</td>\n",
       "      <td>Black Duco</td>\n",
       "      <td>2.0</td>\n",
       "      <td>75000.0</td>\n",
       "      <td>150000.0</td>\n",
       "    </tr>\n",
       "    <tr>\n",
       "      <th>2</th>\n",
       "      <td>2023-08-01</td>\n",
       "      <td>H.A General Auto Paints</td>\n",
       "      <td>Plastic Primer 615</td>\n",
       "      <td>1.0</td>\n",
       "      <td>80000.0</td>\n",
       "      <td>80000.0</td>\n",
       "    </tr>\n",
       "    <tr>\n",
       "      <th>3</th>\n",
       "      <td>2023-08-01</td>\n",
       "      <td>H.A General Auto Paints</td>\n",
       "      <td>H.A General Auto Paints</td>\n",
       "      <td>NaN</td>\n",
       "      <td>NaN</td>\n",
       "      <td>NaN</td>\n",
       "    </tr>\n",
       "    <tr>\n",
       "      <th>4</th>\n",
       "      <td>2023-08-01</td>\n",
       "      <td>H.A General Auto Paints</td>\n",
       "      <td>Thinner Standard</td>\n",
       "      <td>32.0</td>\n",
       "      <td>9000.0</td>\n",
       "      <td>288000.0</td>\n",
       "    </tr>\n",
       "  </tbody>\n",
       "</table>\n",
       "</div>"
      ],
      "text/plain": [
       "        Date                Issued To                Item Name   Qty  \\\n",
       "0 2023-08-01  H.A General Auto Paints  H.A General Auto Paints   NaN   \n",
       "1 2023-08-01  H.A General Auto Paints               Black Duco   2.0   \n",
       "2 2023-08-01  H.A General Auto Paints       Plastic Primer 615   1.0   \n",
       "3 2023-08-01  H.A General Auto Paints  H.A General Auto Paints   NaN   \n",
       "4 2023-08-01  H.A General Auto Paints         Thinner Standard  32.0   \n",
       "\n",
       "   Unit price    Amount  \n",
       "0         NaN       NaN  \n",
       "1     75000.0  150000.0  \n",
       "2     80000.0   80000.0  \n",
       "3         NaN       NaN  \n",
       "4      9000.0  288000.0  "
      ]
     },
     "execution_count": 6,
     "metadata": {},
     "output_type": "execute_result"
    }
   ],
   "source": [
    "# Forward-fill missing Values in the Issued To column\n",
    "local[\"Issued To\"].fillna(method=\"ffill\", inplace=True)\n",
    "local.head()"
   ]
  },
  {
   "cell_type": "code",
   "execution_count": 7,
   "id": "6d6c4674",
   "metadata": {},
   "outputs": [
    {
     "data": {
      "text/html": [
       "<div>\n",
       "<style scoped>\n",
       "    .dataframe tbody tr th:only-of-type {\n",
       "        vertical-align: middle;\n",
       "    }\n",
       "\n",
       "    .dataframe tbody tr th {\n",
       "        vertical-align: top;\n",
       "    }\n",
       "\n",
       "    .dataframe thead th {\n",
       "        text-align: right;\n",
       "    }\n",
       "</style>\n",
       "<table border=\"1\" class=\"dataframe\">\n",
       "  <thead>\n",
       "    <tr style=\"text-align: right;\">\n",
       "      <th></th>\n",
       "      <th>Date</th>\n",
       "      <th>Issued To</th>\n",
       "      <th>Item Name</th>\n",
       "      <th>Qty</th>\n",
       "      <th>Unit price</th>\n",
       "      <th>Amount</th>\n",
       "    </tr>\n",
       "  </thead>\n",
       "  <tbody>\n",
       "    <tr>\n",
       "      <th>1</th>\n",
       "      <td>2023-08-01</td>\n",
       "      <td>H.A General Auto Paints</td>\n",
       "      <td>Black Duco</td>\n",
       "      <td>2.0</td>\n",
       "      <td>75000.0</td>\n",
       "      <td>150000.0</td>\n",
       "    </tr>\n",
       "    <tr>\n",
       "      <th>2</th>\n",
       "      <td>2023-08-01</td>\n",
       "      <td>H.A General Auto Paints</td>\n",
       "      <td>Plastic Primer 615</td>\n",
       "      <td>1.0</td>\n",
       "      <td>80000.0</td>\n",
       "      <td>80000.0</td>\n",
       "    </tr>\n",
       "    <tr>\n",
       "      <th>4</th>\n",
       "      <td>2023-08-01</td>\n",
       "      <td>H.A General Auto Paints</td>\n",
       "      <td>Thinner Standard</td>\n",
       "      <td>32.0</td>\n",
       "      <td>9000.0</td>\n",
       "      <td>288000.0</td>\n",
       "    </tr>\n",
       "    <tr>\n",
       "      <th>6</th>\n",
       "      <td>2023-08-01</td>\n",
       "      <td>TRUTH AUTO PARTS</td>\n",
       "      <td>Bfgoodrich Tyres 285/55R20 L/cv8</td>\n",
       "      <td>8.0</td>\n",
       "      <td>1376975.0</td>\n",
       "      <td>11015800.0</td>\n",
       "    </tr>\n",
       "    <tr>\n",
       "      <th>8</th>\n",
       "      <td>2023-08-02</td>\n",
       "      <td>Sekivan Tyres Centre</td>\n",
       "      <td>Yokohama Tyre 265/60 R18</td>\n",
       "      <td>1.0</td>\n",
       "      <td>783750.0</td>\n",
       "      <td>783750.0</td>\n",
       "    </tr>\n",
       "  </tbody>\n",
       "</table>\n",
       "</div>"
      ],
      "text/plain": [
       "        Date                Issued To                         Item Name   Qty  \\\n",
       "1 2023-08-01  H.A General Auto Paints                        Black Duco   2.0   \n",
       "2 2023-08-01  H.A General Auto Paints                Plastic Primer 615   1.0   \n",
       "4 2023-08-01  H.A General Auto Paints                  Thinner Standard  32.0   \n",
       "6 2023-08-01         TRUTH AUTO PARTS  Bfgoodrich Tyres 285/55R20 L/cv8   8.0   \n",
       "8 2023-08-02     Sekivan Tyres Centre          Yokohama Tyre 265/60 R18   1.0   \n",
       "\n",
       "   Unit price      Amount  \n",
       "1     75000.0    150000.0  \n",
       "2     80000.0     80000.0  \n",
       "4      9000.0    288000.0  \n",
       "6   1376975.0  11015800.0  \n",
       "8    783750.0    783750.0  "
      ]
     },
     "execution_count": 7,
     "metadata": {},
     "output_type": "execute_result"
    }
   ],
   "source": [
    "# Droping rows with NaN values\n",
    "local.dropna(inplace=True)\n",
    "local.head()"
   ]
  },
  {
   "cell_type": "code",
   "execution_count": 8,
   "id": "e5b8a93c",
   "metadata": {},
   "outputs": [
    {
     "data": {
      "text/plain": [
       "(26, 6)"
      ]
     },
     "execution_count": 8,
     "metadata": {},
     "output_type": "execute_result"
    }
   ],
   "source": [
    "local.shape"
   ]
  },
  {
   "cell_type": "code",
   "execution_count": 9,
   "id": "59e307d8",
   "metadata": {},
   "outputs": [
    {
     "name": "stdout",
     "output_type": "stream",
     "text": [
      "<class 'pandas.core.frame.DataFrame'>\n",
      "Index: 26 entries, 1 to 44\n",
      "Data columns (total 6 columns):\n",
      " #   Column      Non-Null Count  Dtype         \n",
      "---  ------      --------------  -----         \n",
      " 0   Date        26 non-null     datetime64[ns]\n",
      " 1   Issued To   26 non-null     object        \n",
      " 2   Item Name   26 non-null     object        \n",
      " 3   Qty         26 non-null     float64       \n",
      " 4   Unit price  26 non-null     float64       \n",
      " 5   Amount      26 non-null     float64       \n",
      "dtypes: datetime64[ns](1), float64(3), object(2)\n",
      "memory usage: 1.4+ KB\n"
     ]
    }
   ],
   "source": [
    "local.info()"
   ]
  },
  {
   "cell_type": "code",
   "execution_count": 10,
   "id": "d9d29577",
   "metadata": {},
   "outputs": [
    {
     "data": {
      "text/plain": [
       "24056852.0"
      ]
     },
     "execution_count": 10,
     "metadata": {},
     "output_type": "execute_result"
    }
   ],
   "source": [
    "local['Amount'].sum()"
   ]
  },
  {
   "cell_type": "code",
   "execution_count": 11,
   "id": "89ffea57",
   "metadata": {},
   "outputs": [
    {
     "data": {
      "text/plain": [
       "Issued To\n",
       "H.A General Auto Paints          8\n",
       "M&R Auto Parts                   5\n",
       "Emergency  Auto Center           2\n",
       "Haruna & Sons                    2\n",
       "MADIINAH GENERAL HARDWARE        2\n",
       "TOYOTA CAR PARTS                 2\n",
       "RICHARD MATSIKO                  2\n",
       "TRUTH AUTO PARTS                 1\n",
       "Sekivan Tyres Centre             1\n",
       "Africa Fuels & Lubricants LTD    1\n",
       "Name: count, dtype: int64"
      ]
     },
     "execution_count": 11,
     "metadata": {},
     "output_type": "execute_result"
    }
   ],
   "source": [
    "local['Issued To'].value_counts()"
   ]
  },
  {
   "cell_type": "code",
   "execution_count": 13,
   "id": "8891c0eb",
   "metadata": {},
   "outputs": [
    {
     "data": {
      "text/plain": [
       "Item Name\n",
       "Black Duco                                  2\n",
       "Thinner Standard                            2\n",
       "SILCON TUBE                                 2\n",
       "Frt Windscreen-Hilux Newmodel               2\n",
       "Gas Wire                                    1\n",
       "FRT Windscreen-Harrier                      1\n",
       "JK TYRES-215/55R17                          1\n",
       "Frt Windscreen -Prado Kdj/lj150r N/model    1\n",
       "Head Lamp RH 81110-0K720 Hilux Revo         1\n",
       "Brake Shoe 04495-35250 Hiace Kdh222r        1\n",
       "Body File (Original)                        1\n",
       "Engine Oil Synthetic SAE 5W30               1\n",
       "Plastic Primer 615                          1\n",
       "Slow Thinner 601                            1\n",
       "Hardener Thinner 651 - All                  1\n",
       "Thinner Clear                               1\n",
       "Sand Paper P2000                            1\n",
       "Sand Paper 320                              1\n",
       "G.T SAVERO-215/70R16                        1\n",
       "Yokohama Tyre 265/60 R18                    1\n",
       "Bfgoodrich Tyres 285/55R20 L/cv8            1\n",
       "Frt Windscreen-L/c Grj300r                  1\n",
       "Name: count, dtype: int64"
      ]
     },
     "execution_count": 13,
     "metadata": {},
     "output_type": "execute_result"
    }
   ],
   "source": [
    "local['Item Name'].value_counts()"
   ]
  },
  {
   "cell_type": "code",
   "execution_count": null,
   "id": "d8ca7ac6",
   "metadata": {},
   "outputs": [],
   "source": [
    "local.to_excel()"
   ]
  }
 ],
 "metadata": {
  "kernelspec": {
   "display_name": "Python 3 (ipykernel)",
   "language": "python",
   "name": "python3"
  },
  "language_info": {
   "codemirror_mode": {
    "name": "ipython",
    "version": 3
   },
   "file_extension": ".py",
   "mimetype": "text/x-python",
   "name": "python",
   "nbconvert_exporter": "python",
   "pygments_lexer": "ipython3",
   "version": "3.9.16"
  }
 },
 "nbformat": 4,
 "nbformat_minor": 5
}
