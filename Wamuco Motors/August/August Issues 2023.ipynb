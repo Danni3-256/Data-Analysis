{
 "cells": [
  {
   "cell_type": "code",
   "execution_count": 1,
   "id": "93047daa",
   "metadata": {},
   "outputs": [],
   "source": [
    "import pandas as pd\n",
    "import numpy as np\n",
    "import seaborn as sns\n",
    "import matplotlib.pyplot as plt\n",
    "import openpyxl\n",
    "import warnings\n",
    "warnings.filterwarnings('ignore')"
   ]
  },
  {
   "cell_type": "code",
   "execution_count": 2,
   "id": "bbff9566",
   "metadata": {},
   "outputs": [
    {
     "data": {
      "text/html": [
       "<div>\n",
       "<style scoped>\n",
       "    .dataframe tbody tr th:only-of-type {\n",
       "        vertical-align: middle;\n",
       "    }\n",
       "\n",
       "    .dataframe tbody tr th {\n",
       "        vertical-align: top;\n",
       "    }\n",
       "\n",
       "    .dataframe thead th {\n",
       "        text-align: right;\n",
       "    }\n",
       "</style>\n",
       "<table border=\"1\" class=\"dataframe\">\n",
       "  <thead>\n",
       "    <tr style=\"text-align: right;\">\n",
       "      <th></th>\n",
       "      <th>Date</th>\n",
       "      <th>Issued To</th>\n",
       "      <th>Item Name</th>\n",
       "      <th>Qty</th>\n",
       "      <th>Unit Price</th>\n",
       "      <th>Amount</th>\n",
       "    </tr>\n",
       "  </thead>\n",
       "  <tbody>\n",
       "    <tr>\n",
       "      <th>0</th>\n",
       "      <td>2023-08-01</td>\n",
       "      <td>NaN</td>\n",
       "      <td>UNKNOWN</td>\n",
       "      <td>0.0</td>\n",
       "      <td>0.0</td>\n",
       "      <td>0.0</td>\n",
       "    </tr>\n",
       "    <tr>\n",
       "      <th>1</th>\n",
       "      <td>2023-08-01</td>\n",
       "      <td>NaN</td>\n",
       "      <td>Engine Oil Delo Silver SAE40/ Diesel Engine Oil</td>\n",
       "      <td>9.0</td>\n",
       "      <td>12000.0</td>\n",
       "      <td>108000.0</td>\n",
       "    </tr>\n",
       "    <tr>\n",
       "      <th>2</th>\n",
       "      <td>2023-08-01</td>\n",
       "      <td>NaN</td>\n",
       "      <td>Oil Filter 04152-38020,YZZA4  L/C VDJ200R</td>\n",
       "      <td>1.0</td>\n",
       "      <td>48284.0</td>\n",
       "      <td>48284.0</td>\n",
       "    </tr>\n",
       "    <tr>\n",
       "      <th>3</th>\n",
       "      <td>2023-08-01</td>\n",
       "      <td>NaN</td>\n",
       "      <td>Diesel Filter 23390-51070 - L/C Hzj 76,79,VDJ200R</td>\n",
       "      <td>1.0</td>\n",
       "      <td>39500.0</td>\n",
       "      <td>39500.0</td>\n",
       "    </tr>\n",
       "    <tr>\n",
       "      <th>4</th>\n",
       "      <td>2023-08-01</td>\n",
       "      <td>NaN</td>\n",
       "      <td>Air Cleaner 17801-51020 LC VDJ 200R</td>\n",
       "      <td>1.0</td>\n",
       "      <td>98034.0</td>\n",
       "      <td>98034.0</td>\n",
       "    </tr>\n",
       "  </tbody>\n",
       "</table>\n",
       "</div>"
      ],
      "text/plain": [
       "        Date  Issued To                                          Item Name  \\\n",
       "0 2023-08-01        NaN                                            UNKNOWN   \n",
       "1 2023-08-01        NaN    Engine Oil Delo Silver SAE40/ Diesel Engine Oil   \n",
       "2 2023-08-01        NaN          Oil Filter 04152-38020,YZZA4  L/C VDJ200R   \n",
       "3 2023-08-01        NaN  Diesel Filter 23390-51070 - L/C Hzj 76,79,VDJ200R   \n",
       "4 2023-08-01        NaN                Air Cleaner 17801-51020 LC VDJ 200R   \n",
       "\n",
       "   Qty  Unit Price    Amount  \n",
       "0  0.0         0.0       0.0  \n",
       "1  9.0     12000.0  108000.0  \n",
       "2  1.0     48284.0   48284.0  \n",
       "3  1.0     39500.0   39500.0  \n",
       "4  1.0     98034.0   98034.0  "
      ]
     },
     "execution_count": 2,
     "metadata": {},
     "output_type": "execute_result"
    }
   ],
   "source": [
    "#Importing File\n",
    "df = pd.read_excel('Stock Issues 1-12 August 2023.xlsx')\n",
    "df.head()"
   ]
  },
  {
   "cell_type": "code",
   "execution_count": 3,
   "id": "e5ae9f2c",
   "metadata": {},
   "outputs": [
    {
     "data": {
      "text/plain": [
       "(1370, 6)"
      ]
     },
     "execution_count": 3,
     "metadata": {},
     "output_type": "execute_result"
    }
   ],
   "source": [
    "df.shape #Shape of our data - Rows and Columns"
   ]
  },
  {
   "cell_type": "markdown",
   "id": "fa81d822",
   "metadata": {},
   "source": [
    "# Data Cleaning and Transformation"
   ]
  },
  {
   "cell_type": "code",
   "execution_count": 4,
   "id": "235d3395",
   "metadata": {},
   "outputs": [
    {
     "name": "stdout",
     "output_type": "stream",
     "text": [
      "<class 'pandas.core.frame.DataFrame'>\n",
      "RangeIndex: 1370 entries, 0 to 1369\n",
      "Data columns (total 6 columns):\n",
      " #   Column      Non-Null Count  Dtype         \n",
      "---  ------      --------------  -----         \n",
      " 0   Date        1370 non-null   datetime64[ns]\n",
      " 1   Issued To   0 non-null      float64       \n",
      " 2   Item Name   1370 non-null   object        \n",
      " 3   Qty         1187 non-null   float64       \n",
      " 4   Unit Price  1179 non-null   float64       \n",
      " 5   Amount      1179 non-null   float64       \n",
      "dtypes: datetime64[ns](1), float64(4), object(1)\n",
      "memory usage: 64.3+ KB\n"
     ]
    }
   ],
   "source": [
    "df.info()"
   ]
  },
  {
   "cell_type": "code",
   "execution_count": 5,
   "id": "e4130616",
   "metadata": {},
   "outputs": [
    {
     "data": {
      "text/html": [
       "<div>\n",
       "<style scoped>\n",
       "    .dataframe tbody tr th:only-of-type {\n",
       "        vertical-align: middle;\n",
       "    }\n",
       "\n",
       "    .dataframe tbody tr th {\n",
       "        vertical-align: top;\n",
       "    }\n",
       "\n",
       "    .dataframe thead th {\n",
       "        text-align: right;\n",
       "    }\n",
       "</style>\n",
       "<table border=\"1\" class=\"dataframe\">\n",
       "  <thead>\n",
       "    <tr style=\"text-align: right;\">\n",
       "      <th></th>\n",
       "      <th>Date</th>\n",
       "      <th>Issued To</th>\n",
       "      <th>Item Name</th>\n",
       "      <th>Qty</th>\n",
       "      <th>Unit Price</th>\n",
       "      <th>Amount</th>\n",
       "    </tr>\n",
       "  </thead>\n",
       "  <tbody>\n",
       "    <tr>\n",
       "      <th>0</th>\n",
       "      <td>2023-08-01</td>\n",
       "      <td>NaN</td>\n",
       "      <td>UNKNOWN</td>\n",
       "      <td>0.0</td>\n",
       "      <td>0.0</td>\n",
       "      <td>0.0</td>\n",
       "    </tr>\n",
       "    <tr>\n",
       "      <th>1</th>\n",
       "      <td>2023-08-01</td>\n",
       "      <td>NaN</td>\n",
       "      <td>Engine Oil Delo Silver SAE40/ Diesel Engine Oil</td>\n",
       "      <td>9.0</td>\n",
       "      <td>12000.0</td>\n",
       "      <td>108000.0</td>\n",
       "    </tr>\n",
       "    <tr>\n",
       "      <th>2</th>\n",
       "      <td>2023-08-01</td>\n",
       "      <td>NaN</td>\n",
       "      <td>Oil Filter 04152-38020,YZZA4  L/C VDJ200R</td>\n",
       "      <td>1.0</td>\n",
       "      <td>48284.0</td>\n",
       "      <td>48284.0</td>\n",
       "    </tr>\n",
       "    <tr>\n",
       "      <th>3</th>\n",
       "      <td>2023-08-01</td>\n",
       "      <td>NaN</td>\n",
       "      <td>Diesel Filter 23390-51070 - L/C Hzj 76,79,VDJ200R</td>\n",
       "      <td>1.0</td>\n",
       "      <td>39500.0</td>\n",
       "      <td>39500.0</td>\n",
       "    </tr>\n",
       "    <tr>\n",
       "      <th>4</th>\n",
       "      <td>2023-08-01</td>\n",
       "      <td>NaN</td>\n",
       "      <td>Air Cleaner 17801-51020 LC VDJ 200R</td>\n",
       "      <td>1.0</td>\n",
       "      <td>98034.0</td>\n",
       "      <td>98034.0</td>\n",
       "    </tr>\n",
       "  </tbody>\n",
       "</table>\n",
       "</div>"
      ],
      "text/plain": [
       "        Date  Issued To                                          Item Name  \\\n",
       "0 2023-08-01        NaN                                            UNKNOWN   \n",
       "1 2023-08-01        NaN    Engine Oil Delo Silver SAE40/ Diesel Engine Oil   \n",
       "2 2023-08-01        NaN          Oil Filter 04152-38020,YZZA4  L/C VDJ200R   \n",
       "3 2023-08-01        NaN  Diesel Filter 23390-51070 - L/C Hzj 76,79,VDJ200R   \n",
       "4 2023-08-01        NaN                Air Cleaner 17801-51020 LC VDJ 200R   \n",
       "\n",
       "   Qty  Unit Price    Amount  \n",
       "0  0.0         0.0       0.0  \n",
       "1  9.0     12000.0  108000.0  \n",
       "2  1.0     48284.0   48284.0  \n",
       "3  1.0     39500.0   39500.0  \n",
       "4  1.0     98034.0   98034.0  "
      ]
     },
     "execution_count": 5,
     "metadata": {},
     "output_type": "execute_result"
    }
   ],
   "source": [
    "#Changing date column data type to datetime\n",
    "df[\"Date\"] = pd.to_datetime(df[\"Date\"], format=\"%A, %d %B %Y\")\n",
    "df.head()"
   ]
  },
  {
   "cell_type": "code",
   "execution_count": 6,
   "id": "bc93859f",
   "metadata": {},
   "outputs": [
    {
     "data": {
      "text/html": [
       "<div>\n",
       "<style scoped>\n",
       "    .dataframe tbody tr th:only-of-type {\n",
       "        vertical-align: middle;\n",
       "    }\n",
       "\n",
       "    .dataframe tbody tr th {\n",
       "        vertical-align: top;\n",
       "    }\n",
       "\n",
       "    .dataframe thead th {\n",
       "        text-align: right;\n",
       "    }\n",
       "</style>\n",
       "<table border=\"1\" class=\"dataframe\">\n",
       "  <thead>\n",
       "    <tr style=\"text-align: right;\">\n",
       "      <th></th>\n",
       "      <th>Date</th>\n",
       "      <th>Issued To</th>\n",
       "      <th>Item Name</th>\n",
       "      <th>Qty</th>\n",
       "      <th>Unit Price</th>\n",
       "      <th>Amount</th>\n",
       "    </tr>\n",
       "  </thead>\n",
       "  <tbody>\n",
       "    <tr>\n",
       "      <th>0</th>\n",
       "      <td>2023-08-01</td>\n",
       "      <td>NaN</td>\n",
       "      <td>UNKNOWN</td>\n",
       "      <td>0.0</td>\n",
       "      <td>0.0</td>\n",
       "      <td>0.0</td>\n",
       "    </tr>\n",
       "    <tr>\n",
       "      <th>1</th>\n",
       "      <td>2023-08-01</td>\n",
       "      <td>NaN</td>\n",
       "      <td>Engine Oil Delo Silver SAE40/ Diesel Engine Oil</td>\n",
       "      <td>9.0</td>\n",
       "      <td>12000.0</td>\n",
       "      <td>108000.0</td>\n",
       "    </tr>\n",
       "    <tr>\n",
       "      <th>2</th>\n",
       "      <td>2023-08-01</td>\n",
       "      <td>NaN</td>\n",
       "      <td>Oil Filter 04152-38020,YZZA4  L/C VDJ200R</td>\n",
       "      <td>1.0</td>\n",
       "      <td>48284.0</td>\n",
       "      <td>48284.0</td>\n",
       "    </tr>\n",
       "    <tr>\n",
       "      <th>3</th>\n",
       "      <td>2023-08-01</td>\n",
       "      <td>NaN</td>\n",
       "      <td>Diesel Filter 23390-51070 - L/C Hzj 76,79,VDJ200R</td>\n",
       "      <td>1.0</td>\n",
       "      <td>39500.0</td>\n",
       "      <td>39500.0</td>\n",
       "    </tr>\n",
       "    <tr>\n",
       "      <th>4</th>\n",
       "      <td>2023-08-01</td>\n",
       "      <td>NaN</td>\n",
       "      <td>Air Cleaner 17801-51020 LC VDJ 200R</td>\n",
       "      <td>1.0</td>\n",
       "      <td>98034.0</td>\n",
       "      <td>98034.0</td>\n",
       "    </tr>\n",
       "  </tbody>\n",
       "</table>\n",
       "</div>"
      ],
      "text/plain": [
       "        Date  Issued To                                          Item Name  \\\n",
       "0 2023-08-01        NaN                                            UNKNOWN   \n",
       "1 2023-08-01        NaN    Engine Oil Delo Silver SAE40/ Diesel Engine Oil   \n",
       "2 2023-08-01        NaN          Oil Filter 04152-38020,YZZA4  L/C VDJ200R   \n",
       "3 2023-08-01        NaN  Diesel Filter 23390-51070 - L/C Hzj 76,79,VDJ200R   \n",
       "4 2023-08-01        NaN                Air Cleaner 17801-51020 LC VDJ 200R   \n",
       "\n",
       "   Qty  Unit Price    Amount  \n",
       "0  0.0         0.0       0.0  \n",
       "1  9.0     12000.0  108000.0  \n",
       "2  1.0     48284.0   48284.0  \n",
       "3  1.0     39500.0   39500.0  \n",
       "4  1.0     98034.0   98034.0  "
      ]
     },
     "execution_count": 6,
     "metadata": {},
     "output_type": "execute_result"
    }
   ],
   "source": [
    "# Forward-fill missing dates\n",
    "df[\"Date\"].fillna(method=\"ffill\", inplace=True)\n",
    "df.head()"
   ]
  },
  {
   "cell_type": "code",
   "execution_count": 7,
   "id": "cf9fedde",
   "metadata": {},
   "outputs": [
    {
     "data": {
      "text/html": [
       "<div>\n",
       "<style scoped>\n",
       "    .dataframe tbody tr th:only-of-type {\n",
       "        vertical-align: middle;\n",
       "    }\n",
       "\n",
       "    .dataframe tbody tr th {\n",
       "        vertical-align: top;\n",
       "    }\n",
       "\n",
       "    .dataframe thead th {\n",
       "        text-align: right;\n",
       "    }\n",
       "</style>\n",
       "<table border=\"1\" class=\"dataframe\">\n",
       "  <thead>\n",
       "    <tr style=\"text-align: right;\">\n",
       "      <th></th>\n",
       "      <th>Date</th>\n",
       "      <th>Issued To</th>\n",
       "      <th>Item Name</th>\n",
       "      <th>Qty</th>\n",
       "      <th>Unit Price</th>\n",
       "      <th>Amount</th>\n",
       "    </tr>\n",
       "  </thead>\n",
       "  <tbody>\n",
       "    <tr>\n",
       "      <th>0</th>\n",
       "      <td>2023-08-01</td>\n",
       "      <td>UNKNOWN</td>\n",
       "      <td>UNKNOWN</td>\n",
       "      <td>0.0</td>\n",
       "      <td>0.0</td>\n",
       "      <td>0.0</td>\n",
       "    </tr>\n",
       "    <tr>\n",
       "      <th>1</th>\n",
       "      <td>2023-08-01</td>\n",
       "      <td>NaN</td>\n",
       "      <td>Engine Oil Delo Silver SAE40/ Diesel Engine Oil</td>\n",
       "      <td>9.0</td>\n",
       "      <td>12000.0</td>\n",
       "      <td>108000.0</td>\n",
       "    </tr>\n",
       "    <tr>\n",
       "      <th>2</th>\n",
       "      <td>2023-08-01</td>\n",
       "      <td>NaN</td>\n",
       "      <td>Oil Filter 04152-38020,YZZA4  L/C VDJ200R</td>\n",
       "      <td>1.0</td>\n",
       "      <td>48284.0</td>\n",
       "      <td>48284.0</td>\n",
       "    </tr>\n",
       "    <tr>\n",
       "      <th>3</th>\n",
       "      <td>2023-08-01</td>\n",
       "      <td>NaN</td>\n",
       "      <td>Diesel Filter 23390-51070 - L/C Hzj 76,79,VDJ200R</td>\n",
       "      <td>1.0</td>\n",
       "      <td>39500.0</td>\n",
       "      <td>39500.0</td>\n",
       "    </tr>\n",
       "    <tr>\n",
       "      <th>4</th>\n",
       "      <td>2023-08-01</td>\n",
       "      <td>NaN</td>\n",
       "      <td>Air Cleaner 17801-51020 LC VDJ 200R</td>\n",
       "      <td>1.0</td>\n",
       "      <td>98034.0</td>\n",
       "      <td>98034.0</td>\n",
       "    </tr>\n",
       "  </tbody>\n",
       "</table>\n",
       "</div>"
      ],
      "text/plain": [
       "        Date Issued To                                          Item Name  \\\n",
       "0 2023-08-01   UNKNOWN                                            UNKNOWN   \n",
       "1 2023-08-01       NaN    Engine Oil Delo Silver SAE40/ Diesel Engine Oil   \n",
       "2 2023-08-01       NaN          Oil Filter 04152-38020,YZZA4  L/C VDJ200R   \n",
       "3 2023-08-01       NaN  Diesel Filter 23390-51070 - L/C Hzj 76,79,VDJ200R   \n",
       "4 2023-08-01       NaN                Air Cleaner 17801-51020 LC VDJ 200R   \n",
       "\n",
       "   Qty  Unit Price    Amount  \n",
       "0  0.0         0.0       0.0  \n",
       "1  9.0     12000.0  108000.0  \n",
       "2  1.0     48284.0   48284.0  \n",
       "3  1.0     39500.0   39500.0  \n",
       "4  1.0     98034.0   98034.0  "
      ]
     },
     "execution_count": 7,
     "metadata": {},
     "output_type": "execute_result"
    }
   ],
   "source": [
    "# Replacing null values in \"Issued To\" column with the corresponding non-null value in \"Item Name\" column for only null values in QTy\n",
    "df.loc[df[\"Issued To\"].isnull() & df[\"Amount\"]==0, \"Issued To\"] = df.loc[df[\"Issued To\"].isnull() & df[\"Amount\"]==0, \"Item Name\"]\n",
    "\n",
    "df.head()"
   ]
  },
  {
   "cell_type": "code",
   "execution_count": 8,
   "id": "bf477ff0",
   "metadata": {},
   "outputs": [],
   "source": [
    "# Forward-fill missing values in the Issued To Column\n",
    "df[\"Issued To\"].fillna(method=\"ffill\", inplace=True)"
   ]
  },
  {
   "cell_type": "code",
   "execution_count": 9,
   "id": "3cd5a5e2",
   "metadata": {},
   "outputs": [
    {
     "data": {
      "text/html": [
       "<div>\n",
       "<style scoped>\n",
       "    .dataframe tbody tr th:only-of-type {\n",
       "        vertical-align: middle;\n",
       "    }\n",
       "\n",
       "    .dataframe tbody tr th {\n",
       "        vertical-align: top;\n",
       "    }\n",
       "\n",
       "    .dataframe thead th {\n",
       "        text-align: right;\n",
       "    }\n",
       "</style>\n",
       "<table border=\"1\" class=\"dataframe\">\n",
       "  <thead>\n",
       "    <tr style=\"text-align: right;\">\n",
       "      <th></th>\n",
       "      <th>Date</th>\n",
       "      <th>Issued To</th>\n",
       "      <th>Item Name</th>\n",
       "      <th>Qty</th>\n",
       "      <th>Unit Price</th>\n",
       "      <th>Amount</th>\n",
       "    </tr>\n",
       "  </thead>\n",
       "  <tbody>\n",
       "    <tr>\n",
       "      <th>0</th>\n",
       "      <td>2023-08-01</td>\n",
       "      <td>UNKNOWN</td>\n",
       "      <td>UNKNOWN</td>\n",
       "      <td>NaN</td>\n",
       "      <td>NaN</td>\n",
       "      <td>NaN</td>\n",
       "    </tr>\n",
       "    <tr>\n",
       "      <th>1</th>\n",
       "      <td>2023-08-01</td>\n",
       "      <td>UNKNOWN</td>\n",
       "      <td>Engine Oil Delo Silver SAE40/ Diesel Engine Oil</td>\n",
       "      <td>9.0</td>\n",
       "      <td>12000.0</td>\n",
       "      <td>108000.0</td>\n",
       "    </tr>\n",
       "    <tr>\n",
       "      <th>2</th>\n",
       "      <td>2023-08-01</td>\n",
       "      <td>UNKNOWN</td>\n",
       "      <td>Oil Filter 04152-38020,YZZA4  L/C VDJ200R</td>\n",
       "      <td>1.0</td>\n",
       "      <td>48284.0</td>\n",
       "      <td>48284.0</td>\n",
       "    </tr>\n",
       "    <tr>\n",
       "      <th>3</th>\n",
       "      <td>2023-08-01</td>\n",
       "      <td>UNKNOWN</td>\n",
       "      <td>Diesel Filter 23390-51070 - L/C Hzj 76,79,VDJ200R</td>\n",
       "      <td>1.0</td>\n",
       "      <td>39500.0</td>\n",
       "      <td>39500.0</td>\n",
       "    </tr>\n",
       "    <tr>\n",
       "      <th>4</th>\n",
       "      <td>2023-08-01</td>\n",
       "      <td>UNKNOWN</td>\n",
       "      <td>Air Cleaner 17801-51020 LC VDJ 200R</td>\n",
       "      <td>1.0</td>\n",
       "      <td>98034.0</td>\n",
       "      <td>98034.0</td>\n",
       "    </tr>\n",
       "    <tr>\n",
       "      <th>5</th>\n",
       "      <td>2023-08-01</td>\n",
       "      <td>NATIONAL WATER AND SEWERAGE CORPORATION(NWSC)</td>\n",
       "      <td>NATIONAL WATER AND SEWERAGE CORPORATION(NWSC)</td>\n",
       "      <td>NaN</td>\n",
       "      <td>NaN</td>\n",
       "      <td>NaN</td>\n",
       "    </tr>\n",
       "    <tr>\n",
       "      <th>6</th>\n",
       "      <td>2023-08-01</td>\n",
       "      <td>NATIONAL WATER AND SEWERAGE CORPORATION(NWSC)</td>\n",
       "      <td>Z-Link 48810-0K010  Lan,Kun25r</td>\n",
       "      <td>1.0</td>\n",
       "      <td>165000.0</td>\n",
       "      <td>165000.0</td>\n",
       "    </tr>\n",
       "    <tr>\n",
       "      <th>7</th>\n",
       "      <td>2023-08-01</td>\n",
       "      <td>NATIONAL WATER AND SEWERAGE CORPORATION(NWSC)</td>\n",
       "      <td>Z-Link 48820-0K030 Lan,Kun25r</td>\n",
       "      <td>1.0</td>\n",
       "      <td>165000.0</td>\n",
       "      <td>165000.0</td>\n",
       "    </tr>\n",
       "    <tr>\n",
       "      <th>8</th>\n",
       "      <td>2023-08-01</td>\n",
       "      <td>UPDF</td>\n",
       "      <td>UPDF</td>\n",
       "      <td>NaN</td>\n",
       "      <td>NaN</td>\n",
       "      <td>NaN</td>\n",
       "    </tr>\n",
       "    <tr>\n",
       "      <th>9</th>\n",
       "      <td>2023-08-01</td>\n",
       "      <td>UPDF</td>\n",
       "      <td>Rear Brake Pads 04466-60160 LC VDJ 200R/KD2388</td>\n",
       "      <td>1.0</td>\n",
       "      <td>240000.0</td>\n",
       "      <td>240000.0</td>\n",
       "    </tr>\n",
       "  </tbody>\n",
       "</table>\n",
       "</div>"
      ],
      "text/plain": [
       "        Date                                      Issued To  \\\n",
       "0 2023-08-01                                        UNKNOWN   \n",
       "1 2023-08-01                                        UNKNOWN   \n",
       "2 2023-08-01                                        UNKNOWN   \n",
       "3 2023-08-01                                        UNKNOWN   \n",
       "4 2023-08-01                                        UNKNOWN   \n",
       "5 2023-08-01  NATIONAL WATER AND SEWERAGE CORPORATION(NWSC)   \n",
       "6 2023-08-01  NATIONAL WATER AND SEWERAGE CORPORATION(NWSC)   \n",
       "7 2023-08-01  NATIONAL WATER AND SEWERAGE CORPORATION(NWSC)   \n",
       "8 2023-08-01                                           UPDF   \n",
       "9 2023-08-01                                           UPDF   \n",
       "\n",
       "                                           Item Name  Qty  Unit Price  \\\n",
       "0                                            UNKNOWN  NaN         NaN   \n",
       "1    Engine Oil Delo Silver SAE40/ Diesel Engine Oil  9.0     12000.0   \n",
       "2          Oil Filter 04152-38020,YZZA4  L/C VDJ200R  1.0     48284.0   \n",
       "3  Diesel Filter 23390-51070 - L/C Hzj 76,79,VDJ200R  1.0     39500.0   \n",
       "4                Air Cleaner 17801-51020 LC VDJ 200R  1.0     98034.0   \n",
       "5      NATIONAL WATER AND SEWERAGE CORPORATION(NWSC)  NaN         NaN   \n",
       "6                     Z-Link 48810-0K010  Lan,Kun25r  1.0    165000.0   \n",
       "7                      Z-Link 48820-0K030 Lan,Kun25r  1.0    165000.0   \n",
       "8                                               UPDF  NaN         NaN   \n",
       "9     Rear Brake Pads 04466-60160 LC VDJ 200R/KD2388  1.0    240000.0   \n",
       "\n",
       "     Amount  \n",
       "0       NaN  \n",
       "1  108000.0  \n",
       "2   48284.0  \n",
       "3   39500.0  \n",
       "4   98034.0  \n",
       "5       NaN  \n",
       "6  165000.0  \n",
       "7  165000.0  \n",
       "8       NaN  \n",
       "9  240000.0  "
      ]
     },
     "execution_count": 9,
     "metadata": {},
     "output_type": "execute_result"
    }
   ],
   "source": [
    "df.replace(0, np.nan, inplace=True)\n",
    "df.head(10)"
   ]
  },
  {
   "cell_type": "code",
   "execution_count": 10,
   "id": "bf8b4c23",
   "metadata": {},
   "outputs": [],
   "source": [
    "# Droping rows with NaN values\n",
    "df.dropna(inplace=True)"
   ]
  },
  {
   "cell_type": "code",
   "execution_count": 11,
   "id": "fb653d8f",
   "metadata": {},
   "outputs": [
    {
     "data": {
      "text/html": [
       "<div>\n",
       "<style scoped>\n",
       "    .dataframe tbody tr th:only-of-type {\n",
       "        vertical-align: middle;\n",
       "    }\n",
       "\n",
       "    .dataframe tbody tr th {\n",
       "        vertical-align: top;\n",
       "    }\n",
       "\n",
       "    .dataframe thead th {\n",
       "        text-align: right;\n",
       "    }\n",
       "</style>\n",
       "<table border=\"1\" class=\"dataframe\">\n",
       "  <thead>\n",
       "    <tr style=\"text-align: right;\">\n",
       "      <th></th>\n",
       "      <th>Date</th>\n",
       "      <th>Issued To</th>\n",
       "      <th>Item Name</th>\n",
       "      <th>Qty</th>\n",
       "      <th>Unit Price</th>\n",
       "      <th>Amount</th>\n",
       "    </tr>\n",
       "  </thead>\n",
       "  <tbody>\n",
       "    <tr>\n",
       "      <th>1</th>\n",
       "      <td>2023-08-01</td>\n",
       "      <td>UNKNOWN</td>\n",
       "      <td>Engine Oil Delo Silver SAE40/ Diesel Engine Oil</td>\n",
       "      <td>9.0</td>\n",
       "      <td>12000.0</td>\n",
       "      <td>108000.0</td>\n",
       "    </tr>\n",
       "    <tr>\n",
       "      <th>2</th>\n",
       "      <td>2023-08-01</td>\n",
       "      <td>UNKNOWN</td>\n",
       "      <td>Oil Filter 04152-38020,YZZA4  L/C VDJ200R</td>\n",
       "      <td>1.0</td>\n",
       "      <td>48284.0</td>\n",
       "      <td>48284.0</td>\n",
       "    </tr>\n",
       "    <tr>\n",
       "      <th>3</th>\n",
       "      <td>2023-08-01</td>\n",
       "      <td>UNKNOWN</td>\n",
       "      <td>Diesel Filter 23390-51070 - L/C Hzj 76,79,VDJ200R</td>\n",
       "      <td>1.0</td>\n",
       "      <td>39500.0</td>\n",
       "      <td>39500.0</td>\n",
       "    </tr>\n",
       "    <tr>\n",
       "      <th>4</th>\n",
       "      <td>2023-08-01</td>\n",
       "      <td>UNKNOWN</td>\n",
       "      <td>Air Cleaner 17801-51020 LC VDJ 200R</td>\n",
       "      <td>1.0</td>\n",
       "      <td>98034.0</td>\n",
       "      <td>98034.0</td>\n",
       "    </tr>\n",
       "    <tr>\n",
       "      <th>6</th>\n",
       "      <td>2023-08-01</td>\n",
       "      <td>NATIONAL WATER AND SEWERAGE CORPORATION(NWSC)</td>\n",
       "      <td>Z-Link 48810-0K010  Lan,Kun25r</td>\n",
       "      <td>1.0</td>\n",
       "      <td>165000.0</td>\n",
       "      <td>165000.0</td>\n",
       "    </tr>\n",
       "    <tr>\n",
       "      <th>7</th>\n",
       "      <td>2023-08-01</td>\n",
       "      <td>NATIONAL WATER AND SEWERAGE CORPORATION(NWSC)</td>\n",
       "      <td>Z-Link 48820-0K030 Lan,Kun25r</td>\n",
       "      <td>1.0</td>\n",
       "      <td>165000.0</td>\n",
       "      <td>165000.0</td>\n",
       "    </tr>\n",
       "    <tr>\n",
       "      <th>9</th>\n",
       "      <td>2023-08-01</td>\n",
       "      <td>UPDF</td>\n",
       "      <td>Rear Brake Pads 04466-60160 LC VDJ 200R/KD2388</td>\n",
       "      <td>1.0</td>\n",
       "      <td>240000.0</td>\n",
       "      <td>240000.0</td>\n",
       "    </tr>\n",
       "    <tr>\n",
       "      <th>10</th>\n",
       "      <td>2023-08-01</td>\n",
       "      <td>UPDF</td>\n",
       "      <td>Handbrake Shoes 46530-34010 Lc Vdj 200</td>\n",
       "      <td>4.0</td>\n",
       "      <td>89500.0</td>\n",
       "      <td>358000.0</td>\n",
       "    </tr>\n",
       "    <tr>\n",
       "      <th>11</th>\n",
       "      <td>2023-08-01</td>\n",
       "      <td>UPDF</td>\n",
       "      <td>Bull Bar Assy - Land Cruiser VDJ 200R</td>\n",
       "      <td>1.0</td>\n",
       "      <td>5000000.0</td>\n",
       "      <td>5000000.0</td>\n",
       "    </tr>\n",
       "    <tr>\n",
       "      <th>13</th>\n",
       "      <td>2023-08-01</td>\n",
       "      <td>HON LATIF SSEBAGALA</td>\n",
       "      <td>Engine Oil Delo Silver SAE40/ Diesel Engine Oil</td>\n",
       "      <td>9.0</td>\n",
       "      <td>12000.0</td>\n",
       "      <td>108000.0</td>\n",
       "    </tr>\n",
       "  </tbody>\n",
       "</table>\n",
       "</div>"
      ],
      "text/plain": [
       "         Date                                      Issued To  \\\n",
       "1  2023-08-01                                        UNKNOWN   \n",
       "2  2023-08-01                                        UNKNOWN   \n",
       "3  2023-08-01                                        UNKNOWN   \n",
       "4  2023-08-01                                        UNKNOWN   \n",
       "6  2023-08-01  NATIONAL WATER AND SEWERAGE CORPORATION(NWSC)   \n",
       "7  2023-08-01  NATIONAL WATER AND SEWERAGE CORPORATION(NWSC)   \n",
       "9  2023-08-01                                           UPDF   \n",
       "10 2023-08-01                                           UPDF   \n",
       "11 2023-08-01                                           UPDF   \n",
       "13 2023-08-01                            HON LATIF SSEBAGALA   \n",
       "\n",
       "                                            Item Name  Qty  Unit Price  \\\n",
       "1     Engine Oil Delo Silver SAE40/ Diesel Engine Oil  9.0     12000.0   \n",
       "2           Oil Filter 04152-38020,YZZA4  L/C VDJ200R  1.0     48284.0   \n",
       "3   Diesel Filter 23390-51070 - L/C Hzj 76,79,VDJ200R  1.0     39500.0   \n",
       "4                 Air Cleaner 17801-51020 LC VDJ 200R  1.0     98034.0   \n",
       "6                      Z-Link 48810-0K010  Lan,Kun25r  1.0    165000.0   \n",
       "7                       Z-Link 48820-0K030 Lan,Kun25r  1.0    165000.0   \n",
       "9      Rear Brake Pads 04466-60160 LC VDJ 200R/KD2388  1.0    240000.0   \n",
       "10             Handbrake Shoes 46530-34010 Lc Vdj 200  4.0     89500.0   \n",
       "11              Bull Bar Assy - Land Cruiser VDJ 200R  1.0   5000000.0   \n",
       "13    Engine Oil Delo Silver SAE40/ Diesel Engine Oil  9.0     12000.0   \n",
       "\n",
       "       Amount  \n",
       "1    108000.0  \n",
       "2     48284.0  \n",
       "3     39500.0  \n",
       "4     98034.0  \n",
       "6    165000.0  \n",
       "7    165000.0  \n",
       "9    240000.0  \n",
       "10   358000.0  \n",
       "11  5000000.0  \n",
       "13   108000.0  "
      ]
     },
     "execution_count": 11,
     "metadata": {},
     "output_type": "execute_result"
    }
   ],
   "source": [
    "df.head(10)"
   ]
  },
  {
   "cell_type": "markdown",
   "id": "9f40c50b",
   "metadata": {},
   "source": [
    "# Exploratory Data Analysis"
   ]
  },
  {
   "cell_type": "code",
   "execution_count": 12,
   "id": "68abac19",
   "metadata": {},
   "outputs": [
    {
     "data": {
      "text/plain": [
       "(1041, 6)"
      ]
     },
     "execution_count": 12,
     "metadata": {},
     "output_type": "execute_result"
    }
   ],
   "source": [
    "df.shape"
   ]
  },
  {
   "cell_type": "code",
   "execution_count": 13,
   "id": "61ce8dae",
   "metadata": {},
   "outputs": [
    {
     "name": "stdout",
     "output_type": "stream",
     "text": [
      "<class 'pandas.core.frame.DataFrame'>\n",
      "Index: 1041 entries, 1 to 1369\n",
      "Data columns (total 6 columns):\n",
      " #   Column      Non-Null Count  Dtype         \n",
      "---  ------      --------------  -----         \n",
      " 0   Date        1041 non-null   datetime64[ns]\n",
      " 1   Issued To   1041 non-null   object        \n",
      " 2   Item Name   1041 non-null   object        \n",
      " 3   Qty         1041 non-null   float64       \n",
      " 4   Unit Price  1041 non-null   float64       \n",
      " 5   Amount      1041 non-null   float64       \n",
      "dtypes: datetime64[ns](1), float64(3), object(2)\n",
      "memory usage: 56.9+ KB\n"
     ]
    }
   ],
   "source": [
    "df.info()"
   ]
  },
  {
   "cell_type": "markdown",
   "id": "a8209527",
   "metadata": {},
   "source": [
    "<b>Client exploration</b>"
   ]
  },
  {
   "cell_type": "code",
   "execution_count": 14,
   "id": "714602dc",
   "metadata": {},
   "outputs": [
    {
     "data": {
      "text/plain": [
       "113"
      ]
     },
     "execution_count": 14,
     "metadata": {},
     "output_type": "execute_result"
    }
   ],
   "source": [
    "df['Issued To'].nunique()"
   ]
  },
  {
   "cell_type": "markdown",
   "id": "809d43dd",
   "metadata": {},
   "source": [
    "We have 113 different clients from the month of August"
   ]
  },
  {
   "cell_type": "markdown",
   "id": "50f1d6e6",
   "metadata": {},
   "source": [
    "<b>Top Loyal clients</b>"
   ]
  },
  {
   "cell_type": "code",
   "execution_count": 15,
   "id": "9f0d0470",
   "metadata": {},
   "outputs": [
    {
     "data": {
      "text/plain": [
       "Issued To\n",
       "UPDF                                    151\n",
       "STATE HOUSE GARAGE                       73\n",
       "Min of Defence(M.O.D)                    42\n",
       "JANET MUHAKANIZI                         37\n",
       "MIN OF WATER AND ENVIROMENT(M.O.W.E)     36\n",
       "MIN OF I.C.T                             32\n",
       "UGANDA REVENUE AUTHORITY                 31\n",
       "WORLD VISION                             27\n",
       "NRM SEC                                  25\n",
       "Sanlam/ Blue Pearl Company Ltd           25\n",
       "MIN OF FINANCE(M.O.F)                    24\n",
       "UGRANDI HOLDING LTD                      23\n",
       "BOB KABONERO                             21\n",
       "PETER TUKEI                              21\n",
       "UAP/WORLD VISION                         18\n",
       "Frontis Residence                        18\n",
       "Hon Justice Phillip Odoki                17\n",
       "AIKIRIZA ESTHER -NEW                     15\n",
       "CIC INSURANCE                            15\n",
       "Kitara Geargo C/o FAO                    15\n",
       "Name: count, dtype: int64"
      ]
     },
     "execution_count": 15,
     "metadata": {},
     "output_type": "execute_result"
    }
   ],
   "source": [
    "top20 = df['Issued To'].value_counts().head(20)\n",
    "top20"
   ]
  },
  {
   "cell_type": "code",
   "execution_count": 16,
   "id": "1a177985",
   "metadata": {},
   "outputs": [
    {
     "data": {
      "text/plain": [
       "<Axes: ylabel='Issued To'>"
      ]
     },
     "execution_count": 16,
     "metadata": {},
     "output_type": "execute_result"
    },
    {
     "data": {
      "image/png": "[encoded data removed]",
      "text/plain": [
       "<Figure size 640x480 with 1 Axes>"
      ]
     },
     "metadata": {},
     "output_type": "display_data"
    }
   ],
   "source": [
    "top20.plot(kind = 'barh')"
   ]
  },
  {
   "cell_type": "code",
   "execution_count": 17,
   "id": "bd4728fb",
   "metadata": {},
   "outputs": [
    {
     "data": {
      "text/plain": [
       "Issued To\n",
       "LIBERTY INS/ MANUU VARSANI                             2\n",
       "WAR CHILDHOLLAND                                       2\n",
       "PIUS BIGIRIMANA                                        1\n",
       "KIKAGATI POWER(K.P)                                    1\n",
       "SANLAM                                                 1\n",
       "STRONG MINDS                                           1\n",
       "Uganda Business And Technical Examination Board-UBT    1\n",
       "MANISH VARSANI                                         1\n",
       "BTS CLEANING AND FORWERING LTD                         1\n",
       "UEGCL 1                                                1\n",
       "HON CHEIF JUSTICE BENJAMIN ODOKI                       1\n",
       "HON ANN TUMWINE                                        1\n",
       "Uganda Blood Transfusion Service (U.B.T.S)             1\n",
       "Ministry of Agriculture                                1\n",
       "Water And Santation Develoment(W.S.D)                  1\n",
       "DAVID                                                  1\n",
       "HON ANNA                                               1\n",
       "China Forestry                                         1\n",
       "M&R Auto Parts                                         1\n",
       "KARUGABA ANDREW                                        1\n",
       "Name: count, dtype: int64"
      ]
     },
     "execution_count": 17,
     "metadata": {},
     "output_type": "execute_result"
    }
   ],
   "source": [
    "last20 = df['Issued To'].value_counts().tail(20)\n",
    "last20"
   ]
  },
  {
   "cell_type": "markdown",
   "id": "4d014f9d",
   "metadata": {},
   "source": [
    "<b>Items Exploration</b>"
   ]
  },
  {
   "cell_type": "code",
   "execution_count": 18,
   "id": "ef5b5d6b",
   "metadata": {},
   "outputs": [
    {
     "data": {
      "text/html": [
       "<div>\n",
       "<style scoped>\n",
       "    .dataframe tbody tr th:only-of-type {\n",
       "        vertical-align: middle;\n",
       "    }\n",
       "\n",
       "    .dataframe tbody tr th {\n",
       "        vertical-align: top;\n",
       "    }\n",
       "\n",
       "    .dataframe thead th {\n",
       "        text-align: right;\n",
       "    }\n",
       "</style>\n",
       "<table border=\"1\" class=\"dataframe\">\n",
       "  <thead>\n",
       "    <tr style=\"text-align: right;\">\n",
       "      <th></th>\n",
       "      <th>Date</th>\n",
       "      <th>Issued To</th>\n",
       "      <th>Item Name</th>\n",
       "      <th>Qty</th>\n",
       "      <th>Unit Price</th>\n",
       "      <th>Amount</th>\n",
       "    </tr>\n",
       "  </thead>\n",
       "  <tbody>\n",
       "    <tr>\n",
       "      <th>1</th>\n",
       "      <td>2023-08-01</td>\n",
       "      <td>UNKNOWN</td>\n",
       "      <td>Engine Oil Delo Silver SAE40/ Diesel Engine Oil</td>\n",
       "      <td>9.0</td>\n",
       "      <td>12000.0</td>\n",
       "      <td>108000.0</td>\n",
       "    </tr>\n",
       "  </tbody>\n",
       "</table>\n",
       "</div>"
      ],
      "text/plain": [
       "        Date Issued To                                        Item Name  Qty  \\\n",
       "1 2023-08-01   UNKNOWN  Engine Oil Delo Silver SAE40/ Diesel Engine Oil  9.0   \n",
       "\n",
       "   Unit Price    Amount  \n",
       "1     12000.0  108000.0  "
      ]
     },
     "execution_count": 18,
     "metadata": {},
     "output_type": "execute_result"
    }
   ],
   "source": [
    "df.head(1)"
   ]
  },
  {
   "cell_type": "code",
   "execution_count": 19,
   "id": "c329f03c",
   "metadata": {},
   "outputs": [
    {
     "data": {
      "text/plain": [
       "298"
      ]
     },
     "execution_count": 19,
     "metadata": {},
     "output_type": "execute_result"
    }
   ],
   "source": [
    "df['Item Name'].nunique()"
   ]
  },
  {
   "cell_type": "markdown",
   "id": "346e9a66",
   "metadata": {},
   "source": [
    "The store has 298 unique items"
   ]
  },
  {
   "cell_type": "markdown",
   "id": "78b6ac9c",
   "metadata": {},
   "source": [
    "<b>Fast Moving items</b>"
   ]
  },
  {
   "cell_type": "code",
   "execution_count": 20,
   "id": "9f46e1ff",
   "metadata": {},
   "outputs": [
    {
     "data": {
      "text/plain": [
       "Item Name\n",
       "Engine Oil Delo Silver SAE40/ Diesel Engine Oil    69\n",
       "Oil Filter 90915-YZZD2 - HILUX  90915-20003        29\n",
       "Thinner Standard                                   28\n",
       "Strainers                                          28\n",
       "Black Duco                                         26\n",
       "                                                   ..\n",
       "Clutch Plate 31250-60382, 60383PRADO KDJ 150R       2\n",
       "Wheel Nut Sport 5L                                  2\n",
       "Air Cleaner 17801-30070 Hiace Kdh222r               2\n",
       "Frt Windscreen-Hilux Newmodel                       2\n",
       "Battery Maintanance Free 80D26(N70ZL)               2\n",
       "Name: count, Length: 100, dtype: int64"
      ]
     },
     "execution_count": 20,
     "metadata": {},
     "output_type": "execute_result"
    }
   ],
   "source": [
    "fast_moving_items = df['Item Name'].value_counts().head(100)\n",
    "fast_moving_items"
   ]
  },
  {
   "cell_type": "markdown",
   "id": "c2dedfb5",
   "metadata": {},
   "source": [
    "<b>Amount Generated by each item</b>"
   ]
  },
  {
   "cell_type": "code",
   "execution_count": 21,
   "id": "eaa50c8f",
   "metadata": {},
   "outputs": [
    {
     "name": "stdout",
     "output_type": "stream",
     "text": [
      "Item Name\n",
      "Yokohama 265/65 R17 PRADO LJ 120                       30800000.0\n",
      "GT SAVERO TYRES 265/70R16                              21200000.0\n",
      "Slow Thinner 601                                       11675000.0\n",
      "Bfgoodrich Tyres 285/55R20 L/cv8                       10800000.0\n",
      "Engine Oil Delo Silver SAE40/ Diesel Engine Oil         7012483.0\n",
      "G.T SARVERO TYRES 265/65R17                             6990000.0\n",
      "GT SAVERO 285/50R20 LEXUS                               5185000.0\n",
      "Bull Bar Assy - Land Cruiser VDJ 200R                   5000000.0\n",
      "Brake Pads Frt 04465-60320 Prado/ KD2482                4035700.0\n",
      "Dunlop Tyres 285/60R18 L/c Vdj                          3800000.0\n",
      "Brake Pad FRT  04465-60280 L/c VDJ 200R/KD2387          3451000.0\n",
      "Ignite Battery 75AH MF N-70ZL                           3433000.0\n",
      "Dunlop Tyres 275/50R21 Lexus                            3400000.0\n",
      "Thinner Clear                                           3260000.0\n",
      "Yokohama Tyre 285/70R17                                 2991236.0\n",
      "Sport Rims 16x7(L/cHZJ                                  2700000.0\n",
      "Rear Brake Pads 04466-60160 LC VDJ 200R/KD2388          2276000.0\n",
      "Yokohama Tyre 225/65R17                                 2260000.0\n",
      "BFGoodrich  Size 285/70R17                              2092084.0\n",
      "Rear Brake Disc LC 42431-60290 L/c  VDJ200R             2035286.0\n",
      "Head Lamp RH 81110-0K720 Hilux Revo                     1936350.0\n",
      "Floor Carpet-Black                                      1669500.0\n",
      "Pressure Plate 31001-0K010 Hilux Revo Gun125r-Dnfmh     1536000.0\n",
      "Shock Absorber FR.48510-69365                           1530000.0\n",
      "G.T Savero 225/65R17 Harrier                            1428000.0\n",
      "JK TYRES-215/55R17                                      1400000.0\n",
      "Head Lamp LH 212-11M4L L/C HZJ78r                       1383992.0\n",
      "Clutch Plate 31250-60382, 60383PRADO KDJ 150R           1370000.0\n",
      "Oil Filter 04152-38020,YZZA4  L/C VDJ200R               1339178.0\n",
      "Primer Thinner 631 - All                                1293415.0\n",
      "REAR LIGHT-212-1924                                     1280000.0\n",
      "Spare Tyre Cover 64771-60360-A0                         1250150.0\n",
      "Handbrake Shoes 46530-34010 Lc Vdj 200                  1249288.0\n",
      "Hardener Thinner 651 - All                              1212500.0\n",
      "Filler Paste P-38-4 Kgs                                 1149222.0\n",
      "G.T Savero Tyres 195R15 Hiace                           1120000.0\n",
      "G.T SAVERO-205/55R16                                    1110000.0\n",
      "Brake Master Cylinder 47201-0K040 Hilux Vigo            1036750.0\n",
      "Diesel Fuel                                              966786.0\n",
      "Air Cleaner 17801-51020 LC VDJ 200R                      931316.0\n",
      "Boot Shock 68650-09010                                   907000.0\n",
      "RR Light RH 212-191MR Prado Lj,KDJ150R                   900000.0\n",
      "SIDE MIRROR  ASSY RH 87915-0K620 HILUX REVO              900000.0\n",
      "Overhaul Gasket 04111-30659  Prado 1kd                   889000.0\n",
      "Diesel Filter 23390-51070 - L/C Hzj 76,79,VDJ200R        881628.0\n",
      "A/c Filter 87139-30040/8713906050/87139-YZZ26            879591.0\n",
      "Diesel Filter 23390-0L041 HILUX LAN/KUN 25               863874.0\n",
      "FRT SHOCKABSORBER 4062A101 SPRTERO                       860000.0\n",
      "Rear Bumper 52159-6A928 Vdj                              850000.0\n",
      "Thinner Standard                                         849000.0\n",
      "Name: Total Amount, dtype: float64\n"
     ]
    }
   ],
   "source": [
    "# Calculating the amount generated by each item by multiplication\n",
    "df[\"Total Amount\"] = df[\"Qty\"] * df[\"Unit Price\"]\n",
    "\n",
    "# Top 50 items based on the total amount\n",
    "top_50_items = df.groupby(\"Item Name\")[\"Total Amount\"].sum().nlargest(50)\n",
    "print(top_50_items)"
   ]
  },
  {
   "cell_type": "markdown",
   "id": "fd07a308",
   "metadata": {},
   "source": [
    "<b>Trend Analysis</b>"
   ]
  },
  {
   "cell_type": "code",
   "execution_count": 22,
   "id": "94fcc77c",
   "metadata": {},
   "outputs": [
    {
     "data": {
      "image/png": "[encoded data removed]",
      "text/plain": [
       "<Figure size 1000x600 with 1 Axes>"
      ]
     },
     "metadata": {},
     "output_type": "display_data"
    }
   ],
   "source": [
    "# Calculate the sum of total amount generated per date\n",
    "date_total = df.groupby(\"Date\")[\"Total Amount\"].sum()\n",
    "\n",
    "# Plot the line trend\n",
    "plt.figure(figsize=(10, 6))\n",
    "plt.plot(date_total.index, date_total.values, marker='o')\n",
    "plt.title(\"Line Trend of Total Amount Generated per Date\")\n",
    "plt.xlabel(\"Date\")\n",
    "plt.ylabel(\"Total Amount Generated\")\n",
    "plt.xticks(rotation=45)\n",
    "plt.grid(True)\n",
    "plt.tight_layout()\n",
    "plt.show()"
   ]
  },
  {
   "cell_type": "markdown",
   "id": "6820ce3d",
   "metadata": {},
   "source": [
    "<b>Exporting File to Excel</b>"
   ]
  },
  {
   "cell_type": "code",
   "execution_count": 23,
   "id": "d8bd48cb",
   "metadata": {},
   "outputs": [],
   "source": [
    "df.to_excel('Stock Issues 1-12 August 2023 clean.xlsx', index = False)"
   ]
  }
 ],
 "metadata": {
  "kernelspec": {
   "display_name": "Python 3 (ipykernel)",
   "language": "python",
   "name": "python3"
  },
  "language_info": {
   "codemirror_mode": {
    "name": "ipython",
    "version": 3
   },
   "file_extension": ".py",
   "mimetype": "text/x-python",
   "name": "python",
   "nbconvert_exporter": "python",
   "pygments_lexer": "ipython3",
   "version": "3.9.16"
  }
 },
 "nbformat": 4,
 "nbformat_minor": 5
}
