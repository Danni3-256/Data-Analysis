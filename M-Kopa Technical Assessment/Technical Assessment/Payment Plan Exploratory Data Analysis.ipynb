{
 "cells": [
  {
   "cell_type": "code",
   "execution_count": 1,
   "id": "bd850b90",
   "metadata": {},
   "outputs": [],
   "source": [
    "import pandas as pd\n",
    "import numpy as np\n",
    "import openpyxl\n",
    "import seaborn as sns\n",
    "import matplotlib.pyplot as plt\n",
    "import warnings\n",
    "warnings.filterwarnings('ignore')"
   ]
  },
  {
   "cell_type": "markdown",
   "id": "af477f40",
   "metadata": {},
   "source": [
    "# Payment Plan Data"
   ]
  },
  {
   "cell_type": "code",
   "execution_count": 2,
   "id": "89570c4e",
   "metadata": {},
   "outputs": [
    {
     "data": {
      "text/html": [
       "<div>\n",
       "<style scoped>\n",
       "    .dataframe tbody tr th:only-of-type {\n",
       "        vertical-align: middle;\n",
       "    }\n",
       "\n",
       "    .dataframe tbody tr th {\n",
       "        vertical-align: top;\n",
       "    }\n",
       "\n",
       "    .dataframe thead th {\n",
       "        text-align: right;\n",
       "    }\n",
       "</style>\n",
       "<table border=\"1\" class=\"dataframe\">\n",
       "  <thead>\n",
       "    <tr style=\"text-align: right;\">\n",
       "      <th></th>\n",
       "      <th>Created At Date</th>\n",
       "      <th>Payment Plan Name</th>\n",
       "      <th>Product Sub Category</th>\n",
       "      <th>Product Type</th>\n",
       "      <th>Currency Name</th>\n",
       "      <th>Product Price</th>\n",
       "      <th>Deposit</th>\n",
       "      <th>Daily Top Up</th>\n",
       "      <th>Loan Duration</th>\n",
       "      <th>Total Top Ups</th>\n",
       "      <th>Brand</th>\n",
       "      <th>Masterbrand</th>\n",
       "      <th>Model</th>\n",
       "      <th>Plan Type</th>\n",
       "      <th>Product Category</th>\n",
       "      <th>Variant</th>\n",
       "      <th>Mart Payment Plan ID</th>\n",
       "      <th>Payment Plan Status</th>\n",
       "    </tr>\n",
       "  </thead>\n",
       "  <tbody>\n",
       "    <tr>\n",
       "      <th>0</th>\n",
       "      <td>2023-04-20</td>\n",
       "      <td>MK 600 24\" TV v21 Staff</td>\n",
       "      <td>M-KOPA 600</td>\n",
       "      <td>Solar TV</td>\n",
       "      <td>KES</td>\n",
       "      <td>64199</td>\n",
       "      <td>2999.0</td>\n",
       "      <td>90.0</td>\n",
       "      <td>680.0</td>\n",
       "      <td>61200.0</td>\n",
       "      <td>M-KOPA</td>\n",
       "      <td>Solar</td>\n",
       "      <td>M-KOPA 600</td>\n",
       "      <td>Acquisition</td>\n",
       "      <td>MK TV</td>\n",
       "      <td>24\" TV</td>\n",
       "      <td>4319</td>\n",
       "      <td>Active</td>\n",
       "    </tr>\n",
       "    <tr>\n",
       "      <th>1</th>\n",
       "      <td>2023-04-20</td>\n",
       "      <td>MK 6000C 32\" TV v3 Staff</td>\n",
       "      <td>M-KOPA 6000</td>\n",
       "      <td>Solar TV</td>\n",
       "      <td>KES</td>\n",
       "      <td>86499</td>\n",
       "      <td>6499.0</td>\n",
       "      <td>100.0</td>\n",
       "      <td>800.0</td>\n",
       "      <td>80000.0</td>\n",
       "      <td>M-KOPA</td>\n",
       "      <td>Solar</td>\n",
       "      <td>M-KOPA 6000</td>\n",
       "      <td>Acquisition</td>\n",
       "      <td>MK TV</td>\n",
       "      <td>32\" TV</td>\n",
       "      <td>4318</td>\n",
       "      <td>New</td>\n",
       "    </tr>\n",
       "    <tr>\n",
       "      <th>2</th>\n",
       "      <td>2023-02-08</td>\n",
       "      <td>MK 600 24\" TV v24 Non-Locking HRA</td>\n",
       "      <td>M-KOPA 600</td>\n",
       "      <td>Solar TV</td>\n",
       "      <td>KES</td>\n",
       "      <td>81999</td>\n",
       "      <td>5999.0</td>\n",
       "      <td>100.0</td>\n",
       "      <td>760.0</td>\n",
       "      <td>76000.0</td>\n",
       "      <td>M-KOPA</td>\n",
       "      <td>Solar</td>\n",
       "      <td>M-KOPA 600</td>\n",
       "      <td>Acquisition</td>\n",
       "      <td>MK TV</td>\n",
       "      <td>24\" TV</td>\n",
       "      <td>4077</td>\n",
       "      <td>Closed</td>\n",
       "    </tr>\n",
       "    <tr>\n",
       "      <th>3</th>\n",
       "      <td>2023-02-08</td>\n",
       "      <td>MK 6 v11 HRA</td>\n",
       "      <td>M-KOPA 6</td>\n",
       "      <td>Lights</td>\n",
       "      <td>KES</td>\n",
       "      <td>23999</td>\n",
       "      <td>999.0</td>\n",
       "      <td>50.0</td>\n",
       "      <td>460.0</td>\n",
       "      <td>23000.0</td>\n",
       "      <td>M-KOPA</td>\n",
       "      <td>Solar</td>\n",
       "      <td>M-KOPA 6</td>\n",
       "      <td>Acquisition</td>\n",
       "      <td>MK Classic</td>\n",
       "      <td>4 lights</td>\n",
       "      <td>4088</td>\n",
       "      <td>Active</td>\n",
       "    </tr>\n",
       "    <tr>\n",
       "      <th>4</th>\n",
       "      <td>2023-02-08</td>\n",
       "      <td>MK 6000 32\" TV v24 Non Locking HRA</td>\n",
       "      <td>M-KOPA 6000</td>\n",
       "      <td>Solar TV</td>\n",
       "      <td>KES</td>\n",
       "      <td>116199</td>\n",
       "      <td>6999.0</td>\n",
       "      <td>130.0</td>\n",
       "      <td>840.0</td>\n",
       "      <td>109200.0</td>\n",
       "      <td>M-KOPA</td>\n",
       "      <td>Solar</td>\n",
       "      <td>M-KOPA 6000</td>\n",
       "      <td>Acquisition</td>\n",
       "      <td>MK TV</td>\n",
       "      <td>32\" TV</td>\n",
       "      <td>4102</td>\n",
       "      <td>Closed</td>\n",
       "    </tr>\n",
       "  </tbody>\n",
       "</table>\n",
       "</div>"
      ],
      "text/plain": [
       "  Created At Date                   Payment Plan Name Product Sub Category  \\\n",
       "0      2023-04-20             MK 600 24\" TV v21 Staff           M-KOPA 600   \n",
       "1      2023-04-20            MK 6000C 32\" TV v3 Staff          M-KOPA 6000   \n",
       "2      2023-02-08   MK 600 24\" TV v24 Non-Locking HRA           M-KOPA 600   \n",
       "3      2023-02-08                        MK 6 v11 HRA             M-KOPA 6   \n",
       "4      2023-02-08  MK 6000 32\" TV v24 Non Locking HRA          M-KOPA 6000   \n",
       "\n",
       "  Product Type Currency Name  Product Price  Deposit  Daily Top Up  \\\n",
       "0     Solar TV           KES          64199   2999.0          90.0   \n",
       "1     Solar TV           KES          86499   6499.0         100.0   \n",
       "2     Solar TV           KES          81999   5999.0         100.0   \n",
       "3       Lights           KES          23999    999.0          50.0   \n",
       "4     Solar TV           KES         116199   6999.0         130.0   \n",
       "\n",
       "   Loan Duration  Total Top Ups   Brand Masterbrand        Model    Plan Type  \\\n",
       "0          680.0        61200.0  M-KOPA       Solar   M-KOPA 600  Acquisition   \n",
       "1          800.0        80000.0  M-KOPA       Solar  M-KOPA 6000  Acquisition   \n",
       "2          760.0        76000.0  M-KOPA       Solar   M-KOPA 600  Acquisition   \n",
       "3          460.0        23000.0  M-KOPA       Solar     M-KOPA 6  Acquisition   \n",
       "4          840.0       109200.0  M-KOPA       Solar  M-KOPA 6000  Acquisition   \n",
       "\n",
       "  Product Category   Variant  Mart Payment Plan ID Payment Plan Status  \n",
       "0            MK TV    24\" TV                  4319              Active  \n",
       "1            MK TV    32\" TV                  4318                 New  \n",
       "2            MK TV    24\" TV                  4077              Closed  \n",
       "3       MK Classic  4 lights                  4088              Active  \n",
       "4            MK TV    32\" TV                  4102              Closed  "
      ]
     },
     "execution_count": 2,
     "metadata": {},
     "output_type": "execute_result"
    }
   ],
   "source": [
    "payment_plan = pd.read_excel('Payment Plan.xlsx')\n",
    "payment_plan.head()"
   ]
  },
  {
   "cell_type": "code",
   "execution_count": 3,
   "id": "3c3a59f8",
   "metadata": {},
   "outputs": [
    {
     "data": {
      "text/plain": [
       "(488, 18)"
      ]
     },
     "execution_count": 3,
     "metadata": {},
     "output_type": "execute_result"
    }
   ],
   "source": [
    "payment_plan.shape"
   ]
  },
  {
   "cell_type": "code",
   "execution_count": 4,
   "id": "cd94fd36",
   "metadata": {},
   "outputs": [
    {
     "name": "stdout",
     "output_type": "stream",
     "text": [
      "<class 'pandas.core.frame.DataFrame'>\n",
      "RangeIndex: 488 entries, 0 to 487\n",
      "Data columns (total 18 columns):\n",
      " #   Column                Non-Null Count  Dtype         \n",
      "---  ------                --------------  -----         \n",
      " 0   Created At Date       488 non-null    datetime64[ns]\n",
      " 1   Payment Plan Name     488 non-null    object        \n",
      " 2   Product Sub Category  488 non-null    object        \n",
      " 3   Product Type          488 non-null    object        \n",
      " 4   Currency Name         488 non-null    object        \n",
      " 5   Product Price         488 non-null    int64         \n",
      " 6   Deposit               477 non-null    float64       \n",
      " 7   Daily Top Up          477 non-null    float64       \n",
      " 8   Loan Duration         477 non-null    float64       \n",
      " 9   Total Top Ups         477 non-null    float64       \n",
      " 10  Brand                 488 non-null    object        \n",
      " 11  Masterbrand           488 non-null    object        \n",
      " 12  Model                 484 non-null    object        \n",
      " 13  Plan Type             488 non-null    object        \n",
      " 14  Product Category      488 non-null    object        \n",
      " 15  Variant               487 non-null    object        \n",
      " 16  Mart Payment Plan ID  488 non-null    int64         \n",
      " 17  Payment Plan Status   488 non-null    object        \n",
      "dtypes: datetime64[ns](1), float64(4), int64(2), object(11)\n",
      "memory usage: 68.8+ KB\n"
     ]
    }
   ],
   "source": [
    "payment_plan.info()"
   ]
  },
  {
   "cell_type": "markdown",
   "id": "ecea6b6c",
   "metadata": {},
   "source": [
    "<b>Data Cleaning and Preparation</b>"
   ]
  },
  {
   "cell_type": "code",
   "execution_count": 5,
   "id": "52f6a25b",
   "metadata": {},
   "outputs": [
    {
     "data": {
      "text/plain": [
       "Created At Date          0\n",
       "Payment Plan Name        0\n",
       "Product Sub Category     0\n",
       "Product Type             0\n",
       "Currency Name            0\n",
       "Product Price            0\n",
       "Deposit                 11\n",
       "Daily Top Up            11\n",
       "Loan Duration           11\n",
       "Total Top Ups           11\n",
       "Brand                    0\n",
       "Masterbrand              0\n",
       "Model                    4\n",
       "Plan Type                0\n",
       "Product Category         0\n",
       "Variant                  1\n",
       "Mart Payment Plan ID     0\n",
       "Payment Plan Status      0\n",
       "dtype: int64"
      ]
     },
     "execution_count": 5,
     "metadata": {},
     "output_type": "execute_result"
    }
   ],
   "source": [
    "payment_plan.isnull().sum()"
   ]
  },
  {
   "cell_type": "code",
   "execution_count": 6,
   "id": "f6235066",
   "metadata": {},
   "outputs": [],
   "source": [
    "#Convert date column data type to datetime\n",
    "payment_plan['Created At Date'] = pd.to_datetime(payment_plan['Created At Date'])"
   ]
  },
  {
   "cell_type": "markdown",
   "id": "f4bfc4a3",
   "metadata": {},
   "source": [
    "<b>Dealing with missing Values</b>"
   ]
  },
  {
   "cell_type": "markdown",
   "id": "58a5dadc",
   "metadata": {},
   "source": [
    "<b>The Model Column</b>"
   ]
  },
  {
   "cell_type": "code",
   "execution_count": 7,
   "id": "951bc796",
   "metadata": {},
   "outputs": [
    {
     "data": {
      "text/html": [
       "<div>\n",
       "<style scoped>\n",
       "    .dataframe tbody tr th:only-of-type {\n",
       "        vertical-align: middle;\n",
       "    }\n",
       "\n",
       "    .dataframe tbody tr th {\n",
       "        vertical-align: top;\n",
       "    }\n",
       "\n",
       "    .dataframe thead th {\n",
       "        text-align: right;\n",
       "    }\n",
       "</style>\n",
       "<table border=\"1\" class=\"dataframe\">\n",
       "  <thead>\n",
       "    <tr style=\"text-align: right;\">\n",
       "      <th></th>\n",
       "      <th>Created At Date</th>\n",
       "      <th>Payment Plan Name</th>\n",
       "      <th>Product Sub Category</th>\n",
       "      <th>Product Type</th>\n",
       "      <th>Currency Name</th>\n",
       "      <th>Product Price</th>\n",
       "      <th>Deposit</th>\n",
       "      <th>Daily Top Up</th>\n",
       "      <th>Loan Duration</th>\n",
       "      <th>Total Top Ups</th>\n",
       "      <th>Brand</th>\n",
       "      <th>Masterbrand</th>\n",
       "      <th>Model</th>\n",
       "      <th>Plan Type</th>\n",
       "      <th>Product Category</th>\n",
       "      <th>Variant</th>\n",
       "      <th>Mart Payment Plan ID</th>\n",
       "      <th>Payment Plan Status</th>\n",
       "    </tr>\n",
       "  </thead>\n",
       "  <tbody>\n",
       "    <tr>\n",
       "      <th>0</th>\n",
       "      <td>2023-04-20</td>\n",
       "      <td>MK 600 24\" TV v21 Staff</td>\n",
       "      <td>M-KOPA 600</td>\n",
       "      <td>Solar TV</td>\n",
       "      <td>KES</td>\n",
       "      <td>64199</td>\n",
       "      <td>2999.0</td>\n",
       "      <td>90.0</td>\n",
       "      <td>680.0</td>\n",
       "      <td>61200.0</td>\n",
       "      <td>M-KOPA</td>\n",
       "      <td>Solar</td>\n",
       "      <td>M-KOPA 600</td>\n",
       "      <td>Acquisition</td>\n",
       "      <td>MK TV</td>\n",
       "      <td>24\" TV</td>\n",
       "      <td>4319</td>\n",
       "      <td>Active</td>\n",
       "    </tr>\n",
       "    <tr>\n",
       "      <th>1</th>\n",
       "      <td>2023-04-20</td>\n",
       "      <td>MK 6000C 32\" TV v3 Staff</td>\n",
       "      <td>M-KOPA 6000</td>\n",
       "      <td>Solar TV</td>\n",
       "      <td>KES</td>\n",
       "      <td>86499</td>\n",
       "      <td>6499.0</td>\n",
       "      <td>100.0</td>\n",
       "      <td>800.0</td>\n",
       "      <td>80000.0</td>\n",
       "      <td>M-KOPA</td>\n",
       "      <td>Solar</td>\n",
       "      <td>M-KOPA 6000</td>\n",
       "      <td>Acquisition</td>\n",
       "      <td>MK TV</td>\n",
       "      <td>32\" TV</td>\n",
       "      <td>4318</td>\n",
       "      <td>New</td>\n",
       "    </tr>\n",
       "    <tr>\n",
       "      <th>2</th>\n",
       "      <td>2023-02-08</td>\n",
       "      <td>MK 600 24\" TV v24 Non-Locking HRA</td>\n",
       "      <td>M-KOPA 600</td>\n",
       "      <td>Solar TV</td>\n",
       "      <td>KES</td>\n",
       "      <td>81999</td>\n",
       "      <td>5999.0</td>\n",
       "      <td>100.0</td>\n",
       "      <td>760.0</td>\n",
       "      <td>76000.0</td>\n",
       "      <td>M-KOPA</td>\n",
       "      <td>Solar</td>\n",
       "      <td>M-KOPA 600</td>\n",
       "      <td>Acquisition</td>\n",
       "      <td>MK TV</td>\n",
       "      <td>24\" TV</td>\n",
       "      <td>4077</td>\n",
       "      <td>Closed</td>\n",
       "    </tr>\n",
       "    <tr>\n",
       "      <th>3</th>\n",
       "      <td>2023-02-08</td>\n",
       "      <td>MK 6 v11 HRA</td>\n",
       "      <td>M-KOPA 6</td>\n",
       "      <td>Lights</td>\n",
       "      <td>KES</td>\n",
       "      <td>23999</td>\n",
       "      <td>999.0</td>\n",
       "      <td>50.0</td>\n",
       "      <td>460.0</td>\n",
       "      <td>23000.0</td>\n",
       "      <td>M-KOPA</td>\n",
       "      <td>Solar</td>\n",
       "      <td>M-KOPA 6</td>\n",
       "      <td>Acquisition</td>\n",
       "      <td>MK Classic</td>\n",
       "      <td>4 lights</td>\n",
       "      <td>4088</td>\n",
       "      <td>Active</td>\n",
       "    </tr>\n",
       "    <tr>\n",
       "      <th>4</th>\n",
       "      <td>2023-02-08</td>\n",
       "      <td>MK 6000 32\" TV v24 Non Locking HRA</td>\n",
       "      <td>M-KOPA 6000</td>\n",
       "      <td>Solar TV</td>\n",
       "      <td>KES</td>\n",
       "      <td>116199</td>\n",
       "      <td>6999.0</td>\n",
       "      <td>130.0</td>\n",
       "      <td>840.0</td>\n",
       "      <td>109200.0</td>\n",
       "      <td>M-KOPA</td>\n",
       "      <td>Solar</td>\n",
       "      <td>M-KOPA 6000</td>\n",
       "      <td>Acquisition</td>\n",
       "      <td>MK TV</td>\n",
       "      <td>32\" TV</td>\n",
       "      <td>4102</td>\n",
       "      <td>Closed</td>\n",
       "    </tr>\n",
       "  </tbody>\n",
       "</table>\n",
       "</div>"
      ],
      "text/plain": [
       "  Created At Date                   Payment Plan Name Product Sub Category  \\\n",
       "0      2023-04-20             MK 600 24\" TV v21 Staff           M-KOPA 600   \n",
       "1      2023-04-20            MK 6000C 32\" TV v3 Staff          M-KOPA 6000   \n",
       "2      2023-02-08   MK 600 24\" TV v24 Non-Locking HRA           M-KOPA 600   \n",
       "3      2023-02-08                        MK 6 v11 HRA             M-KOPA 6   \n",
       "4      2023-02-08  MK 6000 32\" TV v24 Non Locking HRA          M-KOPA 6000   \n",
       "\n",
       "  Product Type Currency Name  Product Price  Deposit  Daily Top Up  \\\n",
       "0     Solar TV           KES          64199   2999.0          90.0   \n",
       "1     Solar TV           KES          86499   6499.0         100.0   \n",
       "2     Solar TV           KES          81999   5999.0         100.0   \n",
       "3       Lights           KES          23999    999.0          50.0   \n",
       "4     Solar TV           KES         116199   6999.0         130.0   \n",
       "\n",
       "   Loan Duration  Total Top Ups   Brand Masterbrand        Model    Plan Type  \\\n",
       "0          680.0        61200.0  M-KOPA       Solar   M-KOPA 600  Acquisition   \n",
       "1          800.0        80000.0  M-KOPA       Solar  M-KOPA 6000  Acquisition   \n",
       "2          760.0        76000.0  M-KOPA       Solar   M-KOPA 600  Acquisition   \n",
       "3          460.0        23000.0  M-KOPA       Solar     M-KOPA 6  Acquisition   \n",
       "4          840.0       109200.0  M-KOPA       Solar  M-KOPA 6000  Acquisition   \n",
       "\n",
       "  Product Category   Variant  Mart Payment Plan ID Payment Plan Status  \n",
       "0            MK TV    24\" TV                  4319              Active  \n",
       "1            MK TV    32\" TV                  4318                 New  \n",
       "2            MK TV    24\" TV                  4077              Closed  \n",
       "3       MK Classic  4 lights                  4088              Active  \n",
       "4            MK TV    32\" TV                  4102              Closed  "
      ]
     },
     "execution_count": 7,
     "metadata": {},
     "output_type": "execute_result"
    }
   ],
   "source": [
    "payment_plan.head()"
   ]
  },
  {
   "cell_type": "markdown",
   "id": "a594bf53",
   "metadata": {},
   "source": [
    "From the above sample dataframe, we can see that Values in the \"Product Sub Category\" column are the same as those in the \"Model Column.\" So, I am going to have to replace the null values in the \"model\" column with non-values from the \"Product Sub Category\" column"
   ]
  },
  {
   "cell_type": "code",
   "execution_count": 8,
   "id": "db2a63e7",
   "metadata": {},
   "outputs": [
    {
     "data": {
      "text/html": [
       "<div>\n",
       "<style scoped>\n",
       "    .dataframe tbody tr th:only-of-type {\n",
       "        vertical-align: middle;\n",
       "    }\n",
       "\n",
       "    .dataframe tbody tr th {\n",
       "        vertical-align: top;\n",
       "    }\n",
       "\n",
       "    .dataframe thead th {\n",
       "        text-align: right;\n",
       "    }\n",
       "</style>\n",
       "<table border=\"1\" class=\"dataframe\">\n",
       "  <thead>\n",
       "    <tr style=\"text-align: right;\">\n",
       "      <th></th>\n",
       "      <th>Created At Date</th>\n",
       "      <th>Payment Plan Name</th>\n",
       "      <th>Product Sub Category</th>\n",
       "      <th>Product Type</th>\n",
       "      <th>Currency Name</th>\n",
       "      <th>Product Price</th>\n",
       "      <th>Deposit</th>\n",
       "      <th>Daily Top Up</th>\n",
       "      <th>Loan Duration</th>\n",
       "      <th>Total Top Ups</th>\n",
       "      <th>Brand</th>\n",
       "      <th>Masterbrand</th>\n",
       "      <th>Model</th>\n",
       "      <th>Plan Type</th>\n",
       "      <th>Product Category</th>\n",
       "      <th>Variant</th>\n",
       "      <th>Mart Payment Plan ID</th>\n",
       "      <th>Payment Plan Status</th>\n",
       "    </tr>\n",
       "  </thead>\n",
       "  <tbody>\n",
       "    <tr>\n",
       "      <th>290</th>\n",
       "      <td>2018-07-01</td>\n",
       "      <td>M-KOPA 4S Upgrade Pack v3</td>\n",
       "      <td>Starter Upgrade Pack</td>\n",
       "      <td>Radio and Torch</td>\n",
       "      <td>KES</td>\n",
       "      <td>10999</td>\n",
       "      <td>999.0</td>\n",
       "      <td>50.00</td>\n",
       "      <td>200.0</td>\n",
       "      <td>10000.0</td>\n",
       "      <td>M-KOPA</td>\n",
       "      <td>Solar</td>\n",
       "      <td>NaN</td>\n",
       "      <td>Upgrade</td>\n",
       "      <td>Addition</td>\n",
       "      <td>4 lights</td>\n",
       "      <td>843</td>\n",
       "      <td>Closed</td>\n",
       "    </tr>\n",
       "    <tr>\n",
       "      <th>375</th>\n",
       "      <td>2017-08-20</td>\n",
       "      <td>M-KOPA 4S Upgrade Pack v2</td>\n",
       "      <td>Starter Upgrade Pack</td>\n",
       "      <td>Radio and Torch</td>\n",
       "      <td>KES</td>\n",
       "      <td>10000</td>\n",
       "      <td>1500.0</td>\n",
       "      <td>50.00</td>\n",
       "      <td>170.0</td>\n",
       "      <td>8500.0</td>\n",
       "      <td>M-KOPA</td>\n",
       "      <td>Solar</td>\n",
       "      <td>NaN</td>\n",
       "      <td>Upgrade</td>\n",
       "      <td>Addition</td>\n",
       "      <td>4 lights</td>\n",
       "      <td>507</td>\n",
       "      <td>Closed</td>\n",
       "    </tr>\n",
       "    <tr>\n",
       "      <th>400</th>\n",
       "      <td>2017-06-09</td>\n",
       "      <td>M-KOPA 4S Upgrade Pack v1</td>\n",
       "      <td>Starter Upgrade Pack</td>\n",
       "      <td>Radio and Torch</td>\n",
       "      <td>KES</td>\n",
       "      <td>11500</td>\n",
       "      <td>1500.0</td>\n",
       "      <td>50.00</td>\n",
       "      <td>200.0</td>\n",
       "      <td>10000.0</td>\n",
       "      <td>M-KOPA</td>\n",
       "      <td>Solar</td>\n",
       "      <td>NaN</td>\n",
       "      <td>Upgrade</td>\n",
       "      <td>Addition</td>\n",
       "      <td>4 lights</td>\n",
       "      <td>428</td>\n",
       "      <td>Closed</td>\n",
       "    </tr>\n",
       "    <tr>\n",
       "      <th>445</th>\n",
       "      <td>2016-10-13</td>\n",
       "      <td>M-KOPA 4 Starter Upgrade Pack</td>\n",
       "      <td>Starter Upgrade Pack</td>\n",
       "      <td>Radio and Torch</td>\n",
       "      <td>KES</td>\n",
       "      <td>2000</td>\n",
       "      <td>0.0</td>\n",
       "      <td>5.48</td>\n",
       "      <td>365.0</td>\n",
       "      <td>2000.0</td>\n",
       "      <td>M-KOPA</td>\n",
       "      <td>Solar</td>\n",
       "      <td>NaN</td>\n",
       "      <td>Upgrade</td>\n",
       "      <td>Addition</td>\n",
       "      <td>4 lights</td>\n",
       "      <td>198</td>\n",
       "      <td>Active</td>\n",
       "    </tr>\n",
       "  </tbody>\n",
       "</table>\n",
       "</div>"
      ],
      "text/plain": [
       "    Created At Date              Payment Plan Name  Product Sub Category  \\\n",
       "290      2018-07-01      M-KOPA 4S Upgrade Pack v3  Starter Upgrade Pack   \n",
       "375      2017-08-20     M-KOPA 4S Upgrade Pack v2   Starter Upgrade Pack   \n",
       "400      2017-06-09      M-KOPA 4S Upgrade Pack v1  Starter Upgrade Pack   \n",
       "445      2016-10-13  M-KOPA 4 Starter Upgrade Pack  Starter Upgrade Pack   \n",
       "\n",
       "        Product Type Currency Name  Product Price  Deposit  Daily Top Up  \\\n",
       "290  Radio and Torch           KES          10999    999.0         50.00   \n",
       "375  Radio and Torch           KES          10000   1500.0         50.00   \n",
       "400  Radio and Torch           KES          11500   1500.0         50.00   \n",
       "445  Radio and Torch           KES           2000      0.0          5.48   \n",
       "\n",
       "     Loan Duration  Total Top Ups   Brand Masterbrand Model Plan Type  \\\n",
       "290          200.0        10000.0  M-KOPA       Solar   NaN   Upgrade   \n",
       "375          170.0         8500.0  M-KOPA       Solar   NaN   Upgrade   \n",
       "400          200.0        10000.0  M-KOPA       Solar   NaN   Upgrade   \n",
       "445          365.0         2000.0  M-KOPA       Solar   NaN   Upgrade   \n",
       "\n",
       "    Product Category   Variant  Mart Payment Plan ID Payment Plan Status  \n",
       "290         Addition  4 lights                   843              Closed  \n",
       "375         Addition  4 lights                   507              Closed  \n",
       "400         Addition  4 lights                   428              Closed  \n",
       "445         Addition  4 lights                   198              Active  "
      ]
     },
     "execution_count": 8,
     "metadata": {},
     "output_type": "execute_result"
    }
   ],
   "source": [
    "#A look at null values in the Model column\n",
    "payment_plan[payment_plan['Model'].isnull()]"
   ]
  },
  {
   "cell_type": "code",
   "execution_count": 9,
   "id": "f8c472c0",
   "metadata": {},
   "outputs": [],
   "source": [
    "# Replace missing values in the \"Model\" column with values from the \"Product Sub Subcategory\" column\n",
    "mask = payment_plan['Product Sub Category'].notnull()\n",
    "payment_plan.loc[mask, 'Model'] = payment_plan.loc[mask, 'Product Sub Category']"
   ]
  },
  {
   "cell_type": "code",
   "execution_count": 10,
   "id": "7dbbf5e9",
   "metadata": {},
   "outputs": [
    {
     "data": {
      "text/html": [
       "<div>\n",
       "<style scoped>\n",
       "    .dataframe tbody tr th:only-of-type {\n",
       "        vertical-align: middle;\n",
       "    }\n",
       "\n",
       "    .dataframe tbody tr th {\n",
       "        vertical-align: top;\n",
       "    }\n",
       "\n",
       "    .dataframe thead th {\n",
       "        text-align: right;\n",
       "    }\n",
       "</style>\n",
       "<table border=\"1\" class=\"dataframe\">\n",
       "  <thead>\n",
       "    <tr style=\"text-align: right;\">\n",
       "      <th></th>\n",
       "      <th>Created At Date</th>\n",
       "      <th>Payment Plan Name</th>\n",
       "      <th>Product Sub Category</th>\n",
       "      <th>Product Type</th>\n",
       "      <th>Currency Name</th>\n",
       "      <th>Product Price</th>\n",
       "      <th>Deposit</th>\n",
       "      <th>Daily Top Up</th>\n",
       "      <th>Loan Duration</th>\n",
       "      <th>Total Top Ups</th>\n",
       "      <th>Brand</th>\n",
       "      <th>Masterbrand</th>\n",
       "      <th>Model</th>\n",
       "      <th>Plan Type</th>\n",
       "      <th>Product Category</th>\n",
       "      <th>Variant</th>\n",
       "      <th>Mart Payment Plan ID</th>\n",
       "      <th>Payment Plan Status</th>\n",
       "    </tr>\n",
       "  </thead>\n",
       "  <tbody>\n",
       "    <tr>\n",
       "      <th>445</th>\n",
       "      <td>2016-10-13</td>\n",
       "      <td>M-KOPA 4 Starter Upgrade Pack</td>\n",
       "      <td>Starter Upgrade Pack</td>\n",
       "      <td>Radio and Torch</td>\n",
       "      <td>KES</td>\n",
       "      <td>2000</td>\n",
       "      <td>0.0</td>\n",
       "      <td>5.48</td>\n",
       "      <td>365.0</td>\n",
       "      <td>2000.0</td>\n",
       "      <td>M-KOPA</td>\n",
       "      <td>Solar</td>\n",
       "      <td>Starter Upgrade Pack</td>\n",
       "      <td>Upgrade</td>\n",
       "      <td>Addition</td>\n",
       "      <td>4 lights</td>\n",
       "      <td>198</td>\n",
       "      <td>Active</td>\n",
       "    </tr>\n",
       "  </tbody>\n",
       "</table>\n",
       "</div>"
      ],
      "text/plain": [
       "    Created At Date              Payment Plan Name  Product Sub Category  \\\n",
       "445      2016-10-13  M-KOPA 4 Starter Upgrade Pack  Starter Upgrade Pack   \n",
       "\n",
       "        Product Type Currency Name  Product Price  Deposit  Daily Top Up  \\\n",
       "445  Radio and Torch           KES           2000      0.0          5.48   \n",
       "\n",
       "     Loan Duration  Total Top Ups   Brand Masterbrand                 Model  \\\n",
       "445          365.0         2000.0  M-KOPA       Solar  Starter Upgrade Pack   \n",
       "\n",
       "    Plan Type Product Category   Variant  Mart Payment Plan ID  \\\n",
       "445   Upgrade         Addition  4 lights                   198   \n",
       "\n",
       "    Payment Plan Status  \n",
       "445              Active  "
      ]
     },
     "execution_count": 10,
     "metadata": {},
     "output_type": "execute_result"
    }
   ],
   "source": [
    "#Checking the output\n",
    "filtered_df = payment_plan[payment_plan.index == 445]\n",
    "filtered_df"
   ]
  },
  {
   "cell_type": "markdown",
   "id": "f37d03bd",
   "metadata": {},
   "source": [
    "<b>The \"Variant\" Column</b>"
   ]
  },
  {
   "cell_type": "code",
   "execution_count": 11,
   "id": "0d4db5da",
   "metadata": {},
   "outputs": [
    {
     "data": {
      "text/html": [
       "<div>\n",
       "<style scoped>\n",
       "    .dataframe tbody tr th:only-of-type {\n",
       "        vertical-align: middle;\n",
       "    }\n",
       "\n",
       "    .dataframe tbody tr th {\n",
       "        vertical-align: top;\n",
       "    }\n",
       "\n",
       "    .dataframe thead th {\n",
       "        text-align: right;\n",
       "    }\n",
       "</style>\n",
       "<table border=\"1\" class=\"dataframe\">\n",
       "  <thead>\n",
       "    <tr style=\"text-align: right;\">\n",
       "      <th></th>\n",
       "      <th>Created At Date</th>\n",
       "      <th>Payment Plan Name</th>\n",
       "      <th>Product Sub Category</th>\n",
       "      <th>Product Type</th>\n",
       "      <th>Currency Name</th>\n",
       "      <th>Product Price</th>\n",
       "      <th>Deposit</th>\n",
       "      <th>Daily Top Up</th>\n",
       "      <th>Loan Duration</th>\n",
       "      <th>Total Top Ups</th>\n",
       "      <th>Brand</th>\n",
       "      <th>Masterbrand</th>\n",
       "      <th>Model</th>\n",
       "      <th>Plan Type</th>\n",
       "      <th>Product Category</th>\n",
       "      <th>Variant</th>\n",
       "      <th>Mart Payment Plan ID</th>\n",
       "      <th>Payment Plan Status</th>\n",
       "    </tr>\n",
       "  </thead>\n",
       "  <tbody>\n",
       "    <tr>\n",
       "      <th>26</th>\n",
       "      <td>2022-07-01</td>\n",
       "      <td>MK +600 24\" TV v18</td>\n",
       "      <td>M-KOPA +600</td>\n",
       "      <td>Solar TV</td>\n",
       "      <td>KES</td>\n",
       "      <td>72999</td>\n",
       "      <td>999.0</td>\n",
       "      <td>80.0</td>\n",
       "      <td>900.0</td>\n",
       "      <td>72000.0</td>\n",
       "      <td>M-KOPA</td>\n",
       "      <td>Solar</td>\n",
       "      <td>M-KOPA +600</td>\n",
       "      <td>Upgrade</td>\n",
       "      <td>MK TV</td>\n",
       "      <td>NaN</td>\n",
       "      <td>3130</td>\n",
       "      <td>Closed</td>\n",
       "    </tr>\n",
       "  </tbody>\n",
       "</table>\n",
       "</div>"
      ],
      "text/plain": [
       "   Created At Date   Payment Plan Name Product Sub Category Product Type  \\\n",
       "26      2022-07-01  MK +600 24\" TV v18          M-KOPA +600     Solar TV   \n",
       "\n",
       "   Currency Name  Product Price  Deposit  Daily Top Up  Loan Duration  \\\n",
       "26           KES          72999    999.0          80.0          900.0   \n",
       "\n",
       "    Total Top Ups   Brand Masterbrand        Model Plan Type Product Category  \\\n",
       "26        72000.0  M-KOPA       Solar  M-KOPA +600   Upgrade            MK TV   \n",
       "\n",
       "   Variant  Mart Payment Plan ID Payment Plan Status  \n",
       "26     NaN                  3130              Closed  "
      ]
     },
     "execution_count": 11,
     "metadata": {},
     "output_type": "execute_result"
    }
   ],
   "source": [
    "#Checking for null values in the Variant Column\n",
    "payment_plan[payment_plan['Variant'].isnull()]"
   ]
  },
  {
   "cell_type": "markdown",
   "id": "e30a7f51",
   "metadata": {},
   "source": [
    "We can also see that some of the variant values can be extracted from the \"Payment Plan Column\" especially with regards to Solar TV products."
   ]
  },
  {
   "cell_type": "code",
   "execution_count": 12,
   "id": "0fabb80e",
   "metadata": {},
   "outputs": [],
   "source": [
    "payment_plan['Variant'].fillna(\"24\\\" TV\", inplace=True)"
   ]
  },
  {
   "cell_type": "code",
   "execution_count": 13,
   "id": "89c7fdcf",
   "metadata": {},
   "outputs": [
    {
     "data": {
      "text/html": [
       "<div>\n",
       "<style scoped>\n",
       "    .dataframe tbody tr th:only-of-type {\n",
       "        vertical-align: middle;\n",
       "    }\n",
       "\n",
       "    .dataframe tbody tr th {\n",
       "        vertical-align: top;\n",
       "    }\n",
       "\n",
       "    .dataframe thead th {\n",
       "        text-align: right;\n",
       "    }\n",
       "</style>\n",
       "<table border=\"1\" class=\"dataframe\">\n",
       "  <thead>\n",
       "    <tr style=\"text-align: right;\">\n",
       "      <th></th>\n",
       "      <th>Created At Date</th>\n",
       "      <th>Payment Plan Name</th>\n",
       "      <th>Product Sub Category</th>\n",
       "      <th>Product Type</th>\n",
       "      <th>Currency Name</th>\n",
       "      <th>Product Price</th>\n",
       "      <th>Deposit</th>\n",
       "      <th>Daily Top Up</th>\n",
       "      <th>Loan Duration</th>\n",
       "      <th>Total Top Ups</th>\n",
       "      <th>Brand</th>\n",
       "      <th>Masterbrand</th>\n",
       "      <th>Model</th>\n",
       "      <th>Plan Type</th>\n",
       "      <th>Product Category</th>\n",
       "      <th>Variant</th>\n",
       "      <th>Mart Payment Plan ID</th>\n",
       "      <th>Payment Plan Status</th>\n",
       "    </tr>\n",
       "  </thead>\n",
       "  <tbody>\n",
       "    <tr>\n",
       "      <th>26</th>\n",
       "      <td>2022-07-01</td>\n",
       "      <td>MK +600 24\" TV v18</td>\n",
       "      <td>M-KOPA +600</td>\n",
       "      <td>Solar TV</td>\n",
       "      <td>KES</td>\n",
       "      <td>72999</td>\n",
       "      <td>999.0</td>\n",
       "      <td>80.0</td>\n",
       "      <td>900.0</td>\n",
       "      <td>72000.0</td>\n",
       "      <td>M-KOPA</td>\n",
       "      <td>Solar</td>\n",
       "      <td>M-KOPA +600</td>\n",
       "      <td>Upgrade</td>\n",
       "      <td>MK TV</td>\n",
       "      <td>24\" TV</td>\n",
       "      <td>3130</td>\n",
       "      <td>Closed</td>\n",
       "    </tr>\n",
       "  </tbody>\n",
       "</table>\n",
       "</div>"
      ],
      "text/plain": [
       "   Created At Date   Payment Plan Name Product Sub Category Product Type  \\\n",
       "26      2022-07-01  MK +600 24\" TV v18          M-KOPA +600     Solar TV   \n",
       "\n",
       "   Currency Name  Product Price  Deposit  Daily Top Up  Loan Duration  \\\n",
       "26           KES          72999    999.0          80.0          900.0   \n",
       "\n",
       "    Total Top Ups   Brand Masterbrand        Model Plan Type Product Category  \\\n",
       "26        72000.0  M-KOPA       Solar  M-KOPA +600   Upgrade            MK TV   \n",
       "\n",
       "   Variant  Mart Payment Plan ID Payment Plan Status  \n",
       "26  24\" TV                  3130              Closed  "
      ]
     },
     "execution_count": 13,
     "metadata": {},
     "output_type": "execute_result"
    }
   ],
   "source": [
    "#Checking the output\n",
    "filtered_df = payment_plan[payment_plan.index == 26]\n",
    "filtered_df"
   ]
  },
  {
   "cell_type": "code",
   "execution_count": 14,
   "id": "3b738403",
   "metadata": {},
   "outputs": [
    {
     "data": {
      "text/html": [
       "<div>\n",
       "<style scoped>\n",
       "    .dataframe tbody tr th:only-of-type {\n",
       "        vertical-align: middle;\n",
       "    }\n",
       "\n",
       "    .dataframe tbody tr th {\n",
       "        vertical-align: top;\n",
       "    }\n",
       "\n",
       "    .dataframe thead th {\n",
       "        text-align: right;\n",
       "    }\n",
       "</style>\n",
       "<table border=\"1\" class=\"dataframe\">\n",
       "  <thead>\n",
       "    <tr style=\"text-align: right;\">\n",
       "      <th></th>\n",
       "      <th>Created At Date</th>\n",
       "      <th>Payment Plan Name</th>\n",
       "      <th>Product Sub Category</th>\n",
       "      <th>Product Type</th>\n",
       "      <th>Currency Name</th>\n",
       "      <th>Product Price</th>\n",
       "      <th>Deposit</th>\n",
       "      <th>Daily Top Up</th>\n",
       "      <th>Loan Duration</th>\n",
       "      <th>Total Top Ups</th>\n",
       "      <th>Brand</th>\n",
       "      <th>Masterbrand</th>\n",
       "      <th>Model</th>\n",
       "      <th>Plan Type</th>\n",
       "      <th>Product Category</th>\n",
       "      <th>Variant</th>\n",
       "      <th>Mart Payment Plan ID</th>\n",
       "      <th>Payment Plan Status</th>\n",
       "    </tr>\n",
       "  </thead>\n",
       "  <tbody>\n",
       "    <tr>\n",
       "      <th>433</th>\n",
       "      <td>2017-01-26</td>\n",
       "      <td>M-KOPA 400 (3B) Cash v1</td>\n",
       "      <td>M-KOPA 400</td>\n",
       "      <td>Solar TV</td>\n",
       "      <td>KES</td>\n",
       "      <td>44999</td>\n",
       "      <td>NaN</td>\n",
       "      <td>NaN</td>\n",
       "      <td>NaN</td>\n",
       "      <td>NaN</td>\n",
       "      <td>M-KOPA</td>\n",
       "      <td>Solar</td>\n",
       "      <td>M-KOPA 400</td>\n",
       "      <td>Acquisition</td>\n",
       "      <td>MK TV</td>\n",
       "      <td>16\" TV</td>\n",
       "      <td>273</td>\n",
       "      <td>Closed</td>\n",
       "    </tr>\n",
       "    <tr>\n",
       "      <th>435</th>\n",
       "      <td>2017-01-26</td>\n",
       "      <td>M-KOPA 400 (3B) Cash v1</td>\n",
       "      <td>M-KOPA 400</td>\n",
       "      <td>Solar TV</td>\n",
       "      <td>KES</td>\n",
       "      <td>100</td>\n",
       "      <td>NaN</td>\n",
       "      <td>NaN</td>\n",
       "      <td>NaN</td>\n",
       "      <td>NaN</td>\n",
       "      <td>M-KOPA</td>\n",
       "      <td>Solar</td>\n",
       "      <td>M-KOPA 400</td>\n",
       "      <td>Acquisition</td>\n",
       "      <td>MK TV</td>\n",
       "      <td>16\" TV</td>\n",
       "      <td>275</td>\n",
       "      <td>Closed</td>\n",
       "    </tr>\n",
       "    <tr>\n",
       "      <th>437</th>\n",
       "      <td>2017-01-13</td>\n",
       "      <td>M-KOPA 4 (3B): 18,999 cash</td>\n",
       "      <td>M-KOPA 4</td>\n",
       "      <td>Lights</td>\n",
       "      <td>KES</td>\n",
       "      <td>18999</td>\n",
       "      <td>NaN</td>\n",
       "      <td>NaN</td>\n",
       "      <td>NaN</td>\n",
       "      <td>NaN</td>\n",
       "      <td>M-KOPA</td>\n",
       "      <td>Solar</td>\n",
       "      <td>M-KOPA 4</td>\n",
       "      <td>Acquisition</td>\n",
       "      <td>MK Classic</td>\n",
       "      <td>3 lights</td>\n",
       "      <td>269</td>\n",
       "      <td>Closed</td>\n",
       "    </tr>\n",
       "    <tr>\n",
       "      <th>439</th>\n",
       "      <td>2017-01-13</td>\n",
       "      <td>M-KOPA 4(3B) Cash v1</td>\n",
       "      <td>M-KOPA 4</td>\n",
       "      <td>Lights</td>\n",
       "      <td>KES</td>\n",
       "      <td>18999</td>\n",
       "      <td>NaN</td>\n",
       "      <td>NaN</td>\n",
       "      <td>NaN</td>\n",
       "      <td>NaN</td>\n",
       "      <td>M-KOPA</td>\n",
       "      <td>Solar</td>\n",
       "      <td>M-KOPA 4</td>\n",
       "      <td>Acquisition</td>\n",
       "      <td>MK Classic</td>\n",
       "      <td>3 lights</td>\n",
       "      <td>267</td>\n",
       "      <td>Closed</td>\n",
       "    </tr>\n",
       "    <tr>\n",
       "      <th>441</th>\n",
       "      <td>2017-01-13</td>\n",
       "      <td>M-KOPA 400 Cash v3</td>\n",
       "      <td>M-KOPA 400</td>\n",
       "      <td>Solar TV</td>\n",
       "      <td>KES</td>\n",
       "      <td>44999</td>\n",
       "      <td>NaN</td>\n",
       "      <td>NaN</td>\n",
       "      <td>NaN</td>\n",
       "      <td>NaN</td>\n",
       "      <td>M-KOPA</td>\n",
       "      <td>Solar</td>\n",
       "      <td>M-KOPA 400</td>\n",
       "      <td>Acquisition</td>\n",
       "      <td>MK TV</td>\n",
       "      <td>16\" TV</td>\n",
       "      <td>266</td>\n",
       "      <td>Closed</td>\n",
       "    </tr>\n",
       "    <tr>\n",
       "      <th>458</th>\n",
       "      <td>2016-08-14</td>\n",
       "      <td>M-KOPA 400 IndCh Cash v1</td>\n",
       "      <td>M-KOPA 400</td>\n",
       "      <td>Solar TV</td>\n",
       "      <td>KES</td>\n",
       "      <td>44999</td>\n",
       "      <td>NaN</td>\n",
       "      <td>NaN</td>\n",
       "      <td>NaN</td>\n",
       "      <td>NaN</td>\n",
       "      <td>M-KOPA</td>\n",
       "      <td>Solar</td>\n",
       "      <td>M-KOPA 400</td>\n",
       "      <td>Acquisition</td>\n",
       "      <td>MK TV</td>\n",
       "      <td>16\" TV</td>\n",
       "      <td>147</td>\n",
       "      <td>Closed</td>\n",
       "    </tr>\n",
       "    <tr>\n",
       "      <th>467</th>\n",
       "      <td>2016-05-26</td>\n",
       "      <td>M-KOPA 4 IndCh Cash v1</td>\n",
       "      <td>M-KOPA 4</td>\n",
       "      <td>Lights</td>\n",
       "      <td>KES</td>\n",
       "      <td>17750</td>\n",
       "      <td>NaN</td>\n",
       "      <td>NaN</td>\n",
       "      <td>NaN</td>\n",
       "      <td>NaN</td>\n",
       "      <td>M-KOPA</td>\n",
       "      <td>Solar</td>\n",
       "      <td>M-KOPA 4</td>\n",
       "      <td>Acquisition</td>\n",
       "      <td>MK Classic</td>\n",
       "      <td>3 lights</td>\n",
       "      <td>129</td>\n",
       "      <td>Closed</td>\n",
       "    </tr>\n",
       "    <tr>\n",
       "      <th>468</th>\n",
       "      <td>2016-04-19</td>\n",
       "      <td>M-KOPA 400 Cash v2</td>\n",
       "      <td>M-KOPA 400</td>\n",
       "      <td>Solar TV</td>\n",
       "      <td>KES</td>\n",
       "      <td>44999</td>\n",
       "      <td>NaN</td>\n",
       "      <td>NaN</td>\n",
       "      <td>NaN</td>\n",
       "      <td>NaN</td>\n",
       "      <td>M-KOPA</td>\n",
       "      <td>Solar</td>\n",
       "      <td>M-KOPA 400</td>\n",
       "      <td>Acquisition</td>\n",
       "      <td>MK TV</td>\n",
       "      <td>16\" TV</td>\n",
       "      <td>119</td>\n",
       "      <td>Closed</td>\n",
       "    </tr>\n",
       "    <tr>\n",
       "      <th>472</th>\n",
       "      <td>2016-04-07</td>\n",
       "      <td>M-KOPA 400 Cash v1</td>\n",
       "      <td>M-KOPA 400</td>\n",
       "      <td>Solar TV</td>\n",
       "      <td>KES</td>\n",
       "      <td>44999</td>\n",
       "      <td>NaN</td>\n",
       "      <td>NaN</td>\n",
       "      <td>NaN</td>\n",
       "      <td>NaN</td>\n",
       "      <td>M-KOPA</td>\n",
       "      <td>Solar</td>\n",
       "      <td>M-KOPA 400</td>\n",
       "      <td>Acquisition</td>\n",
       "      <td>MK TV</td>\n",
       "      <td>16\" TV</td>\n",
       "      <td>117</td>\n",
       "      <td>Closed</td>\n",
       "    </tr>\n",
       "    <tr>\n",
       "      <th>479</th>\n",
       "      <td>2016-01-14</td>\n",
       "      <td>M-KOPA 400 (K) Cash v1</td>\n",
       "      <td>M-KOPA 400</td>\n",
       "      <td>Solar TV</td>\n",
       "      <td>KES</td>\n",
       "      <td>44999</td>\n",
       "      <td>NaN</td>\n",
       "      <td>NaN</td>\n",
       "      <td>NaN</td>\n",
       "      <td>NaN</td>\n",
       "      <td>M-KOPA</td>\n",
       "      <td>Solar</td>\n",
       "      <td>M-KOPA 400</td>\n",
       "      <td>Acquisition</td>\n",
       "      <td>MK TV</td>\n",
       "      <td>16\" TV</td>\n",
       "      <td>103</td>\n",
       "      <td>Closed</td>\n",
       "    </tr>\n",
       "    <tr>\n",
       "      <th>485</th>\n",
       "      <td>2015-12-01</td>\n",
       "      <td>M-KOPA 4 Cash v1</td>\n",
       "      <td>M-KOPA 4</td>\n",
       "      <td>Lights</td>\n",
       "      <td>KES</td>\n",
       "      <td>17750</td>\n",
       "      <td>NaN</td>\n",
       "      <td>NaN</td>\n",
       "      <td>NaN</td>\n",
       "      <td>NaN</td>\n",
       "      <td>M-KOPA</td>\n",
       "      <td>Solar</td>\n",
       "      <td>M-KOPA 4</td>\n",
       "      <td>Acquisition</td>\n",
       "      <td>MK Classic</td>\n",
       "      <td>3 lights</td>\n",
       "      <td>90</td>\n",
       "      <td>Closed</td>\n",
       "    </tr>\n",
       "  </tbody>\n",
       "</table>\n",
       "</div>"
      ],
      "text/plain": [
       "    Created At Date           Payment Plan Name Product Sub Category  \\\n",
       "433      2017-01-26    M-KOPA 400 (3B) Cash v1            M-KOPA 400   \n",
       "435      2017-01-26    M-KOPA 400 (3B) Cash v1            M-KOPA 400   \n",
       "437      2017-01-13  M-KOPA 4 (3B): 18,999 cash             M-KOPA 4   \n",
       "439      2017-01-13       M-KOPA 4(3B) Cash v1              M-KOPA 4   \n",
       "441      2017-01-13          M-KOPA 400 Cash v3           M-KOPA 400   \n",
       "458      2016-08-14    M-KOPA 400 IndCh Cash v1           M-KOPA 400   \n",
       "467      2016-05-26      M-KOPA 4 IndCh Cash v1             M-KOPA 4   \n",
       "468      2016-04-19          M-KOPA 400 Cash v2           M-KOPA 400   \n",
       "472      2016-04-07          M-KOPA 400 Cash v1           M-KOPA 400   \n",
       "479      2016-01-14      M-KOPA 400 (K) Cash v1           M-KOPA 400   \n",
       "485      2015-12-01            M-KOPA 4 Cash v1             M-KOPA 4   \n",
       "\n",
       "    Product Type Currency Name  Product Price  Deposit  Daily Top Up  \\\n",
       "433     Solar TV           KES          44999      NaN           NaN   \n",
       "435     Solar TV           KES            100      NaN           NaN   \n",
       "437       Lights           KES          18999      NaN           NaN   \n",
       "439       Lights           KES          18999      NaN           NaN   \n",
       "441     Solar TV           KES          44999      NaN           NaN   \n",
       "458     Solar TV           KES          44999      NaN           NaN   \n",
       "467       Lights           KES          17750      NaN           NaN   \n",
       "468     Solar TV           KES          44999      NaN           NaN   \n",
       "472     Solar TV           KES          44999      NaN           NaN   \n",
       "479     Solar TV           KES          44999      NaN           NaN   \n",
       "485       Lights           KES          17750      NaN           NaN   \n",
       "\n",
       "     Loan Duration  Total Top Ups   Brand Masterbrand       Model  \\\n",
       "433            NaN            NaN  M-KOPA       Solar  M-KOPA 400   \n",
       "435            NaN            NaN  M-KOPA       Solar  M-KOPA 400   \n",
       "437            NaN            NaN  M-KOPA       Solar    M-KOPA 4   \n",
       "439            NaN            NaN  M-KOPA       Solar    M-KOPA 4   \n",
       "441            NaN            NaN  M-KOPA       Solar  M-KOPA 400   \n",
       "458            NaN            NaN  M-KOPA       Solar  M-KOPA 400   \n",
       "467            NaN            NaN  M-KOPA       Solar    M-KOPA 4   \n",
       "468            NaN            NaN  M-KOPA       Solar  M-KOPA 400   \n",
       "472            NaN            NaN  M-KOPA       Solar  M-KOPA 400   \n",
       "479            NaN            NaN  M-KOPA       Solar  M-KOPA 400   \n",
       "485            NaN            NaN  M-KOPA       Solar    M-KOPA 4   \n",
       "\n",
       "       Plan Type Product Category   Variant  Mart Payment Plan ID  \\\n",
       "433  Acquisition            MK TV    16\" TV                   273   \n",
       "435  Acquisition            MK TV    16\" TV                   275   \n",
       "437  Acquisition       MK Classic  3 lights                   269   \n",
       "439  Acquisition       MK Classic  3 lights                   267   \n",
       "441  Acquisition            MK TV    16\" TV                   266   \n",
       "458  Acquisition            MK TV    16\" TV                   147   \n",
       "467  Acquisition       MK Classic  3 lights                   129   \n",
       "468  Acquisition            MK TV    16\" TV                   119   \n",
       "472  Acquisition            MK TV    16\" TV                   117   \n",
       "479  Acquisition            MK TV    16\" TV                   103   \n",
       "485  Acquisition       MK Classic  3 lights                    90   \n",
       "\n",
       "    Payment Plan Status  \n",
       "433              Closed  \n",
       "435              Closed  \n",
       "437              Closed  \n",
       "439              Closed  \n",
       "441              Closed  \n",
       "458              Closed  \n",
       "467              Closed  \n",
       "468              Closed  \n",
       "472              Closed  \n",
       "479              Closed  \n",
       "485              Closed  "
      ]
     },
     "execution_count": 14,
     "metadata": {},
     "output_type": "execute_result"
    }
   ],
   "source": [
    "#A look at null values in the Model column\n",
    "payment_plan[payment_plan['Deposit'].isnull()]"
   ]
  },
  {
   "cell_type": "markdown",
   "id": "44dd3362",
   "metadata": {},
   "source": [
    "The Null values in the Deposit, Daily Top Up, Loan Duration and Total Top Ups columns all show closed in the Payment plan Status column which could mean that these products were paid for in full and in cash as shown by Cash in the Payment Plan Name column. Therefore, let's replace all these values with zero."
   ]
  },
  {
   "cell_type": "code",
   "execution_count": 15,
   "id": "8f6551c1",
   "metadata": {},
   "outputs": [
    {
     "data": {
      "text/plain": [
       "Created At Date         0\n",
       "Payment Plan Name       0\n",
       "Product Sub Category    0\n",
       "Product Type            0\n",
       "Currency Name           0\n",
       "Product Price           0\n",
       "Deposit                 0\n",
       "Daily Top Up            0\n",
       "Loan Duration           0\n",
       "Total Top Ups           0\n",
       "Brand                   0\n",
       "Masterbrand             0\n",
       "Model                   0\n",
       "Plan Type               0\n",
       "Product Category        0\n",
       "Variant                 0\n",
       "Mart Payment Plan ID    0\n",
       "Payment Plan Status     0\n",
       "dtype: int64"
      ]
     },
     "execution_count": 15,
     "metadata": {},
     "output_type": "execute_result"
    }
   ],
   "source": [
    "#Replacing the remaining null values with zero\n",
    "payment_plan.fillna(0, inplace = True)\n",
    "payment_plan.isnull().sum()"
   ]
  },
  {
   "cell_type": "markdown",
   "id": "6ed5f491",
   "metadata": {},
   "source": [
    "We have no Null / Missing values therefore our dataset is clean"
   ]
  },
  {
   "cell_type": "markdown",
   "id": "5249208a",
   "metadata": {},
   "source": [
    "<b>Exploratory Data Analysis</b>"
   ]
  },
  {
   "cell_type": "code",
   "execution_count": 16,
   "id": "b7aeca92",
   "metadata": {},
   "outputs": [
    {
     "data": {
      "text/html": [
       "<div>\n",
       "<style scoped>\n",
       "    .dataframe tbody tr th:only-of-type {\n",
       "        vertical-align: middle;\n",
       "    }\n",
       "\n",
       "    .dataframe tbody tr th {\n",
       "        vertical-align: top;\n",
       "    }\n",
       "\n",
       "    .dataframe thead th {\n",
       "        text-align: right;\n",
       "    }\n",
       "</style>\n",
       "<table border=\"1\" class=\"dataframe\">\n",
       "  <thead>\n",
       "    <tr style=\"text-align: right;\">\n",
       "      <th></th>\n",
       "      <th>Created At Date</th>\n",
       "      <th>Product Price</th>\n",
       "      <th>Deposit</th>\n",
       "      <th>Daily Top Up</th>\n",
       "      <th>Loan Duration</th>\n",
       "      <th>Total Top Ups</th>\n",
       "      <th>Mart Payment Plan ID</th>\n",
       "    </tr>\n",
       "  </thead>\n",
       "  <tbody>\n",
       "    <tr>\n",
       "      <th>count</th>\n",
       "      <td>488</td>\n",
       "      <td>488.000000</td>\n",
       "      <td>488.000000</td>\n",
       "      <td>488.000000</td>\n",
       "      <td>488.000000</td>\n",
       "      <td>488.000000</td>\n",
       "      <td>488.000000</td>\n",
       "    </tr>\n",
       "    <tr>\n",
       "      <th>mean</th>\n",
       "      <td>2019-01-24 02:06:53.114754048</td>\n",
       "      <td>58292.346311</td>\n",
       "      <td>4459.721311</td>\n",
       "      <td>88.095246</td>\n",
       "      <td>582.579918</td>\n",
       "      <td>53128.543033</td>\n",
       "      <td>1159.991803</td>\n",
       "    </tr>\n",
       "    <tr>\n",
       "      <th>min</th>\n",
       "      <td>2015-09-17 00:00:00</td>\n",
       "      <td>1.000000</td>\n",
       "      <td>0.000000</td>\n",
       "      <td>0.000000</td>\n",
       "      <td>0.000000</td>\n",
       "      <td>0.000000</td>\n",
       "      <td>87.000000</td>\n",
       "    </tr>\n",
       "    <tr>\n",
       "      <th>25%</th>\n",
       "      <td>2017-08-24 00:00:00</td>\n",
       "      <td>38000.000000</td>\n",
       "      <td>999.000000</td>\n",
       "      <td>50.000000</td>\n",
       "      <td>376.250000</td>\n",
       "      <td>30000.000000</td>\n",
       "      <td>520.750000</td>\n",
       "    </tr>\n",
       "    <tr>\n",
       "      <th>50%</th>\n",
       "      <td>2018-12-01 12:00:00</td>\n",
       "      <td>54749.500000</td>\n",
       "      <td>3000.000000</td>\n",
       "      <td>85.000000</td>\n",
       "      <td>600.000000</td>\n",
       "      <td>51000.000000</td>\n",
       "      <td>977.500000</td>\n",
       "    </tr>\n",
       "    <tr>\n",
       "      <th>75%</th>\n",
       "      <td>2020-02-20 06:00:00</td>\n",
       "      <td>78899.000000</td>\n",
       "      <td>6999.000000</td>\n",
       "      <td>125.000000</td>\n",
       "      <td>840.000000</td>\n",
       "      <td>75000.000000</td>\n",
       "      <td>1554.000000</td>\n",
       "    </tr>\n",
       "    <tr>\n",
       "      <th>max</th>\n",
       "      <td>2023-04-20 00:00:00</td>\n",
       "      <td>189999.000000</td>\n",
       "      <td>99999.000000</td>\n",
       "      <td>250.000000</td>\n",
       "      <td>920.000000</td>\n",
       "      <td>175000.000000</td>\n",
       "      <td>4319.000000</td>\n",
       "    </tr>\n",
       "    <tr>\n",
       "      <th>std</th>\n",
       "      <td>NaN</td>\n",
       "      <td>32440.038141</td>\n",
       "      <td>6838.717587</td>\n",
       "      <td>44.843514</td>\n",
       "      <td>250.113235</td>\n",
       "      <td>31198.763813</td>\n",
       "      <td>875.465492</td>\n",
       "    </tr>\n",
       "  </tbody>\n",
       "</table>\n",
       "</div>"
      ],
      "text/plain": [
       "                     Created At Date  Product Price       Deposit  \\\n",
       "count                            488     488.000000    488.000000   \n",
       "mean   2019-01-24 02:06:53.114754048   58292.346311   4459.721311   \n",
       "min              2015-09-17 00:00:00       1.000000      0.000000   \n",
       "25%              2017-08-24 00:00:00   38000.000000    999.000000   \n",
       "50%              2018-12-01 12:00:00   54749.500000   3000.000000   \n",
       "75%              2020-02-20 06:00:00   78899.000000   6999.000000   \n",
       "max              2023-04-20 00:00:00  189999.000000  99999.000000   \n",
       "std                              NaN   32440.038141   6838.717587   \n",
       "\n",
       "       Daily Top Up  Loan Duration  Total Top Ups  Mart Payment Plan ID  \n",
       "count    488.000000     488.000000     488.000000            488.000000  \n",
       "mean      88.095246     582.579918   53128.543033           1159.991803  \n",
       "min        0.000000       0.000000       0.000000             87.000000  \n",
       "25%       50.000000     376.250000   30000.000000            520.750000  \n",
       "50%       85.000000     600.000000   51000.000000            977.500000  \n",
       "75%      125.000000     840.000000   75000.000000           1554.000000  \n",
       "max      250.000000     920.000000  175000.000000           4319.000000  \n",
       "std       44.843514     250.113235   31198.763813            875.465492  "
      ]
     },
     "execution_count": 16,
     "metadata": {},
     "output_type": "execute_result"
    }
   ],
   "source": [
    "payment_plan.describe()"
   ]
  },
  {
   "cell_type": "code",
   "execution_count": 17,
   "id": "3aa8e576",
   "metadata": {},
   "outputs": [
    {
     "data": {
      "text/plain": [
       "Product Category\n",
       "MK TV         358\n",
       "MK Classic     68\n",
       "MK Fridge      29\n",
       "MK Starter     27\n",
       "Addition        6\n",
       "Name: count, dtype: int64"
      ]
     },
     "execution_count": 17,
     "metadata": {},
     "output_type": "execute_result"
    }
   ],
   "source": [
    "#Count of unique occurrences in the Product category column\n",
    "pdt_cat = payment_plan['Product Category'].value_counts()\n",
    "pdt_cat"
   ]
  },
  {
   "cell_type": "markdown",
   "id": "757a9bb1",
   "metadata": {},
   "source": [
    "\"MK TV\" is the most popular Product Category"
   ]
  },
  {
   "cell_type": "code",
   "execution_count": 18,
   "id": "aa8dcac7",
   "metadata": {},
   "outputs": [
    {
     "data": {
      "text/plain": [
       "<Axes: xlabel='Product Category'>"
      ]
     },
     "execution_count": 18,
     "metadata": {},
     "output_type": "execute_result"
    },
    {
     "data": {
      "image/png": "[encoded data removed]",
      "text/plain": [
       "<Figure size 640x480 with 1 Axes>"
      ]
     },
     "metadata": {},
     "output_type": "display_data"
    }
   ],
   "source": [
    "pdt_cat.plot(kind = 'bar')"
   ]
  },
  {
   "cell_type": "code",
   "execution_count": 19,
   "id": "5d88f8a0",
   "metadata": {},
   "outputs": [
    {
     "data": {
      "text/plain": [
       "Product Sub Category\n",
       "M-KOPA 6000     45\n",
       "M-KOPA +500     38\n",
       "M-KOPA 400      38\n",
       "M-KOPA 600      34\n",
       "M-KOPA 4        29\n",
       "M-KOPA +600     29\n",
       "M-KOPA +TV      28\n",
       "M-KOPA +400     23\n",
       "M-KOPA 6        20\n",
       "M-KOPA +6000    18\n",
       "Name: count, dtype: int64"
      ]
     },
     "execution_count": 19,
     "metadata": {},
     "output_type": "execute_result"
    }
   ],
   "source": [
    "#Count of the Top 10 unique occurrences in the Product sub category column\n",
    "pdt_subCat = payment_plan['Product Sub Category'].value_counts().head(10)\n",
    "pdt_subCat"
   ]
  },
  {
   "cell_type": "markdown",
   "id": "c758e38a",
   "metadata": {},
   "source": [
    "\"M-KOPA 6000\" is the most popular Product Sub Category"
   ]
  },
  {
   "cell_type": "code",
   "execution_count": 20,
   "id": "71650c42",
   "metadata": {},
   "outputs": [
    {
     "data": {
      "text/plain": [
       "<Axes: ylabel='Product Sub Category'>"
      ]
     },
     "execution_count": 20,
     "metadata": {},
     "output_type": "execute_result"
    },
    {
     "data": {
      "image/png": "[encoded data removed]",
      "text/plain": [
       "<Figure size 640x480 with 1 Axes>"
      ]
     },
     "metadata": {},
     "output_type": "display_data"
    }
   ],
   "source": [
    "pdt_subCat.plot(kind = 'barh')"
   ]
  },
  {
   "cell_type": "code",
   "execution_count": 21,
   "id": "ecbab26f",
   "metadata": {},
   "outputs": [
    {
     "data": {
      "text/plain": [
       "Product Type\n",
       "Solar TV                344\n",
       "Lights                   69\n",
       "Fridge                   29\n",
       "Lights - Refurbished     27\n",
       "Grid TV                  14\n",
       "Radio and Torch           4\n",
       "Fan                       1\n",
       "Name: count, dtype: int64"
      ]
     },
     "execution_count": 21,
     "metadata": {},
     "output_type": "execute_result"
    }
   ],
   "source": [
    "#Count of unique occurrences in the Product Type column\n",
    "pdt_type = payment_plan['Product Type'].value_counts()\n",
    "pdt_type"
   ]
  },
  {
   "cell_type": "markdown",
   "id": "6971f526",
   "metadata": {},
   "source": [
    "\"Solar TV\" is the most popular Product Type"
   ]
  },
  {
   "cell_type": "code",
   "execution_count": 22,
   "id": "8a0a072e",
   "metadata": {},
   "outputs": [
    {
     "data": {
      "text/plain": [
       "<Axes: xlabel='Product Type'>"
      ]
     },
     "execution_count": 22,
     "metadata": {},
     "output_type": "execute_result"
    },
    {
     "data": {
      "image/png": "[encoded data removed]",
      "text/plain": [
       "<Figure size 640x480 with 1 Axes>"
      ]
     },
     "metadata": {},
     "output_type": "display_data"
    }
   ],
   "source": [
    "pdt_type.plot(kind = 'bar')"
   ]
  },
  {
   "cell_type": "code",
   "execution_count": 23,
   "id": "4e253aaf",
   "metadata": {},
   "outputs": [
    {
     "data": {
      "text/plain": [
       "Plan Type\n",
       "Acquisition    275\n",
       "Upgrade        211\n",
       "Upsell           2\n",
       "Name: count, dtype: int64"
      ]
     },
     "execution_count": 23,
     "metadata": {},
     "output_type": "execute_result"
    }
   ],
   "source": [
    "#Count of unique occurrences in the Plan Type column\n",
    "planType = payment_plan['Plan Type'].value_counts()\n",
    "planType"
   ]
  },
  {
   "cell_type": "markdown",
   "id": "e8018d8e",
   "metadata": {},
   "source": [
    "\"Acquisition\" is the most popular Plan Type"
   ]
  },
  {
   "cell_type": "code",
   "execution_count": 24,
   "id": "785f7b9f",
   "metadata": {},
   "outputs": [
    {
     "data": {
      "text/plain": [
       "<Axes: ylabel='Plan Type'>"
      ]
     },
     "execution_count": 24,
     "metadata": {},
     "output_type": "execute_result"
    },
    {
     "data": {
      "image/png": "[encoded data removed]",
      "text/plain": [
       "<Figure size 640x480 with 1 Axes>"
      ]
     },
     "metadata": {},
     "output_type": "display_data"
    }
   ],
   "source": [
    "planType.plot(kind = 'barh')"
   ]
  },
  {
   "cell_type": "code",
   "execution_count": 25,
   "id": "49dd1b9b",
   "metadata": {},
   "outputs": [
    {
     "data": {
      "text/plain": [
       "Payment Plan Status\n",
       "Closed    93.65\n",
       "Active     6.15\n",
       "New        0.20\n",
       "Name: proportion, dtype: float64"
      ]
     },
     "execution_count": 25,
     "metadata": {},
     "output_type": "execute_result"
    }
   ],
   "source": [
    "#Count of unique occurrences in the Payment plan status column\n",
    "paymt_planStatus_percentge = (payment_plan['Payment Plan Status'].value_counts(normalize = True)*100).round(2)\n",
    "paymt_planStatus_percentge"
   ]
  },
  {
   "cell_type": "markdown",
   "id": "441b9049",
   "metadata": {},
   "source": [
    "93.65% of the Payment Plans have been closed with 6.15% still active and 0.20% new"
   ]
  },
  {
   "cell_type": "code",
   "execution_count": 26,
   "id": "b3531ce6",
   "metadata": {},
   "outputs": [
    {
     "data": {
      "image/png": "[encoded data removed]",
      "text/plain": [
       "<Figure size 640x480 with 1 Axes>"
      ]
     },
     "metadata": {},
     "output_type": "display_data"
    }
   ],
   "source": [
    "# Creating a pie chart\n",
    "plt.pie(paymt_planStatus_percentge, labels=paymt_planStatus_percentge.index)\n",
    "\n",
    "# Add a title\n",
    "plt.title('Payment Plan Status Distribution')\n",
    "\n",
    "# Ensure the pie chart is circular\n",
    "plt.axis('equal')\n",
    "\n",
    "# Show the plot\n",
    "plt.show()"
   ]
  },
  {
   "cell_type": "code",
   "execution_count": 27,
   "id": "1bcfd9b5",
   "metadata": {},
   "outputs": [
    {
     "data": {
      "text/plain": [
       "Variant\n",
       "24\" TV         122\n",
       "32\" TV          95\n",
       "16\" TV          71\n",
       "4 lights        45\n",
       "22\" TV          39\n",
       "20\" TV          31\n",
       "3 lights        28\n",
       "2 lights        27\n",
       "100L Fridge     24\n",
       "47L Fridge       5\n",
       "12\" Fan          1\n",
       "Name: count, dtype: int64"
      ]
     },
     "execution_count": 27,
     "metadata": {},
     "output_type": "execute_result"
    }
   ],
   "source": [
    "#Count of unique occurrences in the Variant column\n",
    "variant = payment_plan['Variant'].value_counts()\n",
    "variant"
   ]
  },
  {
   "cell_type": "markdown",
   "id": "53b12671",
   "metadata": {},
   "source": [
    "24\" TV is the most popular Variant"
   ]
  },
  {
   "cell_type": "code",
   "execution_count": 28,
   "id": "e67b36f7",
   "metadata": {},
   "outputs": [
    {
     "data": {
      "text/plain": [
       "<Axes: ylabel='Variant'>"
      ]
     },
     "execution_count": 28,
     "metadata": {},
     "output_type": "execute_result"
    },
    {
     "data": {
      "image/png": "[encoded data removed]",
      "text/plain": [
       "<Figure size 640x480 with 1 Axes>"
      ]
     },
     "metadata": {},
     "output_type": "display_data"
    }
   ],
   "source": [
    "variant.plot(kind = 'barh')"
   ]
  },
  {
   "cell_type": "markdown",
   "id": "95a50e5f",
   "metadata": {},
   "source": [
    "# Answering Questions"
   ]
  },
  {
   "cell_type": "markdown",
   "id": "57fae741",
   "metadata": {},
   "source": [
    "<b>Question 1</b>\n",
    "<br>\n",
    "You are provided with two datasets: Payment Plan Table and Sales Table. Your task is to analyse the data and create a\n",
    "dashboard that answers the following questions:\n",
    "<br>\n",
    "\n",
    "• Which Payment Plan had the highest sales in a particular month?\n",
    "<br>\n",
    "\n",
    "• What is the total revenue generated by each Product Sub Category?\n",
    "<br>\n",
    "\n",
    "• Which Product Type had the highest average daily top up?\n",
    "<br>\n",
    "\n",
    "• How does the sales trend of a particular Model change over time?\n",
    "<br>\n",
    "\n",
    "• What is the monthly revenue trend for a particular Masterbrand"
   ]
  },
  {
   "cell_type": "markdown",
   "id": "849cbff2",
   "metadata": {},
   "source": [
    "# Resetting Index of the dataframe"
   ]
  },
  {
   "cell_type": "code",
   "execution_count": 29,
   "id": "5f1e581e",
   "metadata": {},
   "outputs": [],
   "source": [
    "# Sort the DataFrame by the 'Created At Date' column in ascending order\n",
    "payment_plan = payment_plan.sort_values('Created At Date')\n",
    "# Reset the index of the DataFrame\n",
    "payment_plan = payment_plan.reset_index(drop=True)"
   ]
  },
  {
   "cell_type": "code",
   "execution_count": 30,
   "id": "999ee25b",
   "metadata": {},
   "outputs": [
    {
     "data": {
      "text/plain": [
       "(Timestamp('2015-09-17 00:00:00'), Timestamp('2023-04-20 00:00:00'))"
      ]
     },
     "execution_count": 30,
     "metadata": {},
     "output_type": "execute_result"
    }
   ],
   "source": [
    "payment_plan['Created At Date'].min(), payment_plan['Created At Date'].max()"
   ]
  },
  {
   "cell_type": "markdown",
   "id": "71ef3cec",
   "metadata": {},
   "source": [
    "<b>Data runs from 17th September 2015 to 20th April 2023</b>"
   ]
  },
  {
   "cell_type": "code",
   "execution_count": 31,
   "id": "975a7e66",
   "metadata": {},
   "outputs": [
    {
     "data": {
      "text/html": [
       "<div>\n",
       "<style scoped>\n",
       "    .dataframe tbody tr th:only-of-type {\n",
       "        vertical-align: middle;\n",
       "    }\n",
       "\n",
       "    .dataframe tbody tr th {\n",
       "        vertical-align: top;\n",
       "    }\n",
       "\n",
       "    .dataframe thead th {\n",
       "        text-align: right;\n",
       "    }\n",
       "</style>\n",
       "<table border=\"1\" class=\"dataframe\">\n",
       "  <thead>\n",
       "    <tr style=\"text-align: right;\">\n",
       "      <th></th>\n",
       "      <th>Created At Date</th>\n",
       "      <th>Payment Plan Name</th>\n",
       "      <th>Product Sub Category</th>\n",
       "      <th>Product Type</th>\n",
       "      <th>Currency Name</th>\n",
       "      <th>Product Price</th>\n",
       "      <th>Deposit</th>\n",
       "      <th>Daily Top Up</th>\n",
       "      <th>Loan Duration</th>\n",
       "      <th>Total Top Ups</th>\n",
       "      <th>Brand</th>\n",
       "      <th>Masterbrand</th>\n",
       "      <th>Model</th>\n",
       "      <th>Plan Type</th>\n",
       "      <th>Product Category</th>\n",
       "      <th>Variant</th>\n",
       "      <th>Mart Payment Plan ID</th>\n",
       "      <th>Payment Plan Status</th>\n",
       "    </tr>\n",
       "  </thead>\n",
       "  <tbody>\n",
       "    <tr>\n",
       "      <th>0</th>\n",
       "      <td>2015-09-17</td>\n",
       "      <td>M-KOPA 4 v1</td>\n",
       "      <td>M-KOPA 4</td>\n",
       "      <td>Lights</td>\n",
       "      <td>KES</td>\n",
       "      <td>21249</td>\n",
       "      <td>2999.0</td>\n",
       "      <td>50.0</td>\n",
       "      <td>365.0</td>\n",
       "      <td>18250.0</td>\n",
       "      <td>M-KOPA</td>\n",
       "      <td>Solar</td>\n",
       "      <td>M-KOPA 4</td>\n",
       "      <td>Acquisition</td>\n",
       "      <td>MK Classic</td>\n",
       "      <td>3 lights</td>\n",
       "      <td>87</td>\n",
       "      <td>Closed</td>\n",
       "    </tr>\n",
       "    <tr>\n",
       "      <th>1</th>\n",
       "      <td>2015-12-01</td>\n",
       "      <td>M-KOPA 4 v2</td>\n",
       "      <td>M-KOPA 4</td>\n",
       "      <td>Lights</td>\n",
       "      <td>KES</td>\n",
       "      <td>21750</td>\n",
       "      <td>3500.0</td>\n",
       "      <td>50.0</td>\n",
       "      <td>365.0</td>\n",
       "      <td>18250.0</td>\n",
       "      <td>M-KOPA</td>\n",
       "      <td>Solar</td>\n",
       "      <td>M-KOPA 4</td>\n",
       "      <td>Acquisition</td>\n",
       "      <td>MK Classic</td>\n",
       "      <td>3 lights</td>\n",
       "      <td>91</td>\n",
       "      <td>Closed</td>\n",
       "    </tr>\n",
       "    <tr>\n",
       "      <th>2</th>\n",
       "      <td>2015-12-01</td>\n",
       "      <td>M-KOPA 4 Cash v1</td>\n",
       "      <td>M-KOPA 4</td>\n",
       "      <td>Lights</td>\n",
       "      <td>KES</td>\n",
       "      <td>17750</td>\n",
       "      <td>0.0</td>\n",
       "      <td>0.0</td>\n",
       "      <td>0.0</td>\n",
       "      <td>0.0</td>\n",
       "      <td>M-KOPA</td>\n",
       "      <td>Solar</td>\n",
       "      <td>M-KOPA 4</td>\n",
       "      <td>Acquisition</td>\n",
       "      <td>MK Classic</td>\n",
       "      <td>3 lights</td>\n",
       "      <td>90</td>\n",
       "      <td>Closed</td>\n",
       "    </tr>\n",
       "    <tr>\n",
       "      <th>3</th>\n",
       "      <td>2015-12-04</td>\n",
       "      <td>M-KOPA 4 Demo</td>\n",
       "      <td>M-KOPA 4</td>\n",
       "      <td>Lights</td>\n",
       "      <td>KES</td>\n",
       "      <td>15750</td>\n",
       "      <td>750.0</td>\n",
       "      <td>25.0</td>\n",
       "      <td>600.0</td>\n",
       "      <td>15000.0</td>\n",
       "      <td>M-KOPA</td>\n",
       "      <td>Solar</td>\n",
       "      <td>M-KOPA 4</td>\n",
       "      <td>Acquisition</td>\n",
       "      <td>MK Classic</td>\n",
       "      <td>3 lights</td>\n",
       "      <td>92</td>\n",
       "      <td>Closed</td>\n",
       "    </tr>\n",
       "    <tr>\n",
       "      <th>4</th>\n",
       "      <td>2015-12-04</td>\n",
       "      <td>M-KOPA 4 Staff</td>\n",
       "      <td>M-KOPA 4</td>\n",
       "      <td>Lights</td>\n",
       "      <td>KES</td>\n",
       "      <td>15275</td>\n",
       "      <td>2500.0</td>\n",
       "      <td>35.0</td>\n",
       "      <td>365.0</td>\n",
       "      <td>12775.0</td>\n",
       "      <td>M-KOPA</td>\n",
       "      <td>Solar</td>\n",
       "      <td>M-KOPA 4</td>\n",
       "      <td>Acquisition</td>\n",
       "      <td>MK Classic</td>\n",
       "      <td>3 lights</td>\n",
       "      <td>93</td>\n",
       "      <td>Active</td>\n",
       "    </tr>\n",
       "  </tbody>\n",
       "</table>\n",
       "</div>"
      ],
      "text/plain": [
       "  Created At Date Payment Plan Name Product Sub Category Product Type  \\\n",
       "0      2015-09-17      M-KOPA 4 v1              M-KOPA 4       Lights   \n",
       "1      2015-12-01       M-KOPA 4 v2             M-KOPA 4       Lights   \n",
       "2      2015-12-01  M-KOPA 4 Cash v1             M-KOPA 4       Lights   \n",
       "3      2015-12-04     M-KOPA 4 Demo             M-KOPA 4       Lights   \n",
       "4      2015-12-04   M-KOPA 4 Staff              M-KOPA 4       Lights   \n",
       "\n",
       "  Currency Name  Product Price  Deposit  Daily Top Up  Loan Duration  \\\n",
       "0           KES          21249   2999.0          50.0          365.0   \n",
       "1           KES          21750   3500.0          50.0          365.0   \n",
       "2           KES          17750      0.0           0.0            0.0   \n",
       "3           KES          15750    750.0          25.0          600.0   \n",
       "4           KES          15275   2500.0          35.0          365.0   \n",
       "\n",
       "   Total Top Ups   Brand Masterbrand     Model    Plan Type Product Category  \\\n",
       "0        18250.0  M-KOPA       Solar  M-KOPA 4  Acquisition       MK Classic   \n",
       "1        18250.0  M-KOPA       Solar  M-KOPA 4  Acquisition       MK Classic   \n",
       "2            0.0  M-KOPA       Solar  M-KOPA 4  Acquisition       MK Classic   \n",
       "3        15000.0  M-KOPA       Solar  M-KOPA 4  Acquisition       MK Classic   \n",
       "4        12775.0  M-KOPA       Solar  M-KOPA 4  Acquisition       MK Classic   \n",
       "\n",
       "    Variant  Mart Payment Plan ID Payment Plan Status  \n",
       "0  3 lights                    87              Closed  \n",
       "1  3 lights                    91              Closed  \n",
       "2  3 lights                    90              Closed  \n",
       "3  3 lights                    92              Closed  \n",
       "4  3 lights                    93              Active  "
      ]
     },
     "execution_count": 31,
     "metadata": {},
     "output_type": "execute_result"
    }
   ],
   "source": [
    "payment_plan.head()"
   ]
  },
  {
   "cell_type": "markdown",
   "id": "20d293b7",
   "metadata": {},
   "source": [
    "<b>Which Payment Plan had the highest sales in a particular month?</b>"
   ]
  },
  {
   "cell_type": "code",
   "execution_count": 32,
   "id": "f6658d5f",
   "metadata": {},
   "outputs": [],
   "source": [
    "# Extracting the Month and Year from the dataframe\n",
    "payment_plan['Month'] = payment_plan['Created At Date'].dt.strftime('%b')\n",
    "payment_plan['Year'] = payment_plan['Created At Date'].dt.year"
   ]
  },
  {
   "cell_type": "code",
   "execution_count": 33,
   "id": "32270d6e",
   "metadata": {},
   "outputs": [
    {
     "data": {
      "text/plain": [
       "Month\n",
       "Aug    82\n",
       "Jul    60\n",
       "May    45\n",
       "Mar    43\n",
       "Feb    38\n",
       "Apr    38\n",
       "Jun    38\n",
       "Sep    33\n",
       "Jan    33\n",
       "Oct    27\n",
       "Dec    26\n",
       "Nov    25\n",
       "Name: count, dtype: int64"
      ]
     },
     "execution_count": 33,
     "metadata": {},
     "output_type": "execute_result"
    }
   ],
   "source": [
    "#Checking Unique occurrences for each Month\n",
    "payment_plan['Month'].value_counts()"
   ]
  },
  {
   "cell_type": "markdown",
   "id": "8070e1d6",
   "metadata": {},
   "source": [
    "Chosing <b>April</b> as my Particular Month "
   ]
  },
  {
   "cell_type": "code",
   "execution_count": 34,
   "id": "fbba9234",
   "metadata": {},
   "outputs": [
    {
     "data": {
      "text/plain": [
       "Payment Plan Name\n",
       "M-KOPA FRIDGE v4 100L                          92500.0\n",
       "M-KOPA 6000 (32\") v9 MD LR (BURN)              86400.0\n",
       "MK 6000C 32\" TV v3 Staff                       80000.0\n",
       "M-KOPA 600 (24\") Zuku Smart CAM v4 (BURN)      79650.0\n",
       "M-KOPA 6000 (32\") v8 HD LR (BURN)              79650.0\n",
       "M-KOPA +500 (22\") Zuku Smart CAM v1            72000.0\n",
       "MK 600 24\" TV v21 Staff                        61200.0\n",
       "M-KOPA 600 (24\")-Rev B v7                      60000.0\n",
       "M-KOPA 600 (24\") v3 (BURN)                     59000.0\n",
       "M-KOPA +600 (24\") v10 (Early Upgrade)          54000.0\n",
       "M-KOPA +600 (24\") v11 (GT Early Upgrade)       54000.0\n",
       "M-KOPA 400 (3B) Telesales v1-1                 45625.0\n",
       "M-KOPA 400 v2                                  45625.0\n",
       "M-KOPA 400 (3B) IndCh v1                       45625.0\n",
       "M-KOPA 400 (3B) Telesales v1                   45625.0\n",
       "M-KOPA +500 (22\") v3 (GT)                      45000.0\n",
       "M-KOPA + TV (22\") v3 (GT)                      45000.0\n",
       "M-KOPA +500 (22\") v7 (RT 3000 Deposit)         45000.0\n",
       "M-KOPA + TV (22\") v1                           45000.0\n",
       "M-KOPA +500 (22\") v1                           45000.0\n",
       "M-KOPA + TV (22\") v5 (RT 3000 Deposit)         45000.0\n",
       "M-KOPA +500 (22\") v6 (60/day GT)               43500.0\n",
       "M-KOPA +500 (22\") v4 (60/day)                  43500.0\n",
       "M-KOPA + TV (22\") v4 (60/day)                  43500.0\n",
       "M-KOPA + TV v0                                 42500.0\n",
       "M-KOPA +500 (22\") v2 (Early Upgrade)           42000.0\n",
       "M-KOPA + TV (22\") v2 (Early Upgrade)           42000.0\n",
       "M-KOPA +500 (22\") v5 (60/day Early Upgrade)    40500.0\n",
       "M-KOPA +400 v1                                 36500.0\n",
       "M-KOPA +400 v2                                 36500.0\n",
       "M-KOPA 5 v7 (BURN)                             21000.0\n",
       "M-KOPA 4 (3B) IndCh v1                         20000.0\n",
       "M-KOPA 4 v5 CSE-1                              20000.0\n",
       "M-KOPA 4 (3B) Telesales v1                     20000.0\n",
       "M-KOPA Starter 4S v3                           11500.0\n",
       "M-K5 DVT F&F                                    7300.0\n",
       "M-KOPA 400 Cash v2                                 0.0\n",
       "M-KOPA 400 Cash v1                                 0.0\n",
       "Name: Total Top Ups, dtype: float64"
      ]
     },
     "execution_count": 34,
     "metadata": {},
     "output_type": "execute_result"
    }
   ],
   "source": [
    "# Filtering the data for the particular month\n",
    "april_filtered_data = payment_plan[payment_plan['Month'] == 'Apr']\n",
    "\n",
    "# Grouping by Payment Plan Name and calculate the total price\n",
    "sales_by_plan = april_filtered_data.groupby('Payment Plan Name')['Total Top Ups'].sum().sort_values(ascending = False)\n",
    "sales_by_plan"
   ]
  },
  {
   "cell_type": "code",
   "execution_count": 35,
   "id": "0b556335",
   "metadata": {},
   "outputs": [
    {
     "name": "stdout",
     "output_type": "stream",
     "text": [
      "Payment Plan with the highest sales in April is: M-KOPA FRIDGE v4 100L\n"
     ]
    }
   ],
   "source": [
    "#Payment Plan with the highest sales\n",
    "highest_sales_by_plan = sales_by_plan.idxmax()\n",
    "print(\"Payment Plan with the highest sales in April is:\", highest_sales_by_plan)"
   ]
  },
  {
   "cell_type": "markdown",
   "id": "ff62b5fa",
   "metadata": {},
   "source": [
    "Chosing <b>August</b> as my Particular Month "
   ]
  },
  {
   "cell_type": "code",
   "execution_count": 36,
   "id": "59d69465",
   "metadata": {},
   "outputs": [
    {
     "data": {
      "text/plain": [
       "Payment Plan Name\n",
       "MK 60K (80W Panel) 32\"TV & Fridge v4    175000.0\n",
       "M-KOPA Fridge v14 100L                  120000.0\n",
       "MK Fridge v20 100L                      115500.0\n",
       "M-KOPA Fridge v18 100L                  115500.0\n",
       "M-KOPA Fridge v19 100L                  115500.0\n",
       "                                          ...   \n",
       "M-KOPA 4S Upgrade Pack v2                 8500.0\n",
       " M-K5 PVT F&F                             7300.0\n",
       "MK 6 Cash v8                                 1.0\n",
       "M-KOPA Fridge (CASH) v13 100L                0.0\n",
       "M-KOPA 400 IndCh Cash v1                     0.0\n",
       "Name: Total Top Ups, Length: 82, dtype: float64"
      ]
     },
     "execution_count": 36,
     "metadata": {},
     "output_type": "execute_result"
    }
   ],
   "source": [
    "# Filtering the data for the particular month\n",
    "august_filtered_data = payment_plan[payment_plan['Month'] == 'Aug']\n",
    "\n",
    "# Groupig by Payment Plan Name and calculating the total price\n",
    "sales_by_plan = august_filtered_data.groupby('Payment Plan Name')['Total Top Ups'].sum().sort_values(ascending = False)\n",
    "sales_by_plan"
   ]
  },
  {
   "cell_type": "code",
   "execution_count": 37,
   "id": "05dc81a1",
   "metadata": {},
   "outputs": [
    {
     "name": "stdout",
     "output_type": "stream",
     "text": [
      "Payment Plan with the highest sales in August is: MK 60K (80W Panel) 32\"TV & Fridge v4\n"
     ]
    }
   ],
   "source": [
    "#Payment Plan with the highest sales\n",
    "highest_sales_by_plan = sales_by_plan.idxmax()\n",
    "print(\"Payment Plan with the highest sales in August is:\", highest_sales_by_plan)"
   ]
  },
  {
   "cell_type": "markdown",
   "id": "5bbe3aaa",
   "metadata": {},
   "source": [
    "<b>What is the total revenue generated by each Product Sub Category?</b>"
   ]
  },
  {
   "cell_type": "code",
   "execution_count": 38,
   "id": "690e81c9",
   "metadata": {},
   "outputs": [
    {
     "data": {
      "text/plain": [
       "Product Sub Category\n",
       "M-KOPA 6000             3758800.0\n",
       "M-KOPA 600              2111200.0\n",
       "M-KOPA +500             1662626.0\n",
       "M-KOPA +600             1527200.0\n",
       "M-KOPA 400              1508150.0\n",
       "M-KOPA +6000            1425000.0\n",
       "M-KOPA +TV              1215500.0\n",
       "M-KOPA Fridge 100L      1188500.0\n",
       "M-KOPA +Fridge 100L     1111500.0\n",
       "M-KOPA 6000 Zuku        1082900.0\n",
       "M-KOPA 400 Zuku          980925.0\n",
       "M-KOPA +400              911500.0\n",
       "M-KOPA +600 Zuku         757200.0\n",
       "M-KOPA 600 Zuku          707550.0\n",
       "M-KOPA 500               657450.0\n",
       "M-KOPA +6000 Zuku        606000.0\n",
       "M-KOPA +500 Zuku         562500.0\n",
       "M-KOPA 60000             525000.0\n",
       "M-KOPA +400 Zuku         464451.0\n",
       "M-KOPA 6000 Grid         461001.0\n",
       "M-KOPA 4                 450525.0\n",
       "M-KOPA 6                 368751.0\n",
       "M-KOPA 500 Zuku          330350.0\n",
       "M-KOPA +Fridge 47L       290000.0\n",
       "M-KOPA 5                 245300.0\n",
       "M-KOPA 600 Grid          195500.0\n",
       "M-KOPA Fridge 47L        183000.0\n",
       "M-KOPA +6000 Grid        139500.0\n",
       "M-KOPA 4 Starter         135400.0\n",
       "M-KOPA 3 Starter          95900.0\n",
       "M-KOPA 400 Starter        85000.0\n",
       "M-KOPA +6                 66500.0\n",
       "M-KOPA +600 Grid          63000.0\n",
       "Starter Upgrade Pack      40500.0\n",
       "M-KOPA 5 Starter          12400.0\n",
       "M-KOPA Fan                  150.0\n",
       "Name: Total Top Ups, dtype: float64"
      ]
     },
     "execution_count": 38,
     "metadata": {},
     "output_type": "execute_result"
    }
   ],
   "source": [
    "# Group by Product Sub Category and calculate the total revenue\n",
    "revenue_by_subcategory = payment_plan.groupby('Product Sub Category')['Total Top Ups'].sum().sort_values(ascending = False)\n",
    "revenue_by_subcategory"
   ]
  },
  {
   "cell_type": "markdown",
   "id": "ff42f5f4",
   "metadata": {},
   "source": [
    "<b>Which Product Type had the highest average daily top up?</b>"
   ]
  },
  {
   "cell_type": "code",
   "execution_count": 39,
   "id": "127e162d",
   "metadata": {},
   "outputs": [
    {
     "data": {
      "text/plain": [
       "Product Type\n",
       "Fridge                  127.275862\n",
       "Grid TV                 101.500000\n",
       "Solar TV                 97.389535\n",
       "Lights - Refurbished     44.814815\n",
       "Lights                   43.565217\n",
       "Radio and Torch          38.870000\n",
       "Fan                       5.000000\n",
       "Name: Daily Top Up, dtype: float64"
      ]
     },
     "execution_count": 39,
     "metadata": {},
     "output_type": "execute_result"
    }
   ],
   "source": [
    "# Group by Product Type and calculate the average daily top up\n",
    "avg_topup_by_type = payment_plan.groupby('Product Type')['Daily Top Up'].mean().sort_values(ascending = False)\n",
    "avg_topup_by_type"
   ]
  },
  {
   "cell_type": "code",
   "execution_count": 40,
   "id": "c08ced1a",
   "metadata": {},
   "outputs": [
    {
     "name": "stdout",
     "output_type": "stream",
     "text": [
      "Product Type with the highest average daily top up is: Fridge\n"
     ]
    }
   ],
   "source": [
    "# Find the Product Type with the highest average daily top up\n",
    "highest_avg_topup_type = avg_topup_by_type.idxmax()\n",
    "print(\"Product Type with the highest average daily top up is:\", highest_avg_topup_type)"
   ]
  },
  {
   "cell_type": "markdown",
   "id": "c1702d63",
   "metadata": {},
   "source": [
    "<b>How does the sales trend of a particular Model change over time?</b>"
   ]
  },
  {
   "cell_type": "code",
   "execution_count": 41,
   "id": "6c6e6689",
   "metadata": {},
   "outputs": [
    {
     "data": {
      "text/plain": [
       "Model\n",
       "M-KOPA 6000    45\n",
       "M-KOPA 400     38\n",
       "M-KOPA +500    38\n",
       "M-KOPA 600     34\n",
       "M-KOPA 4       29\n",
       "Name: count, dtype: int64"
      ]
     },
     "execution_count": 41,
     "metadata": {},
     "output_type": "execute_result"
    }
   ],
   "source": [
    "#Checking for unique Models available in the Model Column\n",
    "payment_plan['Model'].value_counts().head()"
   ]
  },
  {
   "cell_type": "markdown",
   "id": "f749acb4",
   "metadata": {},
   "source": [
    "<b>Chosing \"M-KOPA 6000\" as my Particular Model</b>"
   ]
  },
  {
   "cell_type": "code",
   "execution_count": 42,
   "id": "a2c3b920",
   "metadata": {},
   "outputs": [
    {
     "data": {
      "image/png": "[encoded data removed]",
      "text/plain": [
       "<Figure size 640x480 with 1 Axes>"
      ]
     },
     "metadata": {},
     "output_type": "display_data"
    }
   ],
   "source": [
    "#Filtering the data for a particular model\n",
    "particular_model = payment_plan[payment_plan['Model'] == 'M-KOPA 6000']\n",
    "\n",
    "# Grouping the data by the 'Created At Date' which is the date column and calculating the sum of total top-ups\n",
    "sales_trend = particular_model.groupby('Created At Date')['Total Top Ups'].sum()\n",
    "\n",
    "# Plot the sales trend\n",
    "sales_trend.plot(kind='line')\n",
    "plt.xlabel('Date')\n",
    "plt.ylabel('Total Sales')\n",
    "plt.title('Sales Trend of M-KOPA 6000 Model')\n",
    "plt.show()"
   ]
  },
  {
   "cell_type": "markdown",
   "id": "6e8e9394",
   "metadata": {},
   "source": [
    "<b> What is the monthly revenue trend for a particular Masterbrand</b>"
   ]
  },
  {
   "cell_type": "code",
   "execution_count": 43,
   "id": "87033294",
   "metadata": {},
   "outputs": [
    {
     "data": {
      "text/plain": [
       "Masterbrand\n",
       "Solar    488\n",
       "Name: count, dtype: int64"
      ]
     },
     "execution_count": 43,
     "metadata": {},
     "output_type": "execute_result"
    }
   ],
   "source": [
    "payment_plan['Masterbrand'].value_counts()"
   ]
  },
  {
   "cell_type": "markdown",
   "id": "12bbac69",
   "metadata": {},
   "source": [
    "We have one master brand \"Solar\""
   ]
  },
  {
   "cell_type": "code",
   "execution_count": 44,
   "id": "28d8d2d0",
   "metadata": {},
   "outputs": [
    {
     "data": {
      "text/plain": [
       "Month\n",
       "Apr    1701200.0\n",
       "Aug    4224501.0\n",
       "Dec     948900.0\n",
       "Feb    2192475.0\n",
       "Jan    1717427.0\n",
       "Jul    3333375.0\n",
       "Jun    2379400.0\n",
       "Mar    2255475.0\n",
       "May    1962575.0\n",
       "Nov    1648300.0\n",
       "Oct    1446001.0\n",
       "Sep    2117100.0\n",
       "Name: Total Top Ups, dtype: float64"
      ]
     },
     "execution_count": 44,
     "metadata": {},
     "output_type": "execute_result"
    }
   ],
   "source": [
    "#Filtering the data for a particular Brand\n",
    "particular_brand = payment_plan[payment_plan['Masterbrand'] == 'Solar']\n",
    "\n",
    "# Grouping the data by the 'Month' column and calculating the sum of total top-ups\n",
    "monthly_revenue_trend = particular_brand.groupby('Month')['Total Top Ups'].sum()\n",
    "monthly_revenue_trend"
   ]
  },
  {
   "cell_type": "code",
   "execution_count": 45,
   "id": "91808253",
   "metadata": {},
   "outputs": [
    {
     "data": {
      "image/png": "[encoded data removed]",
      "text/plain": [
       "<Figure size 640x480 with 1 Axes>"
      ]
     },
     "metadata": {},
     "output_type": "display_data"
    }
   ],
   "source": [
    "# Plot the sales trend\n",
    "monthly_revenue_trend.plot(kind='line')\n",
    "plt.xlabel('Date')\n",
    "plt.ylabel('Total Revenue')\n",
    "plt.title('Monthly Revenue of the Solar Master Brand')\n",
    "plt.show()"
   ]
  },
  {
   "cell_type": "code",
   "execution_count": 46,
   "id": "43641324",
   "metadata": {},
   "outputs": [],
   "source": [
    "# Export the clean DataFrame to Excel for Dashboard Design\n",
    "payment_plan.to_excel('Clean Payment Plan.xlsx', index=False)"
   ]
  }
 ],
 "metadata": {
  "kernelspec": {
   "display_name": "Python 3 (ipykernel)",
   "language": "python",
   "name": "python3"
  },
  "language_info": {
   "codemirror_mode": {
    "name": "ipython",
    "version": 3
   },
   "file_extension": ".py",
   "mimetype": "text/x-python",
   "name": "python",
   "nbconvert_exporter": "python",
   "pygments_lexer": "ipython3",
   "version": "3.9.16"
  }
 },
 "nbformat": 4,
 "nbformat_minor": 5
}
