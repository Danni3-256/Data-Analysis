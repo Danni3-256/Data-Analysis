{
 "cells": [
  {
   "cell_type": "code",
   "execution_count": 1,
   "id": "fa74f7a6",
   "metadata": {},
   "outputs": [],
   "source": [
    "import pandas as pd\n",
    "import numpy as np\n",
    "import seaborn as sns\n",
    "import matplotlib.pyplot as plt"
   ]
  },
  {
   "cell_type": "code",
   "execution_count": 2,
   "id": "b1291939",
   "metadata": {},
   "outputs": [
    {
     "data": {
      "text/html": [
       "<div>\n",
       "<style scoped>\n",
       "    .dataframe tbody tr th:only-of-type {\n",
       "        vertical-align: middle;\n",
       "    }\n",
       "\n",
       "    .dataframe tbody tr th {\n",
       "        vertical-align: top;\n",
       "    }\n",
       "\n",
       "    .dataframe thead th {\n",
       "        text-align: right;\n",
       "    }\n",
       "</style>\n",
       "<table border=\"1\" class=\"dataframe\">\n",
       "  <thead>\n",
       "    <tr style=\"text-align: right;\">\n",
       "      <th></th>\n",
       "      <th>appid</th>\n",
       "      <th>name</th>\n",
       "      <th>release_date</th>\n",
       "      <th>english</th>\n",
       "      <th>developer</th>\n",
       "      <th>publisher</th>\n",
       "      <th>platforms</th>\n",
       "      <th>required_age</th>\n",
       "      <th>categories</th>\n",
       "      <th>genres</th>\n",
       "      <th>steamspy_tags</th>\n",
       "      <th>achievements</th>\n",
       "      <th>positive_ratings</th>\n",
       "      <th>negative_ratings</th>\n",
       "      <th>average_playtime</th>\n",
       "      <th>median_playtime</th>\n",
       "      <th>owners</th>\n",
       "      <th>price</th>\n",
       "    </tr>\n",
       "  </thead>\n",
       "  <tbody>\n",
       "    <tr>\n",
       "      <th>1325</th>\n",
       "      <td>208650</td>\n",
       "      <td>Batman™: Arkham Knight</td>\n",
       "      <td>2015-06-23</td>\n",
       "      <td>1</td>\n",
       "      <td>Rocksteady Studios</td>\n",
       "      <td>Warner Bros. Interactive Entertainment</td>\n",
       "      <td>windows</td>\n",
       "      <td>18</td>\n",
       "      <td>Single-player;Steam Achievements;Full controll...</td>\n",
       "      <td>Action;Adventure</td>\n",
       "      <td>Batman;Action;Open World</td>\n",
       "      <td>113</td>\n",
       "      <td>33121</td>\n",
       "      <td>12981</td>\n",
       "      <td>1266</td>\n",
       "      <td>1296</td>\n",
       "      <td>1000000-2000000</td>\n",
       "      <td>15.99</td>\n",
       "    </tr>\n",
       "    <tr>\n",
       "      <th>23959</th>\n",
       "      <td>913660</td>\n",
       "      <td>Supaplex THINK!</td>\n",
       "      <td>2018-09-18</td>\n",
       "      <td>1</td>\n",
       "      <td>InArcade</td>\n",
       "      <td>InArcade</td>\n",
       "      <td>windows;mac</td>\n",
       "      <td>0</td>\n",
       "      <td>Single-player;Steam Achievements;Full controll...</td>\n",
       "      <td>Action;Casual;Indie</td>\n",
       "      <td>Action;Indie;Casual</td>\n",
       "      <td>5</td>\n",
       "      <td>2</td>\n",
       "      <td>0</td>\n",
       "      <td>0</td>\n",
       "      <td>0</td>\n",
       "      <td>0-20000</td>\n",
       "      <td>7.19</td>\n",
       "    </tr>\n",
       "    <tr>\n",
       "      <th>19627</th>\n",
       "      <td>779560</td>\n",
       "      <td>公主的逃脱日常</td>\n",
       "      <td>2018-03-07</td>\n",
       "      <td>0</td>\n",
       "      <td>Pioneer</td>\n",
       "      <td>Pioneer</td>\n",
       "      <td>windows</td>\n",
       "      <td>0</td>\n",
       "      <td>Single-player</td>\n",
       "      <td>Action;Adventure;Casual;Indie;RPG</td>\n",
       "      <td>Action;Adventure;RPG</td>\n",
       "      <td>0</td>\n",
       "      <td>7</td>\n",
       "      <td>3</td>\n",
       "      <td>0</td>\n",
       "      <td>0</td>\n",
       "      <td>0-20000</td>\n",
       "      <td>0.00</td>\n",
       "    </tr>\n",
       "    <tr>\n",
       "      <th>18574</th>\n",
       "      <td>750010</td>\n",
       "      <td>Combat Tested</td>\n",
       "      <td>2018-03-23</td>\n",
       "      <td>1</td>\n",
       "      <td>Buckethead Entertainment</td>\n",
       "      <td>Buckethead Entertainment</td>\n",
       "      <td>windows</td>\n",
       "      <td>0</td>\n",
       "      <td>Single-player</td>\n",
       "      <td>Violent;Gore;Action</td>\n",
       "      <td>Action;Gore;Violent</td>\n",
       "      <td>0</td>\n",
       "      <td>35</td>\n",
       "      <td>13</td>\n",
       "      <td>0</td>\n",
       "      <td>0</td>\n",
       "      <td>0-20000</td>\n",
       "      <td>15.49</td>\n",
       "    </tr>\n",
       "    <tr>\n",
       "      <th>935</th>\n",
       "      <td>57620</td>\n",
       "      <td>Patrician IV - Steam Special Edition</td>\n",
       "      <td>2010-09-17</td>\n",
       "      <td>1</td>\n",
       "      <td>Gaming Minds Studios</td>\n",
       "      <td>Kalypso Media Digital</td>\n",
       "      <td>windows</td>\n",
       "      <td>0</td>\n",
       "      <td>Single-player</td>\n",
       "      <td>Strategy</td>\n",
       "      <td>Strategy;Trading;Resource Management</td>\n",
       "      <td>0</td>\n",
       "      <td>153</td>\n",
       "      <td>129</td>\n",
       "      <td>0</td>\n",
       "      <td>0</td>\n",
       "      <td>100000-200000</td>\n",
       "      <td>9.99</td>\n",
       "    </tr>\n",
       "  </tbody>\n",
       "</table>\n",
       "</div>"
      ],
      "text/plain": [
       "        appid                                  name release_date  english   \n",
       "1325   208650                Batman™: Arkham Knight   2015-06-23        1  \\\n",
       "23959  913660                       Supaplex THINK!   2018-09-18        1   \n",
       "19627  779560                               公主的逃脱日常   2018-03-07        0   \n",
       "18574  750010                         Combat Tested   2018-03-23        1   \n",
       "935     57620  Patrician IV - Steam Special Edition   2010-09-17        1   \n",
       "\n",
       "                      developer                               publisher   \n",
       "1325         Rocksteady Studios  Warner Bros. Interactive Entertainment  \\\n",
       "23959                  InArcade                                InArcade   \n",
       "19627                   Pioneer                                 Pioneer   \n",
       "18574  Buckethead Entertainment                Buckethead Entertainment   \n",
       "935        Gaming Minds Studios                   Kalypso Media Digital   \n",
       "\n",
       "         platforms  required_age   \n",
       "1325       windows            18  \\\n",
       "23959  windows;mac             0   \n",
       "19627      windows             0   \n",
       "18574      windows             0   \n",
       "935        windows             0   \n",
       "\n",
       "                                              categories   \n",
       "1325   Single-player;Steam Achievements;Full controll...  \\\n",
       "23959  Single-player;Steam Achievements;Full controll...   \n",
       "19627                                      Single-player   \n",
       "18574                                      Single-player   \n",
       "935                                        Single-player   \n",
       "\n",
       "                                  genres   \n",
       "1325                    Action;Adventure  \\\n",
       "23959                Action;Casual;Indie   \n",
       "19627  Action;Adventure;Casual;Indie;RPG   \n",
       "18574                Violent;Gore;Action   \n",
       "935                             Strategy   \n",
       "\n",
       "                              steamspy_tags  achievements  positive_ratings   \n",
       "1325               Batman;Action;Open World           113             33121  \\\n",
       "23959                   Action;Indie;Casual             5                 2   \n",
       "19627                  Action;Adventure;RPG             0                 7   \n",
       "18574                   Action;Gore;Violent             0                35   \n",
       "935    Strategy;Trading;Resource Management             0               153   \n",
       "\n",
       "       negative_ratings  average_playtime  median_playtime           owners   \n",
       "1325              12981              1266             1296  1000000-2000000  \\\n",
       "23959                 0                 0                0          0-20000   \n",
       "19627                 3                 0                0          0-20000   \n",
       "18574                13                 0                0          0-20000   \n",
       "935                 129                 0                0    100000-200000   \n",
       "\n",
       "       price  \n",
       "1325   15.99  \n",
       "23959   7.19  \n",
       "19627   0.00  \n",
       "18574  15.49  \n",
       "935     9.99  "
      ]
     },
     "execution_count": 2,
     "metadata": {},
     "output_type": "execute_result"
    }
   ],
   "source": [
    "df = pd.read_csv('steam.csv')\n",
    "df.sample(5)"
   ]
  },
  {
   "cell_type": "code",
   "execution_count": 3,
   "id": "40baeaf0",
   "metadata": {},
   "outputs": [
    {
     "data": {
      "text/plain": [
       "(27075, 18)"
      ]
     },
     "execution_count": 3,
     "metadata": {},
     "output_type": "execute_result"
    }
   ],
   "source": [
    "df.shape"
   ]
  },
  {
   "cell_type": "code",
   "execution_count": 4,
   "id": "78cfb754",
   "metadata": {},
   "outputs": [
    {
     "name": "stdout",
     "output_type": "stream",
     "text": [
      "<class 'pandas.core.frame.DataFrame'>\n",
      "RangeIndex: 27075 entries, 0 to 27074\n",
      "Data columns (total 18 columns):\n",
      " #   Column            Non-Null Count  Dtype  \n",
      "---  ------            --------------  -----  \n",
      " 0   appid             27075 non-null  int64  \n",
      " 1   name              27075 non-null  object \n",
      " 2   release_date      27075 non-null  object \n",
      " 3   english           27075 non-null  int64  \n",
      " 4   developer         27074 non-null  object \n",
      " 5   publisher         27061 non-null  object \n",
      " 6   platforms         27075 non-null  object \n",
      " 7   required_age      27075 non-null  int64  \n",
      " 8   categories        27075 non-null  object \n",
      " 9   genres            27075 non-null  object \n",
      " 10  steamspy_tags     27075 non-null  object \n",
      " 11  achievements      27075 non-null  int64  \n",
      " 12  positive_ratings  27075 non-null  int64  \n",
      " 13  negative_ratings  27075 non-null  int64  \n",
      " 14  average_playtime  27075 non-null  int64  \n",
      " 15  median_playtime   27075 non-null  int64  \n",
      " 16  owners            27075 non-null  object \n",
      " 17  price             27075 non-null  float64\n",
      "dtypes: float64(1), int64(8), object(9)\n",
      "memory usage: 3.7+ MB\n"
     ]
    }
   ],
   "source": [
    "df.info()"
   ]
  },
  {
   "cell_type": "code",
   "execution_count": 5,
   "id": "d3784d6e",
   "metadata": {},
   "outputs": [
    {
     "data": {
      "text/html": [
       "<div>\n",
       "<style scoped>\n",
       "    .dataframe tbody tr th:only-of-type {\n",
       "        vertical-align: middle;\n",
       "    }\n",
       "\n",
       "    .dataframe tbody tr th {\n",
       "        vertical-align: top;\n",
       "    }\n",
       "\n",
       "    .dataframe thead th {\n",
       "        text-align: right;\n",
       "    }\n",
       "</style>\n",
       "<table border=\"1\" class=\"dataframe\">\n",
       "  <thead>\n",
       "    <tr style=\"text-align: right;\">\n",
       "      <th></th>\n",
       "      <th>appid</th>\n",
       "      <th>english</th>\n",
       "      <th>required_age</th>\n",
       "      <th>achievements</th>\n",
       "      <th>positive_ratings</th>\n",
       "      <th>negative_ratings</th>\n",
       "      <th>average_playtime</th>\n",
       "      <th>median_playtime</th>\n",
       "      <th>price</th>\n",
       "    </tr>\n",
       "  </thead>\n",
       "  <tbody>\n",
       "    <tr>\n",
       "      <th>count</th>\n",
       "      <td>2.707500e+04</td>\n",
       "      <td>27075.000000</td>\n",
       "      <td>27075.000000</td>\n",
       "      <td>27075.000000</td>\n",
       "      <td>2.707500e+04</td>\n",
       "      <td>27075.000000</td>\n",
       "      <td>27075.000000</td>\n",
       "      <td>27075.00000</td>\n",
       "      <td>27075.000000</td>\n",
       "    </tr>\n",
       "    <tr>\n",
       "      <th>mean</th>\n",
       "      <td>5.962035e+05</td>\n",
       "      <td>0.981127</td>\n",
       "      <td>0.354903</td>\n",
       "      <td>45.248864</td>\n",
       "      <td>1.000559e+03</td>\n",
       "      <td>211.027147</td>\n",
       "      <td>149.804949</td>\n",
       "      <td>146.05603</td>\n",
       "      <td>6.078193</td>\n",
       "    </tr>\n",
       "    <tr>\n",
       "      <th>std</th>\n",
       "      <td>2.508942e+05</td>\n",
       "      <td>0.136081</td>\n",
       "      <td>2.406044</td>\n",
       "      <td>352.670281</td>\n",
       "      <td>1.898872e+04</td>\n",
       "      <td>4284.938531</td>\n",
       "      <td>1827.038141</td>\n",
       "      <td>2353.88008</td>\n",
       "      <td>7.874922</td>\n",
       "    </tr>\n",
       "    <tr>\n",
       "      <th>min</th>\n",
       "      <td>1.000000e+01</td>\n",
       "      <td>0.000000</td>\n",
       "      <td>0.000000</td>\n",
       "      <td>0.000000</td>\n",
       "      <td>0.000000e+00</td>\n",
       "      <td>0.000000</td>\n",
       "      <td>0.000000</td>\n",
       "      <td>0.00000</td>\n",
       "      <td>0.000000</td>\n",
       "    </tr>\n",
       "    <tr>\n",
       "      <th>25%</th>\n",
       "      <td>4.012300e+05</td>\n",
       "      <td>1.000000</td>\n",
       "      <td>0.000000</td>\n",
       "      <td>0.000000</td>\n",
       "      <td>6.000000e+00</td>\n",
       "      <td>2.000000</td>\n",
       "      <td>0.000000</td>\n",
       "      <td>0.00000</td>\n",
       "      <td>1.690000</td>\n",
       "    </tr>\n",
       "    <tr>\n",
       "      <th>50%</th>\n",
       "      <td>5.990700e+05</td>\n",
       "      <td>1.000000</td>\n",
       "      <td>0.000000</td>\n",
       "      <td>7.000000</td>\n",
       "      <td>2.400000e+01</td>\n",
       "      <td>9.000000</td>\n",
       "      <td>0.000000</td>\n",
       "      <td>0.00000</td>\n",
       "      <td>3.990000</td>\n",
       "    </tr>\n",
       "    <tr>\n",
       "      <th>75%</th>\n",
       "      <td>7.987600e+05</td>\n",
       "      <td>1.000000</td>\n",
       "      <td>0.000000</td>\n",
       "      <td>23.000000</td>\n",
       "      <td>1.260000e+02</td>\n",
       "      <td>42.000000</td>\n",
       "      <td>0.000000</td>\n",
       "      <td>0.00000</td>\n",
       "      <td>7.190000</td>\n",
       "    </tr>\n",
       "    <tr>\n",
       "      <th>max</th>\n",
       "      <td>1.069460e+06</td>\n",
       "      <td>1.000000</td>\n",
       "      <td>18.000000</td>\n",
       "      <td>9821.000000</td>\n",
       "      <td>2.644404e+06</td>\n",
       "      <td>487076.000000</td>\n",
       "      <td>190625.000000</td>\n",
       "      <td>190625.00000</td>\n",
       "      <td>421.990000</td>\n",
       "    </tr>\n",
       "  </tbody>\n",
       "</table>\n",
       "</div>"
      ],
      "text/plain": [
       "              appid       english  required_age  achievements   \n",
       "count  2.707500e+04  27075.000000  27075.000000  27075.000000  \\\n",
       "mean   5.962035e+05      0.981127      0.354903     45.248864   \n",
       "std    2.508942e+05      0.136081      2.406044    352.670281   \n",
       "min    1.000000e+01      0.000000      0.000000      0.000000   \n",
       "25%    4.012300e+05      1.000000      0.000000      0.000000   \n",
       "50%    5.990700e+05      1.000000      0.000000      7.000000   \n",
       "75%    7.987600e+05      1.000000      0.000000     23.000000   \n",
       "max    1.069460e+06      1.000000     18.000000   9821.000000   \n",
       "\n",
       "       positive_ratings  negative_ratings  average_playtime  median_playtime   \n",
       "count      2.707500e+04      27075.000000      27075.000000      27075.00000  \\\n",
       "mean       1.000559e+03        211.027147        149.804949        146.05603   \n",
       "std        1.898872e+04       4284.938531       1827.038141       2353.88008   \n",
       "min        0.000000e+00          0.000000          0.000000          0.00000   \n",
       "25%        6.000000e+00          2.000000          0.000000          0.00000   \n",
       "50%        2.400000e+01          9.000000          0.000000          0.00000   \n",
       "75%        1.260000e+02         42.000000          0.000000          0.00000   \n",
       "max        2.644404e+06     487076.000000     190625.000000     190625.00000   \n",
       "\n",
       "              price  \n",
       "count  27075.000000  \n",
       "mean       6.078193  \n",
       "std        7.874922  \n",
       "min        0.000000  \n",
       "25%        1.690000  \n",
       "50%        3.990000  \n",
       "75%        7.190000  \n",
       "max      421.990000  "
      ]
     },
     "execution_count": 5,
     "metadata": {},
     "output_type": "execute_result"
    }
   ],
   "source": [
    "df.describe()"
   ]
  },
  {
   "cell_type": "code",
   "execution_count": 6,
   "id": "cf03f2b4",
   "metadata": {},
   "outputs": [
    {
     "data": {
      "text/plain": [
       "appid               27075\n",
       "name                27033\n",
       "release_date         2619\n",
       "english                 2\n",
       "developer           17112\n",
       "publisher           14353\n",
       "platforms               7\n",
       "required_age            6\n",
       "categories           3333\n",
       "genres               1552\n",
       "steamspy_tags        6423\n",
       "achievements          410\n",
       "positive_ratings     2800\n",
       "negative_ratings     1492\n",
       "average_playtime     1345\n",
       "median_playtime      1312\n",
       "owners                 13\n",
       "price                 282\n",
       "dtype: int64"
      ]
     },
     "execution_count": 6,
     "metadata": {},
     "output_type": "execute_result"
    }
   ],
   "source": [
    "df.nunique()"
   ]
  },
  {
   "cell_type": "markdown",
   "id": "dff89c0a",
   "metadata": {},
   "source": [
    "<b>English column</b>"
   ]
  },
  {
   "cell_type": "code",
   "execution_count": 7,
   "id": "187e6913",
   "metadata": {},
   "outputs": [
    {
     "data": {
      "text/plain": [
       "array([1, 0], dtype=int64)"
      ]
     },
     "execution_count": 7,
     "metadata": {},
     "output_type": "execute_result"
    }
   ],
   "source": [
    "df['english'].unique()"
   ]
  },
  {
   "cell_type": "code",
   "execution_count": 8,
   "id": "0dc8a53a",
   "metadata": {},
   "outputs": [
    {
     "data": {
      "text/plain": [
       "english\n",
       "English        26564\n",
       "Non-English      511\n",
       "Name: count, dtype: int64"
      ]
     },
     "execution_count": 8,
     "metadata": {},
     "output_type": "execute_result"
    }
   ],
   "source": [
    "#Assuming 1 - English and 0 - Non-Engish\n",
    "#Lets Replace the values in the 'english' column\n",
    "df['english'] = df['english'].replace({1:'English', 0:'Non-English'})\n",
    "value_counts = df['english'].value_counts()\n",
    "value_counts"
   ]
  },
  {
   "cell_type": "code",
   "execution_count": 9,
   "id": "782cdd79",
   "metadata": {},
   "outputs": [
    {
     "data": {
      "text/plain": [
       "english\n",
       "English        98.11\n",
       "Non-English     1.89\n",
       "Name: proportion, dtype: float64"
      ]
     },
     "execution_count": 9,
     "metadata": {},
     "output_type": "execute_result"
    }
   ],
   "source": [
    "value_countsPercentage = (df['english'].value_counts(normalize = True) * 100).round(2)\n",
    "value_countsPercentage"
   ]
  },
  {
   "cell_type": "markdown",
   "id": "c09261f4",
   "metadata": {},
   "source": [
    "98% of the games support English"
   ]
  },
  {
   "cell_type": "code",
   "execution_count": 10,
   "id": "63d59447",
   "metadata": {},
   "outputs": [
    {
     "data": {
      "image/png": "[encoded data removed]",
      "text/plain": [
       "<Figure size 640x480 with 1 Axes>"
      ]
     },
     "metadata": {},
     "output_type": "display_data"
    }
   ],
   "source": [
    "# Plot a pie chart\n",
    "plt.pie(value_counts.values, labels=value_counts.index)\n",
    "\n",
    "# Add a title to the chart\n",
    "plt.title('English vs Non-English')\n",
    "\n",
    "plt.show()"
   ]
  },
  {
   "cell_type": "markdown",
   "id": "4e8d6cfc",
   "metadata": {},
   "source": [
    "<b>Developer</b>"
   ]
  },
  {
   "cell_type": "code",
   "execution_count": 11,
   "id": "e6765147",
   "metadata": {},
   "outputs": [
    {
     "data": {
      "text/plain": [
       "5226     Frontier Developments\n",
       "9915                  AG media\n",
       "7573            Positech Games\n",
       "14917             Pixel Wonder\n",
       "23465               Shahzeb A.\n",
       "Name: developer, dtype: object"
      ]
     },
     "execution_count": 11,
     "metadata": {},
     "output_type": "execute_result"
    }
   ],
   "source": [
    "df['developer'].sample(5)"
   ]
  },
  {
   "cell_type": "code",
   "execution_count": 12,
   "id": "a148baac",
   "metadata": {},
   "outputs": [
    {
     "data": {
      "text/plain": [
       "developer\n",
       "Choice of Games               94\n",
       "KOEI TECMO GAMES CO., LTD.    72\n",
       "Ripknot Systems               62\n",
       "Laush Dmitriy Sergeevich      51\n",
       "Nikita \"Ghost_RUS\"            50\n",
       "Dexion Games                  45\n",
       "RewindApp                     43\n",
       "Hosted Games                  42\n",
       "Blender Games                 40\n",
       "Humongous Entertainment       36\n",
       "Name: count, dtype: int64"
      ]
     },
     "execution_count": 12,
     "metadata": {},
     "output_type": "execute_result"
    }
   ],
   "source": [
    "top10_developers = df['developer'].value_counts().sort_values(ascending = False).head(10)\n",
    "top10_developers"
   ]
  },
  {
   "cell_type": "code",
   "execution_count": 13,
   "id": "45ab62d7",
   "metadata": {},
   "outputs": [
    {
     "data": {
      "image/png": "[encoded data removed]",
      "text/plain": [
       "<Figure size 640x480 with 1 Axes>"
      ]
     },
     "metadata": {},
     "output_type": "display_data"
    }
   ],
   "source": [
    "top10_developers.plot(kind='barh')\n",
    "\n",
    "# Add a title to the chart\n",
    "plt.title('Top 10 Developers')\n",
    "plt.xlabel('No. of Games')\n",
    "plt.ylabel('Developers')\n",
    "\n",
    "# Show the chart\n",
    "plt.show()"
   ]
  },
  {
   "cell_type": "markdown",
   "id": "eaab907f",
   "metadata": {},
   "source": [
    "<b>Publisher</b>"
   ]
  },
  {
   "cell_type": "code",
   "execution_count": 14,
   "id": "d9f45945",
   "metadata": {},
   "outputs": [
    {
     "data": {
      "text/plain": [
       "2755           BANDAI NAMCO Entertainment\n",
       "10731    Strength in Numbers Studios, Inc\n",
       "25129                  Naviworks Co.,Ltd.\n",
       "21445                    Paradise Project\n",
       "15451             Jonathan Holmes (crait)\n",
       "Name: publisher, dtype: object"
      ]
     },
     "execution_count": 14,
     "metadata": {},
     "output_type": "execute_result"
    }
   ],
   "source": [
    "df['publisher'].sample(5)"
   ]
  },
  {
   "cell_type": "code",
   "execution_count": 15,
   "id": "25c79e54",
   "metadata": {},
   "outputs": [
    {
     "data": {
      "text/plain": [
       "publisher\n",
       "Big Fish Games         212\n",
       "Strategy First         136\n",
       "Ubisoft                111\n",
       "THQ Nordic              98\n",
       "Square Enix             97\n",
       "Sekai Project           96\n",
       "Choice of Games         94\n",
       "Dagestan Technology     88\n",
       "1C Entertainment        88\n",
       "SEGA                    78\n",
       "Name: count, dtype: int64"
      ]
     },
     "execution_count": 15,
     "metadata": {},
     "output_type": "execute_result"
    }
   ],
   "source": [
    "top10publishers = df['publisher'].value_counts().sort_values(ascending = False).head(10)\n",
    "top10publishers"
   ]
  },
  {
   "cell_type": "code",
   "execution_count": 16,
   "id": "576c1439",
   "metadata": {},
   "outputs": [
    {
     "data": {
      "image/png": "[encoded data removed]",
      "text/plain": [
       "<Figure size 640x480 with 1 Axes>"
      ]
     },
     "metadata": {},
     "output_type": "display_data"
    }
   ],
   "source": [
    "top10publishers.plot(kind='barh')\n",
    "\n",
    "# Add a title to the chart\n",
    "plt.title('Top 10 Publishers')\n",
    "plt.xlabel('No. of Games')\n",
    "plt.ylabel('Pusblishers')\n",
    "\n",
    "# Show the chart\n",
    "plt.show()"
   ]
  },
  {
   "cell_type": "markdown",
   "id": "7daad60e",
   "metadata": {},
   "source": [
    "<b>Platform</b>"
   ]
  },
  {
   "cell_type": "code",
   "execution_count": 17,
   "id": "6255f826",
   "metadata": {},
   "outputs": [
    {
     "data": {
      "text/plain": [
       "array(['windows;mac;linux', 'windows;mac', 'windows', 'windows;linux',\n",
       "       'mac', 'mac;linux', 'linux'], dtype=object)"
      ]
     },
     "execution_count": 17,
     "metadata": {},
     "output_type": "execute_result"
    }
   ],
   "source": [
    "df['platforms'].unique()"
   ]
  },
  {
   "cell_type": "code",
   "execution_count": 18,
   "id": "c216e32b",
   "metadata": {},
   "outputs": [
    {
     "data": {
      "text/plain": [
       "platforms\n",
       "windows              67.95\n",
       "windows;mac;linux    17.07\n",
       "windows;mac          12.70\n",
       "windows;linux         2.25\n",
       "mac                   0.01\n",
       "mac;linux             0.00\n",
       "linux                 0.00\n",
       "Name: proportion, dtype: float64"
      ]
     },
     "execution_count": 18,
     "metadata": {},
     "output_type": "execute_result"
    }
   ],
   "source": [
    "(df['platforms'].value_counts(normalize = True) * 100).round(2)"
   ]
  },
  {
   "cell_type": "markdown",
   "id": "88f54c0d",
   "metadata": {},
   "source": [
    "67% of the games support windows platform"
   ]
  },
  {
   "cell_type": "code",
   "execution_count": 19,
   "id": "57369e95",
   "metadata": {},
   "outputs": [
    {
     "data": {
      "text/plain": [
       "<Axes: xlabel='platforms'>"
      ]
     },
     "execution_count": 19,
     "metadata": {},
     "output_type": "execute_result"
    },
    {
     "data": {
      "image/png": "[encoded data removed]",
      "text/plain": [
       "<Figure size 640x480 with 1 Axes>"
      ]
     },
     "metadata": {},
     "output_type": "display_data"
    }
   ],
   "source": [
    "df['platforms'].value_counts().plot(kind = 'bar')"
   ]
  },
  {
   "cell_type": "markdown",
   "id": "47de189e",
   "metadata": {},
   "source": [
    "Individual Occurence of each platform"
   ]
  },
  {
   "cell_type": "code",
   "execution_count": 20,
   "id": "e7f65b42",
   "metadata": {},
   "outputs": [
    {
     "data": {
      "text/plain": [
       "platforms\n",
       "windows    27070\n",
       "mac         8066\n",
       "linux       5235\n",
       "Name: count, dtype: int64"
      ]
     },
     "execution_count": 20,
     "metadata": {},
     "output_type": "execute_result"
    }
   ],
   "source": [
    "platforms = df['platforms'].apply(lambda x: x.split(';')).explode().value_counts()\n",
    "platforms"
   ]
  },
  {
   "cell_type": "code",
   "execution_count": 21,
   "id": "908c96f5",
   "metadata": {},
   "outputs": [
    {
     "data": {
      "text/plain": [
       "platforms\n",
       "windows    67.053083\n",
       "mac        19.979688\n",
       "linux      12.967229\n",
       "Name: proportion, dtype: float64"
      ]
     },
     "execution_count": 21,
     "metadata": {},
     "output_type": "execute_result"
    }
   ],
   "source": [
    "platform_percentage = platforms = df['platforms'].apply(lambda x: x.split(';')).explode().value_counts(normalize = True)*100\n",
    "platform_percentage"
   ]
  },
  {
   "cell_type": "code",
   "execution_count": 22,
   "id": "48110d44",
   "metadata": {},
   "outputs": [
    {
     "data": {
      "text/plain": [
       "<Axes: ylabel='proportion'>"
      ]
     },
     "execution_count": 22,
     "metadata": {},
     "output_type": "execute_result"
    },
    {
     "data": {
      "image/png": "[encoded data removed]",
      "text/plain": [
       "<Figure size 640x480 with 1 Axes>"
      ]
     },
     "metadata": {},
     "output_type": "display_data"
    }
   ],
   "source": [
    "platforms.plot(kind = 'pie')"
   ]
  },
  {
   "cell_type": "markdown",
   "id": "c2dd54a3",
   "metadata": {},
   "source": [
    "<b>Required AGe</b>\n",
    "<br>\n",
    "This column represents minimum required age for each Game"
   ]
  },
  {
   "cell_type": "code",
   "execution_count": 23,
   "id": "8322545a",
   "metadata": {},
   "outputs": [
    {
     "data": {
      "text/plain": [
       "array([ 0, 18, 16, 12,  7,  3], dtype=int64)"
      ]
     },
     "execution_count": 23,
     "metadata": {},
     "output_type": "execute_result"
    }
   ],
   "source": [
    "df['required_age'].unique()"
   ]
  },
  {
   "cell_type": "code",
   "execution_count": 24,
   "id": "63c5bc17",
   "metadata": {},
   "outputs": [
    {
     "data": {
      "text/plain": [
       "required_age\n",
       "0     26479\n",
       "18      308\n",
       "16      192\n",
       "12       73\n",
       "7        12\n",
       "3        11\n",
       "Name: count, dtype: int64"
      ]
     },
     "execution_count": 24,
     "metadata": {},
     "output_type": "execute_result"
    }
   ],
   "source": [
    "df['required_age'].value_counts()"
   ]
  },
  {
   "cell_type": "code",
   "execution_count": 25,
   "id": "b9487fa4",
   "metadata": {},
   "outputs": [
    {
     "data": {
      "text/plain": [
       "required_age\n",
       "0     97.80\n",
       "18     1.14\n",
       "16     0.71\n",
       "12     0.27\n",
       "7      0.04\n",
       "3      0.04\n",
       "Name: proportion, dtype: float64"
      ]
     },
     "execution_count": 25,
     "metadata": {},
     "output_type": "execute_result"
    }
   ],
   "source": [
    "percentageAge = (df['required_age'].value_counts(normalize = True) * 100).round(2)\n",
    "percentageAge"
   ]
  },
  {
   "cell_type": "markdown",
   "id": "cc683891",
   "metadata": {},
   "source": [
    "97% of the games have no minimum age requirement"
   ]
  },
  {
   "cell_type": "code",
   "execution_count": 26,
   "id": "787bbcaf",
   "metadata": {},
   "outputs": [
    {
     "data": {
      "text/plain": [
       "15961    Single-player;Steam Achievements;Full controll...\n",
       "21345    Single-player;Captions available;Partial Contr...\n",
       "20163                     Single-player;Steam Achievements\n",
       "16126                                        Single-player\n",
       "18991                                        Single-player\n",
       "Name: categories, dtype: object"
      ]
     },
     "execution_count": 26,
     "metadata": {},
     "output_type": "execute_result"
    }
   ],
   "source": [
    "df['categories'].sample(5)"
   ]
  },
  {
   "cell_type": "code",
   "execution_count": 27,
   "id": "3eb8c7b3",
   "metadata": {},
   "outputs": [
    {
     "data": {
      "text/plain": [
       "3333"
      ]
     },
     "execution_count": 27,
     "metadata": {},
     "output_type": "execute_result"
    }
   ],
   "source": [
    "df['categories'].nunique()"
   ]
  },
  {
   "cell_type": "code",
   "execution_count": 28,
   "id": "37c46cec",
   "metadata": {},
   "outputs": [
    {
     "data": {
      "text/plain": [
       "categories\n",
       "Single-player                 25678\n",
       "Steam Achievements            14130\n",
       "Steam Trading Cards            7918\n",
       "Steam Cloud                    7219\n",
       "Full controller support        5695\n",
       "Partial Controller Support     4234\n",
       "Multi-player                   3974\n",
       "Steam Leaderboards             3439\n",
       "Online Multi-Player            2487\n",
       "Shared/Split Screen            2152\n",
       "Stats                          1878\n",
       "Co-op                          1721\n",
       "Local Multi-Player             1615\n",
       "Cross-Platform Multiplayer     1081\n",
       "Online Co-op                   1071\n",
       "Local Co-op                    1059\n",
       "Includes level editor          1036\n",
       "Steam Workshop                  897\n",
       "Captions available              721\n",
       "In-App Purchases                690\n",
       "MMO                             421\n",
       "VR Support                      231\n",
       "Commentary available            144\n",
       "Valve Anti-Cheat enabled         94\n",
       "Steam Turn Notifications         63\n",
       "SteamVR Collectibles             40\n",
       "Includes Source SDK              35\n",
       "Mods                              2\n",
       "Mods (require HL2)                1\n",
       "Name: count, dtype: int64"
      ]
     },
     "execution_count": 28,
     "metadata": {},
     "output_type": "execute_result"
    }
   ],
   "source": [
    "categories = df['categories'].apply(lambda x: x.split(';')).explode().value_counts()\n",
    "categories"
   ]
  },
  {
   "cell_type": "code",
   "execution_count": 29,
   "id": "97d84c21",
   "metadata": {},
   "outputs": [
    {
     "data": {
      "text/plain": [
       "categories\n",
       "Single-player                 28.62\n",
       "Steam Achievements            15.75\n",
       "Steam Trading Cards            8.82\n",
       "Steam Cloud                    8.05\n",
       "Full controller support        6.35\n",
       "Partial Controller Support     4.72\n",
       "Multi-player                   4.43\n",
       "Steam Leaderboards             3.83\n",
       "Online Multi-Player            2.77\n",
       "Shared/Split Screen            2.40\n",
       "Stats                          2.09\n",
       "Co-op                          1.92\n",
       "Local Multi-Player             1.80\n",
       "Cross-Platform Multiplayer     1.20\n",
       "Online Co-op                   1.19\n",
       "Local Co-op                    1.18\n",
       "Includes level editor          1.15\n",
       "Steam Workshop                 1.00\n",
       "Captions available             0.80\n",
       "In-App Purchases               0.77\n",
       "MMO                            0.47\n",
       "VR Support                     0.26\n",
       "Commentary available           0.16\n",
       "Valve Anti-Cheat enabled       0.10\n",
       "Steam Turn Notifications       0.07\n",
       "SteamVR Collectibles           0.04\n",
       "Includes Source SDK            0.04\n",
       "Mods                           0.00\n",
       "Mods (require HL2)             0.00\n",
       "Name: proportion, dtype: float64"
      ]
     },
     "execution_count": 29,
     "metadata": {},
     "output_type": "execute_result"
    }
   ],
   "source": [
    "percentage_categories = (df['categories'].apply(lambda x: x.split(';')).explode().value_counts(normalize = True) * 100).round(2)\n",
    "percentage_categories"
   ]
  },
  {
   "cell_type": "code",
   "execution_count": 30,
   "id": "034a26f8",
   "metadata": {},
   "outputs": [
    {
     "data": {
      "text/plain": [
       "<Axes: xlabel='categories'>"
      ]
     },
     "execution_count": 30,
     "metadata": {},
     "output_type": "execute_result"
    },
    {
     "data": {
      "image/png": "[encoded data removed]",
      "text/plain": [
       "<Figure size 640x480 with 1 Axes>"
      ]
     },
     "metadata": {},
     "output_type": "display_data"
    }
   ],
   "source": [
    "categories.plot(kind = 'bar')"
   ]
  },
  {
   "cell_type": "markdown",
   "id": "81c2a08b",
   "metadata": {},
   "source": [
    "Most games support single player mode with over 28%"
   ]
  },
  {
   "cell_type": "markdown",
   "id": "09c2daba",
   "metadata": {},
   "source": [
    "<b>Multi - Player Availability</b>"
   ]
  },
  {
   "cell_type": "code",
   "execution_count": 31,
   "id": "ec258a08",
   "metadata": {},
   "outputs": [],
   "source": [
    "# Replace \"Multi-player\" with \"Multiplayer\" in the categories column\n",
    "df['categories'] = df['categories'].str.replace('Multi-player', 'Multiplayer')"
   ]
  },
  {
   "cell_type": "code",
   "execution_count": 32,
   "id": "5bbc63dd",
   "metadata": {},
   "outputs": [
    {
     "data": {
      "text/plain": [
       "categories\n",
       "True     22881\n",
       "False     4194\n",
       "Name: count, dtype: int64"
      ]
     },
     "execution_count": 32,
     "metadata": {},
     "output_type": "execute_result"
    }
   ],
   "source": [
    "#Apply Method\n",
    "multiplayer_mode1 = df['categories'].apply(lambda x: \"Multiplayer\" not in x).value_counts()\n",
    "multiplayer_mode1"
   ]
  },
  {
   "cell_type": "code",
   "execution_count": 33,
   "id": "4ac0d3fa",
   "metadata": {},
   "outputs": [
    {
     "data": {
      "text/plain": [
       "categories\n",
       "False    84.51\n",
       "True     15.49\n",
       "Name: proportion, dtype: float64"
      ]
     },
     "execution_count": 33,
     "metadata": {},
     "output_type": "execute_result"
    }
   ],
   "source": [
    "# Using pandas method\n",
    "multiplayer_mode2 = (df['categories'].str.contains('Multiplayer').value_counts(normalize = True)*100).round(2)\n",
    "multiplayer_mode2"
   ]
  },
  {
   "cell_type": "code",
   "execution_count": 34,
   "id": "6fd09399",
   "metadata": {},
   "outputs": [
    {
     "data": {
      "image/png": "[encoded data removed]",
      "text/plain": [
       "<Figure size 640x480 with 1 Axes>"
      ]
     },
     "metadata": {},
     "output_type": "display_data"
    }
   ],
   "source": [
    "# Plot a pie chart\n",
    "plt.pie(multiplayer_mode2.values, labels=multiplayer_mode2.index)\n",
    "\n",
    "# Add a title to the chart\n",
    "plt.title('Multiplayer vs Non-Multiplayer')\n",
    "\n",
    "plt.show()"
   ]
  },
  {
   "cell_type": "markdown",
   "id": "522f34e0",
   "metadata": {},
   "source": [
    "84% of the games do not support multiplayer game mode"
   ]
  },
  {
   "cell_type": "markdown",
   "id": "297ade3f",
   "metadata": {},
   "source": [
    "<b>Genre</b>"
   ]
  },
  {
   "cell_type": "code",
   "execution_count": 35,
   "id": "13a59617",
   "metadata": {},
   "outputs": [
    {
     "data": {
      "text/plain": [
       "6474     Adventure;Indie;Strategy;Early Access\n",
       "22796                      Action;Casual;Indie\n",
       "1319                       Simulation;Strategy\n",
       "1277                                    Action\n",
       "2284                    Action;Adventure;Indie\n",
       "Name: genres, dtype: object"
      ]
     },
     "execution_count": 35,
     "metadata": {},
     "output_type": "execute_result"
    }
   ],
   "source": [
    "df['genres'].sample(5)"
   ]
  },
  {
   "cell_type": "code",
   "execution_count": 36,
   "id": "237e1179",
   "metadata": {},
   "outputs": [
    {
     "data": {
      "text/plain": [
       "1552"
      ]
     },
     "execution_count": 36,
     "metadata": {},
     "output_type": "execute_result"
    }
   ],
   "source": [
    "df['genres'].nunique()"
   ]
  },
  {
   "cell_type": "code",
   "execution_count": 37,
   "id": "682a0a45",
   "metadata": {},
   "outputs": [
    {
     "data": {
      "text/plain": [
       "genres\n",
       "Action;Indie              1852\n",
       "Casual;Indie              1482\n",
       "Action;Adventure;Indie    1229\n",
       "Adventure;Indie           1170\n",
       "Action;Casual;Indie       1004\n",
       "Action                     843\n",
       "Adventure;Casual;Indie     801\n",
       "Indie                      759\n",
       "Casual                     560\n",
       "Adventure                  535\n",
       "Name: count, dtype: int64"
      ]
     },
     "execution_count": 37,
     "metadata": {},
     "output_type": "execute_result"
    }
   ],
   "source": [
    "df['genres'].value_counts().head(10)"
   ]
  },
  {
   "cell_type": "code",
   "execution_count": 38,
   "id": "e8b58600",
   "metadata": {},
   "outputs": [
    {
     "data": {
      "text/plain": [
       "genres\n",
       "Indie                    19421\n",
       "Action                   11903\n",
       "Casual                   10210\n",
       "Adventure                10032\n",
       "Strategy                  5247\n",
       "Simulation                5194\n",
       "RPG                       4311\n",
       "Early Access              2954\n",
       "Free to Play              1704\n",
       "Sports                    1322\n",
       "Racing                    1024\n",
       "Violent                    843\n",
       "Massively Multiplayer      723\n",
       "Gore                       537\n",
       "Nudity                     266\n",
       "Sexual Content             245\n",
       "Utilities                  146\n",
       "Design & Illustration       87\n",
       "Animation & Modeling        79\n",
       "Education                   51\n",
       "Video Production            38\n",
       "Software Training           31\n",
       "Audio Production            29\n",
       "Web Publishing              28\n",
       "Game Development            17\n",
       "Photo Editing               12\n",
       "Accounting                   6\n",
       "Documentary                  1\n",
       "Tutorial                     1\n",
       "Name: count, dtype: int64"
      ]
     },
     "execution_count": 38,
     "metadata": {},
     "output_type": "execute_result"
    }
   ],
   "source": [
    "genres = df['genres'].apply(lambda x: x.split(';')).explode().value_counts()\n",
    "genres"
   ]
  },
  {
   "cell_type": "code",
   "execution_count": 39,
   "id": "c36fdcbc",
   "metadata": {},
   "outputs": [
    {
     "data": {
      "text/plain": [
       "<Axes: ylabel='genres'>"
      ]
     },
     "execution_count": 39,
     "metadata": {},
     "output_type": "execute_result"
    },
    {
     "data": {
      "image/png": "[encoded data removed]",
      "text/plain": [
       "<Figure size 640x480 with 1 Axes>"
      ]
     },
     "metadata": {},
     "output_type": "display_data"
    }
   ],
   "source": [
    "genres.plot(kind = 'barh')"
   ]
  },
  {
   "cell_type": "code",
   "execution_count": 40,
   "id": "15cfa24e",
   "metadata": {},
   "outputs": [
    {
     "data": {
      "text/plain": [
       "19417         Early Access;Strategy;FPS\n",
       "19274     Free to Play;Action;Adventure\n",
       "21236    Adventure;Casual;Hidden Object\n",
       "6005            Indie;Platformer;Puzzle\n",
       "5918             Adventure;Indie;Action\n",
       "Name: steamspy_tags, dtype: object"
      ]
     },
     "execution_count": 40,
     "metadata": {},
     "output_type": "execute_result"
    }
   ],
   "source": [
    "df['steamspy_tags'].sample(5)"
   ]
  },
  {
   "cell_type": "code",
   "execution_count": 41,
   "id": "7f7036de",
   "metadata": {},
   "outputs": [
    {
     "data": {
      "text/plain": [
       "6423"
      ]
     },
     "execution_count": 41,
     "metadata": {},
     "output_type": "execute_result"
    }
   ],
   "source": [
    "df['steamspy_tags'].nunique(5)"
   ]
  },
  {
   "cell_type": "code",
   "execution_count": 42,
   "id": "b6cf52d7",
   "metadata": {},
   "outputs": [
    {
     "data": {
      "text/plain": [
       "steamspy_tags\n",
       "Action;Indie;Casual               845\n",
       "Action;Adventure;Indie            714\n",
       "Early Access;Action;Indie         507\n",
       "Adventure;Indie;Casual            442\n",
       "Indie;Casual                      378\n",
       "Action;Indie;Adventure            328\n",
       "Action;Indie                      290\n",
       "Adventure;Casual;Hidden Object    244\n",
       "Indie;Casual;Puzzle               236\n",
       "Indie;Casual;Simulation           229\n",
       "Name: count, dtype: int64"
      ]
     },
     "execution_count": 42,
     "metadata": {},
     "output_type": "execute_result"
    }
   ],
   "source": [
    "df['steamspy_tags'].value_counts().head(10)"
   ]
  },
  {
   "cell_type": "code",
   "execution_count": 43,
   "id": "9eced0a7",
   "metadata": {},
   "outputs": [
    {
     "data": {
      "text/plain": [
       "steamspy_tags\n",
       "Indie             16232\n",
       "Action            10322\n",
       "Casual             8205\n",
       "Adventure          7770\n",
       "Strategy           4173\n",
       "Simulation         3284\n",
       "Early Access       2967\n",
       "RPG                2785\n",
       "Free to Play       1662\n",
       "Puzzle             1116\n",
       "VR                  961\n",
       "Sports              781\n",
       "Racing              765\n",
       "Platformer          648\n",
       "Nudity              570\n",
       "Sexual Content      557\n",
       "Visual Novel        546\n",
       "Violent             545\n",
       "Anime               538\n",
       "Horror              493\n",
       "Name: count, dtype: int64"
      ]
     },
     "execution_count": 43,
     "metadata": {},
     "output_type": "execute_result"
    }
   ],
   "source": [
    "steamspy_tags = df['steamspy_tags'].apply(lambda x: x.split(';')).explode().value_counts().head(20)\n",
    "steamspy_tags"
   ]
  },
  {
   "cell_type": "code",
   "execution_count": 44,
   "id": "46bbcb8a",
   "metadata": {},
   "outputs": [
    {
     "data": {
      "text/plain": [
       "<Axes: ylabel='steamspy_tags'>"
      ]
     },
     "execution_count": 44,
     "metadata": {},
     "output_type": "execute_result"
    },
    {
     "data": {
      "image/png": "[encoded data removed]",
      "text/plain": [
       "<Figure size 640x480 with 1 Axes>"
      ]
     },
     "metadata": {},
     "output_type": "display_data"
    }
   ],
   "source": [
    "steamspy_tags.plot(kind = 'barh')"
   ]
  },
  {
   "cell_type": "markdown",
   "id": "e95358f5",
   "metadata": {},
   "source": [
    "<b>Ratings</b>"
   ]
  },
  {
   "cell_type": "code",
   "execution_count": 45,
   "id": "6852f401",
   "metadata": {},
   "outputs": [
    {
     "data": {
      "text/plain": [
       "9162     17\n",
       "13555     4\n",
       "21310     4\n",
       "26307     1\n",
       "17135    24\n",
       "Name: positive_ratings, dtype: int64"
      ]
     },
     "execution_count": 45,
     "metadata": {},
     "output_type": "execute_result"
    }
   ],
   "source": [
    "df['positive_ratings'].sample(5)"
   ]
  },
  {
   "cell_type": "code",
   "execution_count": 46,
   "id": "021b5052",
   "metadata": {},
   "outputs": [
    {
     "data": {
      "text/html": [
       "<div>\n",
       "<style scoped>\n",
       "    .dataframe tbody tr th:only-of-type {\n",
       "        vertical-align: middle;\n",
       "    }\n",
       "\n",
       "    .dataframe tbody tr th {\n",
       "        vertical-align: top;\n",
       "    }\n",
       "\n",
       "    .dataframe thead th {\n",
       "        text-align: right;\n",
       "    }\n",
       "</style>\n",
       "<table border=\"1\" class=\"dataframe\">\n",
       "  <thead>\n",
       "    <tr style=\"text-align: right;\">\n",
       "      <th></th>\n",
       "      <th>name</th>\n",
       "      <th>positive_ratings</th>\n",
       "    </tr>\n",
       "  </thead>\n",
       "  <tbody>\n",
       "    <tr>\n",
       "      <th>25</th>\n",
       "      <td>Counter-Strike: Global Offensive</td>\n",
       "      <td>2644404</td>\n",
       "    </tr>\n",
       "    <tr>\n",
       "      <th>22</th>\n",
       "      <td>Dota 2</td>\n",
       "      <td>863507</td>\n",
       "    </tr>\n",
       "    <tr>\n",
       "      <th>19</th>\n",
       "      <td>Team Fortress 2</td>\n",
       "      <td>515879</td>\n",
       "    </tr>\n",
       "    <tr>\n",
       "      <th>12836</th>\n",
       "      <td>PLAYERUNKNOWN'S BATTLEGROUNDS</td>\n",
       "      <td>496184</td>\n",
       "    </tr>\n",
       "    <tr>\n",
       "      <th>121</th>\n",
       "      <td>Garry's Mod</td>\n",
       "      <td>363721</td>\n",
       "    </tr>\n",
       "    <tr>\n",
       "      <th>2478</th>\n",
       "      <td>Grand Theft Auto V</td>\n",
       "      <td>329061</td>\n",
       "    </tr>\n",
       "    <tr>\n",
       "      <th>1467</th>\n",
       "      <td>PAYDAY 2</td>\n",
       "      <td>308657</td>\n",
       "    </tr>\n",
       "    <tr>\n",
       "      <th>3362</th>\n",
       "      <td>Unturned</td>\n",
       "      <td>292574</td>\n",
       "    </tr>\n",
       "    <tr>\n",
       "      <th>1120</th>\n",
       "      <td>Terraria</td>\n",
       "      <td>255600</td>\n",
       "    </tr>\n",
       "    <tr>\n",
       "      <th>21</th>\n",
       "      <td>Left 4 Dead 2</td>\n",
       "      <td>251789</td>\n",
       "    </tr>\n",
       "  </tbody>\n",
       "</table>\n",
       "</div>"
      ],
      "text/plain": [
       "                                   name  positive_ratings\n",
       "25     Counter-Strike: Global Offensive           2644404\n",
       "22                               Dota 2            863507\n",
       "19                      Team Fortress 2            515879\n",
       "12836     PLAYERUNKNOWN'S BATTLEGROUNDS            496184\n",
       "121                         Garry's Mod            363721\n",
       "2478                 Grand Theft Auto V            329061\n",
       "1467                           PAYDAY 2            308657\n",
       "3362                           Unturned            292574\n",
       "1120                           Terraria            255600\n",
       "21                        Left 4 Dead 2            251789"
      ]
     },
     "execution_count": 46,
     "metadata": {},
     "output_type": "execute_result"
    }
   ],
   "source": [
    "#Top 10 Games with the most positive ratings\n",
    "top_ratings = df.sort_values(by='positive_ratings', ascending=False).head(10)[['name', 'positive_ratings']]\n",
    "top_ratings"
   ]
  },
  {
   "cell_type": "code",
   "execution_count": 47,
   "id": "f7955b02",
   "metadata": {},
   "outputs": [
    {
     "data": {
      "text/html": [
       "<div>\n",
       "<style scoped>\n",
       "    .dataframe tbody tr th:only-of-type {\n",
       "        vertical-align: middle;\n",
       "    }\n",
       "\n",
       "    .dataframe tbody tr th {\n",
       "        vertical-align: top;\n",
       "    }\n",
       "\n",
       "    .dataframe thead th {\n",
       "        text-align: right;\n",
       "    }\n",
       "</style>\n",
       "<table border=\"1\" class=\"dataframe\">\n",
       "  <thead>\n",
       "    <tr style=\"text-align: right;\">\n",
       "      <th></th>\n",
       "      <th>name</th>\n",
       "      <th>negative_ratings</th>\n",
       "    </tr>\n",
       "  </thead>\n",
       "  <tbody>\n",
       "    <tr>\n",
       "      <th>12836</th>\n",
       "      <td>PLAYERUNKNOWN'S BATTLEGROUNDS</td>\n",
       "      <td>487076</td>\n",
       "    </tr>\n",
       "    <tr>\n",
       "      <th>25</th>\n",
       "      <td>Counter-Strike: Global Offensive</td>\n",
       "      <td>402313</td>\n",
       "    </tr>\n",
       "    <tr>\n",
       "      <th>22</th>\n",
       "      <td>Dota 2</td>\n",
       "      <td>142079</td>\n",
       "    </tr>\n",
       "    <tr>\n",
       "      <th>2478</th>\n",
       "      <td>Grand Theft Auto V</td>\n",
       "      <td>139308</td>\n",
       "    </tr>\n",
       "    <tr>\n",
       "      <th>7809</th>\n",
       "      <td>Z1 Battle Royale</td>\n",
       "      <td>91664</td>\n",
       "    </tr>\n",
       "    <tr>\n",
       "      <th>1506</th>\n",
       "      <td>DayZ</td>\n",
       "      <td>77169</td>\n",
       "    </tr>\n",
       "    <tr>\n",
       "      <th>4712</th>\n",
       "      <td>ARK: Survival Evolved</td>\n",
       "      <td>66603</td>\n",
       "    </tr>\n",
       "    <tr>\n",
       "      <th>5235</th>\n",
       "      <td>Tom Clancy's Rainbow Six® Siege</td>\n",
       "      <td>59620</td>\n",
       "    </tr>\n",
       "    <tr>\n",
       "      <th>1467</th>\n",
       "      <td>PAYDAY 2</td>\n",
       "      <td>56523</td>\n",
       "    </tr>\n",
       "    <tr>\n",
       "      <th>2563</th>\n",
       "      <td>No Man's Sky</td>\n",
       "      <td>56488</td>\n",
       "    </tr>\n",
       "  </tbody>\n",
       "</table>\n",
       "</div>"
      ],
      "text/plain": [
       "                                   name  negative_ratings\n",
       "12836     PLAYERUNKNOWN'S BATTLEGROUNDS            487076\n",
       "25     Counter-Strike: Global Offensive            402313\n",
       "22                               Dota 2            142079\n",
       "2478                 Grand Theft Auto V            139308\n",
       "7809                   Z1 Battle Royale             91664\n",
       "1506                               DayZ             77169\n",
       "4712              ARK: Survival Evolved             66603\n",
       "5235    Tom Clancy's Rainbow Six® Siege             59620\n",
       "1467                           PAYDAY 2             56523\n",
       "2563                       No Man's Sky             56488"
      ]
     },
     "execution_count": 47,
     "metadata": {},
     "output_type": "execute_result"
    }
   ],
   "source": [
    "#Top 10 games with the most negative ratings\n",
    "worst_ratings = df.sort_values(by='negative_ratings', ascending = False).head(10)[['name','negative_ratings']]\n",
    "worst_ratings"
   ]
  },
  {
   "cell_type": "markdown",
   "id": "3a5158e0",
   "metadata": {},
   "source": [
    "<b>Dealing with the Owner's column</b>"
   ]
  },
  {
   "cell_type": "code",
   "execution_count": 48,
   "id": "c7b8641a",
   "metadata": {},
   "outputs": [
    {
     "data": {
      "text/plain": [
       "2642     200000-500000\n",
       "10662          0-20000\n",
       "10598          0-20000\n",
       "9996           0-20000\n",
       "6705       20000-50000\n",
       "Name: owners, dtype: object"
      ]
     },
     "execution_count": 48,
     "metadata": {},
     "output_type": "execute_result"
    }
   ],
   "source": [
    "df['owners'].sample(5)"
   ]
  },
  {
   "cell_type": "code",
   "execution_count": 49,
   "id": "5f6d5e47",
   "metadata": {},
   "outputs": [
    {
     "data": {
      "text/plain": [
       "array(['10000000-20000000', '5000000-10000000', '2000000-5000000',\n",
       "       '20000000-50000000', '100000000-200000000', '50000000-100000000',\n",
       "       '20000-50000', '500000-1000000', '100000-200000', '50000-100000',\n",
       "       '1000000-2000000', '200000-500000', '0-20000'], dtype=object)"
      ]
     },
     "execution_count": 49,
     "metadata": {},
     "output_type": "execute_result"
    }
   ],
   "source": [
    "df['owners'].unique()"
   ]
  },
  {
   "cell_type": "code",
   "execution_count": 50,
   "id": "f126a0de",
   "metadata": {},
   "outputs": [
    {
     "data": {
      "text/plain": [
       "0        15000000.0\n",
       "1         7500000.0\n",
       "2         7500000.0\n",
       "3         7500000.0\n",
       "4         7500000.0\n",
       "            ...    \n",
       "27070       10000.0\n",
       "27071       10000.0\n",
       "27072       10000.0\n",
       "27073       10000.0\n",
       "27074       10000.0\n",
       "Name: owners, Length: 27075, dtype: float64"
      ]
     },
     "execution_count": 50,
     "metadata": {},
     "output_type": "execute_result"
    }
   ],
   "source": [
    "#Extracting Median Value from the Ranges in the column\n",
    "df['owners'] = df['owners'].str.replace(',', '').str.replace('+', '').str.split('-').apply(lambda x: (int(x[0])+int(x[1]))/2)\n",
    "df['owners']"
   ]
  },
  {
   "cell_type": "code",
   "execution_count": 51,
   "id": "04516fcd",
   "metadata": {},
   "outputs": [
    {
     "data": {
      "text/html": [
       "<div>\n",
       "<style scoped>\n",
       "    .dataframe tbody tr th:only-of-type {\n",
       "        vertical-align: middle;\n",
       "    }\n",
       "\n",
       "    .dataframe tbody tr th {\n",
       "        vertical-align: top;\n",
       "    }\n",
       "\n",
       "    .dataframe thead th {\n",
       "        text-align: right;\n",
       "    }\n",
       "</style>\n",
       "<table border=\"1\" class=\"dataframe\">\n",
       "  <thead>\n",
       "    <tr style=\"text-align: right;\">\n",
       "      <th></th>\n",
       "      <th>name</th>\n",
       "      <th>owners</th>\n",
       "    </tr>\n",
       "  </thead>\n",
       "  <tbody>\n",
       "    <tr>\n",
       "      <th>22</th>\n",
       "      <td>Dota 2</td>\n",
       "      <td>150000000.0</td>\n",
       "    </tr>\n",
       "    <tr>\n",
       "      <th>25</th>\n",
       "      <td>Counter-Strike: Global Offensive</td>\n",
       "      <td>75000000.0</td>\n",
       "    </tr>\n",
       "    <tr>\n",
       "      <th>12836</th>\n",
       "      <td>PLAYERUNKNOWN'S BATTLEGROUNDS</td>\n",
       "      <td>75000000.0</td>\n",
       "    </tr>\n",
       "    <tr>\n",
       "      <th>19</th>\n",
       "      <td>Team Fortress 2</td>\n",
       "      <td>35000000.0</td>\n",
       "    </tr>\n",
       "    <tr>\n",
       "      <th>3362</th>\n",
       "      <td>Unturned</td>\n",
       "      <td>35000000.0</td>\n",
       "    </tr>\n",
       "    <tr>\n",
       "      <th>1634</th>\n",
       "      <td>Warframe</td>\n",
       "      <td>35000000.0</td>\n",
       "    </tr>\n",
       "    <tr>\n",
       "      <th>1727</th>\n",
       "      <td>War Thunder</td>\n",
       "      <td>15000000.0</td>\n",
       "    </tr>\n",
       "    <tr>\n",
       "      <th>23</th>\n",
       "      <td>Portal 2</td>\n",
       "      <td>15000000.0</td>\n",
       "    </tr>\n",
       "    <tr>\n",
       "      <th>1025</th>\n",
       "      <td>The Elder Scrolls V: Skyrim</td>\n",
       "      <td>15000000.0</td>\n",
       "    </tr>\n",
       "    <tr>\n",
       "      <th>1467</th>\n",
       "      <td>PAYDAY 2</td>\n",
       "      <td>15000000.0</td>\n",
       "    </tr>\n",
       "    <tr>\n",
       "      <th>1607</th>\n",
       "      <td>Heroes &amp; Generals</td>\n",
       "      <td>15000000.0</td>\n",
       "    </tr>\n",
       "    <tr>\n",
       "      <th>0</th>\n",
       "      <td>Counter-Strike</td>\n",
       "      <td>15000000.0</td>\n",
       "    </tr>\n",
       "    <tr>\n",
       "      <th>21</th>\n",
       "      <td>Left 4 Dead 2</td>\n",
       "      <td>15000000.0</td>\n",
       "    </tr>\n",
       "    <tr>\n",
       "      <th>7809</th>\n",
       "      <td>Z1 Battle Royale</td>\n",
       "      <td>15000000.0</td>\n",
       "    </tr>\n",
       "    <tr>\n",
       "      <th>2478</th>\n",
       "      <td>Grand Theft Auto V</td>\n",
       "      <td>15000000.0</td>\n",
       "    </tr>\n",
       "    <tr>\n",
       "      <th>2951</th>\n",
       "      <td>Warface</td>\n",
       "      <td>15000000.0</td>\n",
       "    </tr>\n",
       "    <tr>\n",
       "      <th>2952</th>\n",
       "      <td>Brawlhalla</td>\n",
       "      <td>15000000.0</td>\n",
       "    </tr>\n",
       "    <tr>\n",
       "      <th>8129</th>\n",
       "      <td>Paladins®</td>\n",
       "      <td>15000000.0</td>\n",
       "    </tr>\n",
       "    <tr>\n",
       "      <th>3251</th>\n",
       "      <td>Robocraft</td>\n",
       "      <td>15000000.0</td>\n",
       "    </tr>\n",
       "    <tr>\n",
       "      <th>121</th>\n",
       "      <td>Garry's Mod</td>\n",
       "      <td>15000000.0</td>\n",
       "    </tr>\n",
       "  </tbody>\n",
       "</table>\n",
       "</div>"
      ],
      "text/plain": [
       "                                   name       owners\n",
       "22                               Dota 2  150000000.0\n",
       "25     Counter-Strike: Global Offensive   75000000.0\n",
       "12836     PLAYERUNKNOWN'S BATTLEGROUNDS   75000000.0\n",
       "19                      Team Fortress 2   35000000.0\n",
       "3362                           Unturned   35000000.0\n",
       "1634                           Warframe   35000000.0\n",
       "1727                        War Thunder   15000000.0\n",
       "23                             Portal 2   15000000.0\n",
       "1025        The Elder Scrolls V: Skyrim   15000000.0\n",
       "1467                           PAYDAY 2   15000000.0\n",
       "1607                  Heroes & Generals   15000000.0\n",
       "0                        Counter-Strike   15000000.0\n",
       "21                        Left 4 Dead 2   15000000.0\n",
       "7809                   Z1 Battle Royale   15000000.0\n",
       "2478                 Grand Theft Auto V   15000000.0\n",
       "2951                            Warface   15000000.0\n",
       "2952                         Brawlhalla   15000000.0\n",
       "8129                          Paladins®   15000000.0\n",
       "3251                          Robocraft   15000000.0\n",
       "121                         Garry's Mod   15000000.0"
      ]
     },
     "execution_count": 51,
     "metadata": {},
     "output_type": "execute_result"
    }
   ],
   "source": [
    "#Most popular games\n",
    "popular_games = df.sort_values(by = 'owners', ascending = False).head(20)[['name','owners']]\n",
    "popular_games"
   ]
  },
  {
   "cell_type": "markdown",
   "id": "b7753187",
   "metadata": {},
   "source": [
    "Distribution of number of owners"
   ]
  },
  {
   "cell_type": "code",
   "execution_count": 52,
   "id": "886d0c54",
   "metadata": {},
   "outputs": [
    {
     "data": {
      "text/plain": [
       "owners\n",
       "10000.0        18596\n",
       "35000.0         3059\n",
       "75000.0         1695\n",
       "150000.0        1386\n",
       "350000.0        1272\n",
       "750000.0         513\n",
       "1500000.0        288\n",
       "3500000.0        193\n",
       "7500000.0         46\n",
       "15000000.0        21\n",
       "35000000.0         3\n",
       "75000000.0         2\n",
       "150000000.0        1\n",
       "Name: count, dtype: int64"
      ]
     },
     "execution_count": 52,
     "metadata": {},
     "output_type": "execute_result"
    }
   ],
   "source": [
    "owner_counts = df['owners'].value_counts()\n",
    "owner_counts"
   ]
  },
  {
   "cell_type": "code",
   "execution_count": 70,
   "id": "38333571",
   "metadata": {},
   "outputs": [
    {
     "data": {
      "text/plain": [
       "owners\n",
       "10000.0        68.68\n",
       "35000.0        11.30\n",
       "75000.0         6.26\n",
       "150000.0        5.12\n",
       "350000.0        4.70\n",
       "750000.0        1.89\n",
       "1500000.0       1.06\n",
       "3500000.0       0.71\n",
       "7500000.0       0.17\n",
       "15000000.0      0.08\n",
       "35000000.0      0.01\n",
       "75000000.0      0.01\n",
       "150000000.0     0.00\n",
       "Name: proportion, dtype: float64"
      ]
     },
     "execution_count": 70,
     "metadata": {},
     "output_type": "execute_result"
    }
   ],
   "source": [
    "pct_owner_counts = (df['owners'].value_counts(normalize = True)* 100).round(2)\n",
    "pct_owner_counts"
   ]
  },
  {
   "cell_type": "code",
   "execution_count": 53,
   "id": "a2e862dd",
   "metadata": {},
   "outputs": [
    {
     "data": {
      "text/plain": [
       "<Axes: xlabel='owners'>"
      ]
     },
     "execution_count": 53,
     "metadata": {},
     "output_type": "execute_result"
    },
    {
     "data": {
      "image/png": "[encoded data removed]",
      "text/plain": [
       "<Figure size 640x480 with 1 Axes>"
      ]
     },
     "metadata": {},
     "output_type": "display_data"
    }
   ],
   "source": [
    "owner_counts.plot(kind = 'bar')"
   ]
  },
  {
   "cell_type": "code",
   "execution_count": 54,
   "id": "e935e2c4",
   "metadata": {},
   "outputs": [],
   "source": [
    "mask = df.owners.isin(['10000000-20000000', '20000000-50000000', '50000000-100000000', '100000000-200000000'])\n",
    "df.loc[mask, 'owners'] = '10mil and more'"
   ]
  },
  {
   "cell_type": "code",
   "execution_count": 55,
   "id": "ef992ade",
   "metadata": {},
   "outputs": [],
   "source": [
    "df.loc[df.owners == '5000000-10000000', 'owners'] = '5mil-10mil'\n",
    "df.loc[df.owners == '2000000-5000000', 'owners'] = '2mil-5mil'\n",
    "df.loc[df.owners == '1000000-2000000', 'owners'] = '1mil-2mil'\n",
    "df.loc[df.owners == '500000-1000000', 'owners'] = '500k-1mil'\n",
    "df.loc[df.owners == '200000-500000', 'owners'] = '200k-500k'\n",
    "df.loc[df.owners == '100000-200000', 'owners'] = '100k-200k'\n",
    "df.loc[df.owners == '50000-100000', 'owners'] = '50k-100k'\n",
    "df.loc[df.owners == '20000-50000', 'owners'] = '20k-50k'\n",
    "df.loc[df.owners == '0-20000', 'owners'] = '20k or less'"
   ]
  },
  {
   "cell_type": "code",
   "execution_count": 56,
   "id": "1dc54b05",
   "metadata": {},
   "outputs": [
    {
     "data": {
      "image/png": "[encoded data removed]",
      "text/plain": [
       "<Figure size 800x800 with 1 Axes>"
      ]
     },
     "metadata": {},
     "output_type": "display_data"
    }
   ],
   "source": [
    "plt.figure(figsize=(8,8))\n",
    "\n",
    "g = sns.countplot(data=df, y='owners', order=df.owners.value_counts().index)\n",
    "g.set_xscale('log')"
   ]
  },
  {
   "cell_type": "markdown",
   "id": "d164af92",
   "metadata": {},
   "source": [
    "<b>Dealing with the Price column</b>"
   ]
  },
  {
   "cell_type": "code",
   "execution_count": 57,
   "id": "d2c24cde",
   "metadata": {},
   "outputs": [
    {
     "data": {
      "text/plain": [
       "8738     14.99\n",
       "10891     1.99\n",
       "20334    10.29\n",
       "26854     4.79\n",
       "13953     1.59\n",
       "Name: price, dtype: float64"
      ]
     },
     "execution_count": 57,
     "metadata": {},
     "output_type": "execute_result"
    }
   ],
   "source": [
    "df['price'].sample(5)"
   ]
  },
  {
   "cell_type": "markdown",
   "id": "4cf0b443",
   "metadata": {},
   "source": [
    "Games with the Highest and Lowest Prices\n"
   ]
  },
  {
   "cell_type": "code",
   "execution_count": 58,
   "id": "9126b9ff",
   "metadata": {},
   "outputs": [
    {
     "data": {
      "text/html": [
       "<div>\n",
       "<style scoped>\n",
       "    .dataframe tbody tr th:only-of-type {\n",
       "        vertical-align: middle;\n",
       "    }\n",
       "\n",
       "    .dataframe tbody tr th {\n",
       "        vertical-align: top;\n",
       "    }\n",
       "\n",
       "    .dataframe thead th {\n",
       "        text-align: right;\n",
       "    }\n",
       "</style>\n",
       "<table border=\"1\" class=\"dataframe\">\n",
       "  <thead>\n",
       "    <tr style=\"text-align: right;\">\n",
       "      <th></th>\n",
       "      <th>name</th>\n",
       "      <th>price</th>\n",
       "    </tr>\n",
       "  </thead>\n",
       "  <tbody>\n",
       "    <tr>\n",
       "      <th>21105</th>\n",
       "      <td>ADR-Labelling Game</td>\n",
       "      <td>421.99</td>\n",
       "    </tr>\n",
       "    <tr>\n",
       "      <th>13062</th>\n",
       "      <td>GameMaker Studio 2 UWP</td>\n",
       "      <td>303.99</td>\n",
       "    </tr>\n",
       "    <tr>\n",
       "      <th>10034</th>\n",
       "      <td>Houdini Indie</td>\n",
       "      <td>209.99</td>\n",
       "    </tr>\n",
       "    <tr>\n",
       "      <th>14917</th>\n",
       "      <td>CrisisActionVR</td>\n",
       "      <td>154.99</td>\n",
       "    </tr>\n",
       "    <tr>\n",
       "      <th>25568</th>\n",
       "      <td>Bible Test</td>\n",
       "      <td>154.99</td>\n",
       "    </tr>\n",
       "    <tr>\n",
       "      <th>10624</th>\n",
       "      <td>Tactics: Bludgeons Blessing</td>\n",
       "      <td>154.99</td>\n",
       "    </tr>\n",
       "    <tr>\n",
       "      <th>13063</th>\n",
       "      <td>GameMaker Studio 2 Mobile</td>\n",
       "      <td>154.99</td>\n",
       "    </tr>\n",
       "    <tr>\n",
       "      <th>10910</th>\n",
       "      <td>Silhouette</td>\n",
       "      <td>154.99</td>\n",
       "    </tr>\n",
       "    <tr>\n",
       "      <th>7992</th>\n",
       "      <td>3DF Zephyr Lite Steam Edition</td>\n",
       "      <td>154.99</td>\n",
       "    </tr>\n",
       "    <tr>\n",
       "      <th>17126</th>\n",
       "      <td>Tactics 2: War</td>\n",
       "      <td>154.99</td>\n",
       "    </tr>\n",
       "    <tr>\n",
       "      <th>13061</th>\n",
       "      <td>GameMaker Studio 2 Web</td>\n",
       "      <td>114.99</td>\n",
       "    </tr>\n",
       "    <tr>\n",
       "      <th>7696</th>\n",
       "      <td>The Music Room</td>\n",
       "      <td>98.99</td>\n",
       "    </tr>\n",
       "    <tr>\n",
       "      <th>1102</th>\n",
       "      <td>3DCoat 4.8</td>\n",
       "      <td>95.99</td>\n",
       "    </tr>\n",
       "    <tr>\n",
       "      <th>18745</th>\n",
       "      <td>CyberLink PowerDVD 18 Ultra - Media player, vi...</td>\n",
       "      <td>79.99</td>\n",
       "    </tr>\n",
       "    <tr>\n",
       "      <th>1988</th>\n",
       "      <td>Leadwerks Game Engine</td>\n",
       "      <td>78.99</td>\n",
       "    </tr>\n",
       "    <tr>\n",
       "      <th>18503</th>\n",
       "      <td>RealFlight 8</td>\n",
       "      <td>78.99</td>\n",
       "    </tr>\n",
       "    <tr>\n",
       "      <th>12212</th>\n",
       "      <td>Emission VR</td>\n",
       "      <td>75.99</td>\n",
       "    </tr>\n",
       "    <tr>\n",
       "      <th>2049</th>\n",
       "      <td>Aartform Curvy 3D 3.0</td>\n",
       "      <td>75.99</td>\n",
       "    </tr>\n",
       "    <tr>\n",
       "      <th>13053</th>\n",
       "      <td>GameMaker Studio 2 Desktop</td>\n",
       "      <td>75.99</td>\n",
       "    </tr>\n",
       "    <tr>\n",
       "      <th>12517</th>\n",
       "      <td>articy:draft 3</td>\n",
       "      <td>74.99</td>\n",
       "    </tr>\n",
       "  </tbody>\n",
       "</table>\n",
       "</div>"
      ],
      "text/plain": [
       "                                                    name   price\n",
       "21105                                 ADR-Labelling Game  421.99\n",
       "13062                             GameMaker Studio 2 UWP  303.99\n",
       "10034                                      Houdini Indie  209.99\n",
       "14917                                     CrisisActionVR  154.99\n",
       "25568                                         Bible Test  154.99\n",
       "10624                        Tactics: Bludgeons Blessing  154.99\n",
       "13063                          GameMaker Studio 2 Mobile  154.99\n",
       "10910                                         Silhouette  154.99\n",
       "7992                       3DF Zephyr Lite Steam Edition  154.99\n",
       "17126                                     Tactics 2: War  154.99\n",
       "13061                             GameMaker Studio 2 Web  114.99\n",
       "7696                                      The Music Room   98.99\n",
       "1102                                          3DCoat 4.8   95.99\n",
       "18745  CyberLink PowerDVD 18 Ultra - Media player, vi...   79.99\n",
       "1988                               Leadwerks Game Engine   78.99\n",
       "18503                                       RealFlight 8   78.99\n",
       "12212                                        Emission VR   75.99\n",
       "2049                               Aartform Curvy 3D 3.0   75.99\n",
       "13053                         GameMaker Studio 2 Desktop   75.99\n",
       "12517                                     articy:draft 3   74.99"
      ]
     },
     "execution_count": 58,
     "metadata": {},
     "output_type": "execute_result"
    }
   ],
   "source": [
    "game_prices = df.sort_values(by='price', ascending = False).head(20)[['name','price']]\n",
    "game_prices"
   ]
  },
  {
   "cell_type": "code",
   "execution_count": 59,
   "id": "53b02f64",
   "metadata": {},
   "outputs": [
    {
     "name": "stdout",
     "output_type": "stream",
     "text": [
      "Game with the highest price: ADR-Labelling Game\n",
      "Game with the lowest price: Half-Life: Source\n"
     ]
    }
   ],
   "source": [
    "highest_price_game = df.loc[df['price'].idxmax(), 'name']\n",
    "lowest_price_game = df.loc[df['price'].idxmin(), 'name']\n",
    "\n",
    "print('Game with the highest price:', highest_price_game)\n",
    "print('Game with the lowest price:', lowest_price_game)"
   ]
  },
  {
   "cell_type": "code",
   "execution_count": 60,
   "id": "d8cee75b",
   "metadata": {},
   "outputs": [
    {
     "data": {
      "image/png": "[encoded data removed]",
      "text/plain": [
       "<Figure size 640x480 with 1 Axes>"
      ]
     },
     "metadata": {},
     "output_type": "display_data"
    }
   ],
   "source": [
    "#Relationship between Price and Number of owners\n",
    "plt.scatter(df['price'], df['owners'])\n",
    "plt.xlabel('Price')\n",
    "plt.ylabel('Number of owners')\n",
    "plt.show()"
   ]
  },
  {
   "cell_type": "markdown",
   "id": "3acdd993",
   "metadata": {},
   "source": [
    "Average price and the average number of owners for games in different genres and platforms"
   ]
  },
  {
   "cell_type": "code",
   "execution_count": 61,
   "id": "97dc8bfd",
   "metadata": {},
   "outputs": [
    {
     "data": {
      "text/html": [
       "<div>\n",
       "<style scoped>\n",
       "    .dataframe tbody tr th:only-of-type {\n",
       "        vertical-align: middle;\n",
       "    }\n",
       "\n",
       "    .dataframe tbody tr th {\n",
       "        vertical-align: top;\n",
       "    }\n",
       "\n",
       "    .dataframe thead th {\n",
       "        text-align: right;\n",
       "    }\n",
       "</style>\n",
       "<table border=\"1\" class=\"dataframe\">\n",
       "  <thead>\n",
       "    <tr style=\"text-align: right;\">\n",
       "      <th></th>\n",
       "      <th>price</th>\n",
       "      <th>owners</th>\n",
       "    </tr>\n",
       "    <tr>\n",
       "      <th>platforms</th>\n",
       "      <th></th>\n",
       "      <th></th>\n",
       "    </tr>\n",
       "  </thead>\n",
       "  <tbody>\n",
       "    <tr>\n",
       "      <th>windows;mac;linux</th>\n",
       "      <td>6.479760</td>\n",
       "      <td>294594.419208</td>\n",
       "    </tr>\n",
       "    <tr>\n",
       "      <th>mac</th>\n",
       "      <td>6.126667</td>\n",
       "      <td>31666.666667</td>\n",
       "    </tr>\n",
       "    <tr>\n",
       "      <th>windows;mac</th>\n",
       "      <td>6.105347</td>\n",
       "      <td>117337.888921</td>\n",
       "    </tr>\n",
       "    <tr>\n",
       "      <th>windows</th>\n",
       "      <td>6.009143</td>\n",
       "      <td>97933.471029</td>\n",
       "    </tr>\n",
       "    <tr>\n",
       "      <th>windows;linux</th>\n",
       "      <td>4.978328</td>\n",
       "      <td>103557.377049</td>\n",
       "    </tr>\n",
       "    <tr>\n",
       "      <th>mac;linux</th>\n",
       "      <td>3.490000</td>\n",
       "      <td>10000.0</td>\n",
       "    </tr>\n",
       "    <tr>\n",
       "      <th>linux</th>\n",
       "      <td>0.000000</td>\n",
       "      <td>10000.0</td>\n",
       "    </tr>\n",
       "  </tbody>\n",
       "</table>\n",
       "</div>"
      ],
      "text/plain": [
       "                      price         owners\n",
       "platforms                                 \n",
       "windows;mac;linux  6.479760  294594.419208\n",
       "mac                6.126667   31666.666667\n",
       "windows;mac        6.105347  117337.888921\n",
       "windows            6.009143   97933.471029\n",
       "windows;linux      4.978328  103557.377049\n",
       "mac;linux          3.490000        10000.0\n",
       "linux              0.000000        10000.0"
      ]
     },
     "execution_count": 61,
     "metadata": {},
     "output_type": "execute_result"
    }
   ],
   "source": [
    "# Group by platform and calculate the mean price and number of owners\n",
    "df.groupby('platforms')[['price', 'owners']].mean().sort_values(by='price', ascending = False)"
   ]
  },
  {
   "cell_type": "code",
   "execution_count": 62,
   "id": "82a8e89e",
   "metadata": {},
   "outputs": [
    {
     "data": {
      "text/html": [
       "<div>\n",
       "<style scoped>\n",
       "    .dataframe tbody tr th:only-of-type {\n",
       "        vertical-align: middle;\n",
       "    }\n",
       "\n",
       "    .dataframe tbody tr th {\n",
       "        vertical-align: top;\n",
       "    }\n",
       "\n",
       "    .dataframe thead th {\n",
       "        text-align: right;\n",
       "    }\n",
       "</style>\n",
       "<table border=\"1\" class=\"dataframe\">\n",
       "  <thead>\n",
       "    <tr style=\"text-align: right;\">\n",
       "      <th></th>\n",
       "      <th>price</th>\n",
       "      <th>owners</th>\n",
       "    </tr>\n",
       "    <tr>\n",
       "      <th>genres</th>\n",
       "      <th></th>\n",
       "      <th></th>\n",
       "    </tr>\n",
       "  </thead>\n",
       "  <tbody>\n",
       "    <tr>\n",
       "      <th>Animation &amp; Modeling;Design &amp; Illustration;Education;Software Training;Utilities;Web Publishing;Game Development</th>\n",
       "      <td>178.323333</td>\n",
       "      <td>18333.333333</td>\n",
       "    </tr>\n",
       "    <tr>\n",
       "      <th>Animation &amp; Modeling;Design &amp; Illustration;Video Production</th>\n",
       "      <td>154.990000</td>\n",
       "      <td>10000.0</td>\n",
       "    </tr>\n",
       "    <tr>\n",
       "      <th>Animation &amp; Modeling;Design &amp; Illustration;Education;Utilities;Web Publishing;Game Development</th>\n",
       "      <td>114.990000</td>\n",
       "      <td>10000.0</td>\n",
       "    </tr>\n",
       "    <tr>\n",
       "      <th>Animation &amp; Modeling;Design &amp; Illustration;Game Development</th>\n",
       "      <td>110.490000</td>\n",
       "      <td>10000.0</td>\n",
       "    </tr>\n",
       "    <tr>\n",
       "      <th>Violent;Gore;Action;Adventure;Indie;Massively Multiplayer</th>\n",
       "      <td>79.890000</td>\n",
       "      <td>10000.0</td>\n",
       "    </tr>\n",
       "    <tr>\n",
       "      <th>Animation &amp; Modeling;Education;Utilities;Web Publishing</th>\n",
       "      <td>69.990000</td>\n",
       "      <td>150000.0</td>\n",
       "    </tr>\n",
       "    <tr>\n",
       "      <th>Animation &amp; Modeling;Design &amp; Illustration;Education;Software Training;Utilities;Web Publishing</th>\n",
       "      <td>60.990000</td>\n",
       "      <td>75000.0</td>\n",
       "    </tr>\n",
       "    <tr>\n",
       "      <th>Animation &amp; Modeling</th>\n",
       "      <td>57.326667</td>\n",
       "      <td>10000.0</td>\n",
       "    </tr>\n",
       "    <tr>\n",
       "      <th>Design &amp; Illustration;Web Publishing</th>\n",
       "      <td>55.656667</td>\n",
       "      <td>370000.0</td>\n",
       "    </tr>\n",
       "    <tr>\n",
       "      <th>Sexual Content;Nudity;Violent;Gore;Action</th>\n",
       "      <td>49.990000</td>\n",
       "      <td>35000.0</td>\n",
       "    </tr>\n",
       "  </tbody>\n",
       "</table>\n",
       "</div>"
      ],
      "text/plain": [
       "                                                         price        owners\n",
       "genres                                                                      \n",
       "Animation & Modeling;Design & Illustration;Educ...  178.323333  18333.333333\n",
       "Animation & Modeling;Design & Illustration;Vide...  154.990000       10000.0\n",
       "Animation & Modeling;Design & Illustration;Educ...  114.990000       10000.0\n",
       "Animation & Modeling;Design & Illustration;Game...  110.490000       10000.0\n",
       "Violent;Gore;Action;Adventure;Indie;Massively M...   79.890000       10000.0\n",
       "Animation & Modeling;Education;Utilities;Web Pu...   69.990000      150000.0\n",
       "Animation & Modeling;Design & Illustration;Educ...   60.990000       75000.0\n",
       "Animation & Modeling                                 57.326667       10000.0\n",
       "Design & Illustration;Web Publishing                 55.656667      370000.0\n",
       "Sexual Content;Nudity;Violent;Gore;Action            49.990000       35000.0"
      ]
     },
     "execution_count": 62,
     "metadata": {},
     "output_type": "execute_result"
    }
   ],
   "source": [
    "# Group by genre and calculate the mean price and number of owners\n",
    "df.groupby('genres')[['price', 'owners']].mean().sort_values(by = 'price', ascending = False).head(10)"
   ]
  },
  {
   "cell_type": "markdown",
   "id": "112e92fc",
   "metadata": {},
   "source": [
    "# Outliers"
   ]
  },
  {
   "cell_type": "code",
   "execution_count": 63,
   "id": "ec48a881",
   "metadata": {},
   "outputs": [
    {
     "data": {
      "image/png": "[encoded data removed]",
      "text/plain": [
       "<Figure size 640x480 with 1 Axes>"
      ]
     },
     "metadata": {},
     "output_type": "display_data"
    },
    {
     "data": {
      "image/png": "[encoded data removed]",
      "text/plain": [
       "<Figure size 640x480 with 1 Axes>"
      ]
     },
     "metadata": {},
     "output_type": "display_data"
    }
   ],
   "source": [
    "# Box plot of the owners column\n",
    "plt.boxplot(df['owners'])\n",
    "plt.title('Number of Owners')\n",
    "plt.show()\n",
    "\n",
    "# Box plot of the price column\n",
    "plt.boxplot(df['price'])\n",
    "plt.title('Price')\n",
    "plt.show()"
   ]
  },
  {
   "cell_type": "markdown",
   "id": "cb64473d",
   "metadata": {},
   "source": [
    "# Release Date"
   ]
  },
  {
   "cell_type": "markdown",
   "id": "85a7cb8a",
   "metadata": {},
   "source": [
    "Release Year"
   ]
  },
  {
   "cell_type": "code",
   "execution_count": 64,
   "id": "2a911672",
   "metadata": {},
   "outputs": [],
   "source": [
    "df['release_date'] = pd.to_datetime(df['release_date'])"
   ]
  },
  {
   "cell_type": "code",
   "execution_count": 65,
   "id": "6f780114",
   "metadata": {},
   "outputs": [
    {
     "data": {
      "text/html": [
       "<div>\n",
       "<style scoped>\n",
       "    .dataframe tbody tr th:only-of-type {\n",
       "        vertical-align: middle;\n",
       "    }\n",
       "\n",
       "    .dataframe tbody tr th {\n",
       "        vertical-align: top;\n",
       "    }\n",
       "\n",
       "    .dataframe thead th {\n",
       "        text-align: right;\n",
       "    }\n",
       "</style>\n",
       "<table border=\"1\" class=\"dataframe\">\n",
       "  <thead>\n",
       "    <tr style=\"text-align: right;\">\n",
       "      <th></th>\n",
       "      <th>appid</th>\n",
       "      <th>name</th>\n",
       "      <th>release_date</th>\n",
       "      <th>english</th>\n",
       "      <th>developer</th>\n",
       "      <th>publisher</th>\n",
       "      <th>platforms</th>\n",
       "      <th>required_age</th>\n",
       "      <th>categories</th>\n",
       "      <th>genres</th>\n",
       "      <th>steamspy_tags</th>\n",
       "      <th>achievements</th>\n",
       "      <th>positive_ratings</th>\n",
       "      <th>negative_ratings</th>\n",
       "      <th>average_playtime</th>\n",
       "      <th>median_playtime</th>\n",
       "      <th>owners</th>\n",
       "      <th>price</th>\n",
       "    </tr>\n",
       "  </thead>\n",
       "  <tbody>\n",
       "    <tr>\n",
       "      <th>0</th>\n",
       "      <td>10</td>\n",
       "      <td>Counter-Strike</td>\n",
       "      <td>2000-11-01</td>\n",
       "      <td>English</td>\n",
       "      <td>Valve</td>\n",
       "      <td>Valve</td>\n",
       "      <td>windows;mac;linux</td>\n",
       "      <td>0</td>\n",
       "      <td>Multiplayer;Online Multi-Player;Local Multi-Pl...</td>\n",
       "      <td>Action</td>\n",
       "      <td>Action;FPS;Multiplayer</td>\n",
       "      <td>0</td>\n",
       "      <td>124534</td>\n",
       "      <td>3339</td>\n",
       "      <td>17612</td>\n",
       "      <td>317</td>\n",
       "      <td>15000000.0</td>\n",
       "      <td>7.19</td>\n",
       "    </tr>\n",
       "    <tr>\n",
       "      <th>1</th>\n",
       "      <td>20</td>\n",
       "      <td>Team Fortress Classic</td>\n",
       "      <td>1999-04-01</td>\n",
       "      <td>English</td>\n",
       "      <td>Valve</td>\n",
       "      <td>Valve</td>\n",
       "      <td>windows;mac;linux</td>\n",
       "      <td>0</td>\n",
       "      <td>Multiplayer;Online Multi-Player;Local Multi-Pl...</td>\n",
       "      <td>Action</td>\n",
       "      <td>Action;FPS;Multiplayer</td>\n",
       "      <td>0</td>\n",
       "      <td>3318</td>\n",
       "      <td>633</td>\n",
       "      <td>277</td>\n",
       "      <td>62</td>\n",
       "      <td>7500000.0</td>\n",
       "      <td>3.99</td>\n",
       "    </tr>\n",
       "    <tr>\n",
       "      <th>2</th>\n",
       "      <td>30</td>\n",
       "      <td>Day of Defeat</td>\n",
       "      <td>2003-05-01</td>\n",
       "      <td>English</td>\n",
       "      <td>Valve</td>\n",
       "      <td>Valve</td>\n",
       "      <td>windows;mac;linux</td>\n",
       "      <td>0</td>\n",
       "      <td>Multiplayer;Valve Anti-Cheat enabled</td>\n",
       "      <td>Action</td>\n",
       "      <td>FPS;World War II;Multiplayer</td>\n",
       "      <td>0</td>\n",
       "      <td>3416</td>\n",
       "      <td>398</td>\n",
       "      <td>187</td>\n",
       "      <td>34</td>\n",
       "      <td>7500000.0</td>\n",
       "      <td>3.99</td>\n",
       "    </tr>\n",
       "    <tr>\n",
       "      <th>3</th>\n",
       "      <td>40</td>\n",
       "      <td>Deathmatch Classic</td>\n",
       "      <td>2001-06-01</td>\n",
       "      <td>English</td>\n",
       "      <td>Valve</td>\n",
       "      <td>Valve</td>\n",
       "      <td>windows;mac;linux</td>\n",
       "      <td>0</td>\n",
       "      <td>Multiplayer;Online Multi-Player;Local Multi-Pl...</td>\n",
       "      <td>Action</td>\n",
       "      <td>Action;FPS;Multiplayer</td>\n",
       "      <td>0</td>\n",
       "      <td>1273</td>\n",
       "      <td>267</td>\n",
       "      <td>258</td>\n",
       "      <td>184</td>\n",
       "      <td>7500000.0</td>\n",
       "      <td>3.99</td>\n",
       "    </tr>\n",
       "    <tr>\n",
       "      <th>4</th>\n",
       "      <td>50</td>\n",
       "      <td>Half-Life: Opposing Force</td>\n",
       "      <td>1999-11-01</td>\n",
       "      <td>English</td>\n",
       "      <td>Gearbox Software</td>\n",
       "      <td>Valve</td>\n",
       "      <td>windows;mac;linux</td>\n",
       "      <td>0</td>\n",
       "      <td>Single-player;Multiplayer;Valve Anti-Cheat ena...</td>\n",
       "      <td>Action</td>\n",
       "      <td>FPS;Action;Sci-fi</td>\n",
       "      <td>0</td>\n",
       "      <td>5250</td>\n",
       "      <td>288</td>\n",
       "      <td>624</td>\n",
       "      <td>415</td>\n",
       "      <td>7500000.0</td>\n",
       "      <td>3.99</td>\n",
       "    </tr>\n",
       "  </tbody>\n",
       "</table>\n",
       "</div>"
      ],
      "text/plain": [
       "   appid                       name release_date  english         developer   \n",
       "0     10             Counter-Strike   2000-11-01  English             Valve  \\\n",
       "1     20      Team Fortress Classic   1999-04-01  English             Valve   \n",
       "2     30              Day of Defeat   2003-05-01  English             Valve   \n",
       "3     40         Deathmatch Classic   2001-06-01  English             Valve   \n",
       "4     50  Half-Life: Opposing Force   1999-11-01  English  Gearbox Software   \n",
       "\n",
       "  publisher          platforms  required_age   \n",
       "0     Valve  windows;mac;linux             0  \\\n",
       "1     Valve  windows;mac;linux             0   \n",
       "2     Valve  windows;mac;linux             0   \n",
       "3     Valve  windows;mac;linux             0   \n",
       "4     Valve  windows;mac;linux             0   \n",
       "\n",
       "                                          categories  genres   \n",
       "0  Multiplayer;Online Multi-Player;Local Multi-Pl...  Action  \\\n",
       "1  Multiplayer;Online Multi-Player;Local Multi-Pl...  Action   \n",
       "2               Multiplayer;Valve Anti-Cheat enabled  Action   \n",
       "3  Multiplayer;Online Multi-Player;Local Multi-Pl...  Action   \n",
       "4  Single-player;Multiplayer;Valve Anti-Cheat ena...  Action   \n",
       "\n",
       "                  steamspy_tags  achievements  positive_ratings   \n",
       "0        Action;FPS;Multiplayer             0            124534  \\\n",
       "1        Action;FPS;Multiplayer             0              3318   \n",
       "2  FPS;World War II;Multiplayer             0              3416   \n",
       "3        Action;FPS;Multiplayer             0              1273   \n",
       "4             FPS;Action;Sci-fi             0              5250   \n",
       "\n",
       "   negative_ratings  average_playtime  median_playtime      owners  price  \n",
       "0              3339             17612              317  15000000.0   7.19  \n",
       "1               633               277               62   7500000.0   3.99  \n",
       "2               398               187               34   7500000.0   3.99  \n",
       "3               267               258              184   7500000.0   3.99  \n",
       "4               288               624              415   7500000.0   3.99  "
      ]
     },
     "execution_count": 65,
     "metadata": {},
     "output_type": "execute_result"
    }
   ],
   "source": [
    "df.head()"
   ]
  },
  {
   "cell_type": "code",
   "execution_count": 66,
   "id": "53367f69",
   "metadata": {},
   "outputs": [
    {
     "data": {
      "text/plain": [
       "Text(0, 0.5, 'Total games')"
      ]
     },
     "execution_count": 66,
     "metadata": {},
     "output_type": "execute_result"
    },
    {
     "data": {
      "image/png": "[encoded data removed]",
      "text/plain": [
       "<Figure size 800x600 with 1 Axes>"
      ]
     },
     "metadata": {},
     "output_type": "display_data"
    }
   ],
   "source": [
    "yearly = df.groupby(df.release_date.dt.year.rename('release_year'))\\\n",
    "    .agg('count').appid.rename('count')\n",
    "\n",
    "sep_year = 2006\n",
    "\n",
    "plt.figure(figsize=(8,6))\n",
    "\n",
    "yearly_part = yearly[yearly.index < sep_year]\n",
    "sns.barplot(y=yearly_part, x=yearly_part.index)\n",
    "plt.title(f'Total games released in 1997-{sep_year-1} years')\n",
    "plt.xlabel('Year')\n",
    "plt.ylabel('Total games')"
   ]
  },
  {
   "cell_type": "code",
   "execution_count": 67,
   "id": "a790aa2f",
   "metadata": {},
   "outputs": [
    {
     "data": {
      "text/plain": [
       "Text(0, 0.5, 'Total games')"
      ]
     },
     "execution_count": 67,
     "metadata": {},
     "output_type": "execute_result"
    },
    {
     "data": {
      "image/png": "[encoded data removed]",
      "text/plain": [
       "<Figure size 800x600 with 1 Axes>"
      ]
     },
     "metadata": {},
     "output_type": "display_data"
    }
   ],
   "source": [
    "plt.figure(figsize=(8,6))\n",
    "\n",
    "yearly_part = yearly[yearly.index >= sep_year]\n",
    "sns.barplot(y=yearly_part, x=yearly_part.index)\n",
    "plt.title(f'Total games released in {sep_year}-2019 years')\n",
    "plt.xlabel('Year')\n",
    "plt.ylabel('Total games')"
   ]
  },
  {
   "cell_type": "markdown",
   "id": "cb0bedf5",
   "metadata": {},
   "source": [
    "# Key Take-aways"
   ]
  },
  {
   "cell_type": "markdown",
   "id": "c233e4fd",
   "metadata": {},
   "source": [
    "98% of the games support English\n",
    "<br>\n",
    "Choice of games are the top game developers creating up to 94 games\n",
    "<br>\n",
    "67.95% games support only windows and 17% of the games support all platforms windows, mac and linux\n",
    "<br>\n",
    "19.98% of the games support mac platforms and 12.97% support only Linux platforms\n",
    "<br>\n",
    "97.8% of the games have no minimum age requirement\n",
    "<br>\n",
    "28.62% of the games are in single player mode and over 80% of the games do not support multi player mode"
   ]
  },
  {
   "cell_type": "code",
   "execution_count": null,
   "id": "4384300d",
   "metadata": {},
   "outputs": [],
   "source": []
  }
 ],
 "metadata": {
  "kernelspec": {
   "display_name": "Python 3 (ipykernel)",
   "language": "python",
   "name": "python3"
  },
  "language_info": {
   "codemirror_mode": {
    "name": "ipython",
    "version": 3
   },
   "file_extension": ".py",
   "mimetype": "text/x-python",
   "name": "python",
   "nbconvert_exporter": "python",
   "pygments_lexer": "ipython3",
   "version": "3.9.16"
  }
 },
 "nbformat": 4,
 "nbformat_minor": 5
}
